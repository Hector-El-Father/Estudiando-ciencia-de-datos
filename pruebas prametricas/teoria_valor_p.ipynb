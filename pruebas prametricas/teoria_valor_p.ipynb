{
 "cells": [
  {
   "cell_type": "markdown",
   "id": "0542ab3f",
   "metadata": {},
   "source": [
    "### Las pruebas de hipotesis\n",
    "\n",
    "test A/B\n",
    "en un experimento tu valor p indica que no hay diferencia entre la frecuencia de micronucleos entre el controls y dosis, la probabilidad de obtener\n",
    "una diferencia como la que se midio es del 3%\n",
    "- una hipotesis es una afirmacion propuesta sobre un fenomeno que puede ser evaluada utilizando los datos recolectados\n",
    "- la hipotesis nula (h0), supone que no hay efectos o diferencias significativas\n",
    "- hipotesis alternativas (h1), es lo opuesto de la hipotesis nula: supone que si hay efectos o diferencias alternativas\n",
    "\n",
    "ejemplo\n",
    "\n",
    "- hipotesis nula(h0) la muestra A no genera mas micronucleos que el control\n",
    "- hipotesis alternativa (h1) la dosis A genera mas micronucleos que el control\n",
    "\n",
    "Una prueba de hipotesis nos permite cuantificar, con base en los datos que tenemos, que tan probable es que la hipotesis nula sea verdadera\n"
   ]
  },
  {
   "cell_type": "markdown",
   "id": "15366f47",
   "metadata": {},
   "source": [
    "al definir una prueba de hipotesis, la idea es cuantificar la probabilidad de que la hipotesis nula sea verdadera, y esa probabilidad recibe formalmente el nombre del valor p, dependiendo de dicho valor podremos apoyrar o rechazar la hipotesis nula\n",
    "- si el valor de p es alto, creemos mas en la hipotesis nula\n",
    "- p bajo -> evidencia contra h0\n",
    "- p alto -> no hay evidencia contra h0, pero no prueba que h0 sea verdadera"
   ]
  },
  {
   "cell_type": "markdown",
   "id": "3cfce345",
   "metadata": {},
   "source": [
    "en toda prueba de hipotesis, estamos buscando calcular la probabilidad de que los datos esten asociados a la hipotesis nula\n",
    "la distribucion nula\n",
    "- el valor p es la probabilidad de encontrar un valor extremo en la distribucion nula\n",
    "- si no llegamos a saber si habra un incremento o decremento, podemos evaluar ambas probabilidades en las colas de la campana\n",
    "- del lado izquierdo de la campana podemos medir un decremento\n",
    "- del lado derecho de la campana podemos medir un incremento"
   ]
  },
  {
   "cell_type": "markdown",
   "id": "c00a5192",
   "metadata": {},
   "source": [
    "## que es la significancia estadistica? alpha\n",
    "\n",
    "Que tan pequeño debe ser el valor p para considerar que es poco probable?\n",
    "y aceptar la hipotesis alternativa\n",
    "- un valor estandar es un p <0.05 se rechaza la hipotesis nula, y se acepta la hipotesis alternativa\n",
    "- y si p>0.05 se acepta la hipotesis nula\n",
    "\n",
    "Es una manera de determinar cuando un resultado obtenido es mas extremo que lo que la pura suerte prodia producir\n",
    "\n",
    "### alpha es el umbral que usamos para definir que tan pequeño debe ser p para considerar que el resultado es estadisticamente dignifativo\n",
    "alpha en este caso toma el valor de 0.05"
   ]
  },
  {
   "cell_type": "markdown",
   "id": "d1b7d37b",
   "metadata": {},
   "source": []
  }
 ],
 "metadata": {
  "kernelspec": {
   "display_name": ".venv",
   "language": "python",
   "name": "python3"
  },
  "language_info": {
   "codemirror_mode": {
    "name": "ipython",
    "version": 3
   },
   "file_extension": ".py",
   "mimetype": "text/x-python",
   "name": "python",
   "nbconvert_exporter": "python",
   "pygments_lexer": "ipython3",
   "version": "3.11.9"
  }
 },
 "nbformat": 4,
 "nbformat_minor": 5
}
