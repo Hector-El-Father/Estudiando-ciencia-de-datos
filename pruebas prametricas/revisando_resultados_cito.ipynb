{
 "cells": [
  {
   "cell_type": "code",
   "execution_count": 2,
   "id": "6d40fe47",
   "metadata": {},
   "outputs": [],
   "source": [
    "import matplotlib.pyplot as plt\n",
    "import seaborn as sns\n",
    "import pandas as pd\n",
    "import numpy as np"
   ]
  },
  {
   "cell_type": "code",
   "execution_count": 3,
   "id": "3b02a521",
   "metadata": {},
   "outputs": [
    {
     "data": {
      "application/vnd.microsoft.datawrangler.viewer.v0+json": {
       "columns": [
        {
         "name": "index",
         "rawType": "int64",
         "type": "integer"
        },
        {
         "name": "dosis",
         "rawType": "object",
         "type": "string"
        },
        {
         "name": "tiempo",
         "rawType": "int64",
         "type": "integer"
        },
        {
         "name": "valor",
         "rawType": "int64",
         "type": "integer"
        }
       ],
       "ref": "cf3455fe-247a-4b16-ac53-f9f70b6b66a1",
       "rows": [
        [
         "0",
         "Testigo negativo",
         "0",
         "123"
        ],
        [
         "1",
         "Testigo negativo",
         "0",
         "117"
        ],
        [
         "2",
         "Testigo negativo",
         "0",
         "113"
        ],
        [
         "3",
         "Testigo negativo",
         "0",
         "119"
        ],
        [
         "4",
         "Testigo negativo",
         "0",
         "112"
        ],
        [
         "5",
         "Testigo negativo",
         "0",
         "126"
        ],
        [
         "6",
         "Dosis Baja",
         "0",
         "126"
        ],
        [
         "7",
         "Dosis Baja",
         "0",
         "130"
        ],
        [
         "8",
         "Dosis Baja",
         "0",
         "117"
        ],
        [
         "9",
         "Dosis Baja",
         "0",
         "116"
        ],
        [
         "10",
         "Dosis Baja",
         "0",
         "121"
        ],
        [
         "11",
         "Dosis Baja",
         "0",
         "116"
        ],
        [
         "12",
         "Dosis Media",
         "0",
         "109"
        ],
        [
         "13",
         "Dosis Media",
         "0",
         "116"
        ],
        [
         "14",
         "Dosis Media",
         "0",
         "107"
        ],
        [
         "15",
         "Dosis Media",
         "0",
         "123"
        ],
        [
         "16",
         "Dosis Media",
         "0",
         "132"
        ],
        [
         "17",
         "Dosis Media",
         "0",
         "126"
        ],
        [
         "18",
         "Dosis Alta",
         "0",
         "123"
        ],
        [
         "19",
         "Dosis Alta",
         "0",
         "112"
        ],
        [
         "20",
         "Dosis Alta",
         "0",
         "102"
        ],
        [
         "21",
         "Dosis Alta",
         "0",
         "114"
        ],
        [
         "22",
         "Dosis Alta",
         "0",
         "126"
        ],
        [
         "23",
         "Dosis Alta",
         "0",
         "117"
        ],
        [
         "24",
         "C+ (Doxo)",
         "0",
         "126"
        ],
        [
         "25",
         "C+ (Doxo)",
         "0",
         "115"
        ],
        [
         "26",
         "C+ (Doxo)",
         "0",
         "118"
        ],
        [
         "27",
         "C+ (Doxo)",
         "0",
         "123"
        ],
        [
         "28",
         "C+ (Doxo)",
         "0",
         "120"
        ],
        [
         "29",
         "C+ (Doxo)",
         "0",
         "113"
        ],
        [
         "30",
         "Testigo negativo",
         "24",
         "143"
        ],
        [
         "31",
         "Testigo negativo",
         "24",
         "107"
        ],
        [
         "32",
         "Testigo negativo",
         "24",
         "115"
        ],
        [
         "33",
         "Testigo negativo",
         "24",
         "123"
        ],
        [
         "34",
         "Testigo negativo",
         "24",
         "112"
        ],
        [
         "35",
         "Testigo negativo",
         "24",
         "126"
        ],
        [
         "36",
         "Dosis Baja",
         "24",
         "111"
        ],
        [
         "37",
         "Dosis Baja",
         "24",
         "129"
        ],
        [
         "38",
         "Dosis Baja",
         "24",
         "112"
        ],
        [
         "39",
         "Dosis Baja",
         "24",
         "129"
        ],
        [
         "40",
         "Dosis Baja",
         "24",
         "117"
        ],
        [
         "41",
         "Dosis Baja",
         "24",
         "123"
        ],
        [
         "42",
         "Dosis Media",
         "24",
         "54"
        ],
        [
         "43",
         "Dosis Media",
         "24",
         "61"
        ],
        [
         "44",
         "Dosis Media",
         "24",
         "69"
        ],
        [
         "45",
         "Dosis Media",
         "24",
         "60"
        ],
        [
         "46",
         "Dosis Media",
         "24",
         "63"
        ],
        [
         "47",
         "Dosis Media",
         "24",
         "80"
        ],
        [
         "48",
         "Dosis Alta",
         "24",
         "54"
        ],
        [
         "49",
         "Dosis Alta",
         "24",
         "51"
        ]
       ],
       "shape": {
        "columns": 3,
        "rows": 150
       }
      },
      "text/html": [
       "<div>\n",
       "<style scoped>\n",
       "    .dataframe tbody tr th:only-of-type {\n",
       "        vertical-align: middle;\n",
       "    }\n",
       "\n",
       "    .dataframe tbody tr th {\n",
       "        vertical-align: top;\n",
       "    }\n",
       "\n",
       "    .dataframe thead th {\n",
       "        text-align: right;\n",
       "    }\n",
       "</style>\n",
       "<table border=\"1\" class=\"dataframe\">\n",
       "  <thead>\n",
       "    <tr style=\"text-align: right;\">\n",
       "      <th></th>\n",
       "      <th>dosis</th>\n",
       "      <th>tiempo</th>\n",
       "      <th>valor</th>\n",
       "    </tr>\n",
       "  </thead>\n",
       "  <tbody>\n",
       "    <tr>\n",
       "      <th>0</th>\n",
       "      <td>Testigo negativo</td>\n",
       "      <td>0</td>\n",
       "      <td>123</td>\n",
       "    </tr>\n",
       "    <tr>\n",
       "      <th>1</th>\n",
       "      <td>Testigo negativo</td>\n",
       "      <td>0</td>\n",
       "      <td>117</td>\n",
       "    </tr>\n",
       "    <tr>\n",
       "      <th>2</th>\n",
       "      <td>Testigo negativo</td>\n",
       "      <td>0</td>\n",
       "      <td>113</td>\n",
       "    </tr>\n",
       "    <tr>\n",
       "      <th>3</th>\n",
       "      <td>Testigo negativo</td>\n",
       "      <td>0</td>\n",
       "      <td>119</td>\n",
       "    </tr>\n",
       "    <tr>\n",
       "      <th>4</th>\n",
       "      <td>Testigo negativo</td>\n",
       "      <td>0</td>\n",
       "      <td>112</td>\n",
       "    </tr>\n",
       "    <tr>\n",
       "      <th>...</th>\n",
       "      <td>...</td>\n",
       "      <td>...</td>\n",
       "      <td>...</td>\n",
       "    </tr>\n",
       "    <tr>\n",
       "      <th>145</th>\n",
       "      <td>C+ (Doxo)</td>\n",
       "      <td>96</td>\n",
       "      <td>108</td>\n",
       "    </tr>\n",
       "    <tr>\n",
       "      <th>146</th>\n",
       "      <td>C+ (Doxo)</td>\n",
       "      <td>96</td>\n",
       "      <td>84</td>\n",
       "    </tr>\n",
       "    <tr>\n",
       "      <th>147</th>\n",
       "      <td>C+ (Doxo)</td>\n",
       "      <td>96</td>\n",
       "      <td>120</td>\n",
       "    </tr>\n",
       "    <tr>\n",
       "      <th>148</th>\n",
       "      <td>C+ (Doxo)</td>\n",
       "      <td>96</td>\n",
       "      <td>105</td>\n",
       "    </tr>\n",
       "    <tr>\n",
       "      <th>149</th>\n",
       "      <td>C+ (Doxo)</td>\n",
       "      <td>96</td>\n",
       "      <td>109</td>\n",
       "    </tr>\n",
       "  </tbody>\n",
       "</table>\n",
       "<p>150 rows × 3 columns</p>\n",
       "</div>"
      ],
      "text/plain": [
       "                dosis  tiempo  valor\n",
       "0    Testigo negativo       0    123\n",
       "1    Testigo negativo       0    117\n",
       "2    Testigo negativo       0    113\n",
       "3    Testigo negativo       0    119\n",
       "4    Testigo negativo       0    112\n",
       "..                ...     ...    ...\n",
       "145         C+ (Doxo)      96    108\n",
       "146         C+ (Doxo)      96     84\n",
       "147         C+ (Doxo)      96    120\n",
       "148         C+ (Doxo)      96    105\n",
       "149         C+ (Doxo)      96    109\n",
       "\n",
       "[150 rows x 3 columns]"
      ]
     },
     "execution_count": 3,
     "metadata": {},
     "output_type": "execute_result"
    }
   ],
   "source": [
    "df=pd.read_excel(\"/Users/hectorrr/proyectos/pruebas prametricas/archivo_varias_hojas_resultados.xlsx\", sheet_name=\"largo_cito\")\n",
    "df"
   ]
  },
  {
   "cell_type": "code",
   "execution_count": 4,
   "id": "8f330ddf",
   "metadata": {},
   "outputs": [
    {
     "data": {
      "image/png": "[encoded data removed]",
      "text/plain": [
       "<Figure size 1500x300 with 1 Axes>"
      ]
     },
     "metadata": {},
     "output_type": "display_data"
    }
   ],
   "source": [
    "plt.figure(figsize=(15,3))\n",
    "sns.boxplot(df, x=\"dosis\", y=\"valor\")\n",
    "plt.show()"
   ]
  },
  {
   "cell_type": "code",
   "execution_count": 5,
   "id": "6cd3eb33",
   "metadata": {},
   "outputs": [
    {
     "data": {
      "image/png": "[encoded data removed]",
      "text/plain": [
       "<Figure size 1500x300 with 1 Axes>"
      ]
     },
     "metadata": {},
     "output_type": "display_data"
    }
   ],
   "source": [
    "plt.figure(figsize=(15,3))\n",
    "sns.histplot(df[\"valor\"])\n",
    "plt.show()"
   ]
  },
  {
   "cell_type": "code",
   "execution_count": 6,
   "id": "b455eef5",
   "metadata": {},
   "outputs": [
    {
     "data": {
      "application/vnd.microsoft.datawrangler.viewer.v0+json": {
       "columns": [
        {
         "name": "index",
         "rawType": "object",
         "type": "string"
        },
        {
         "name": "tiempo",
         "rawType": "float64",
         "type": "float"
        },
        {
         "name": "valor",
         "rawType": "float64",
         "type": "float"
        }
       ],
       "ref": "da26ffae-b98f-4c60-b958-eb2f192b5f86",
       "rows": [
        [
         "count",
         "150.0",
         "150.0"
        ],
        [
         "mean",
         "48.0",
         "91.2"
        ],
        [
         "std",
         "34.054831428508955",
         "28.13677046764595"
        ],
        [
         "min",
         "0.0",
         "46.0"
        ],
        [
         "25%",
         "24.0",
         "63.0"
        ],
        [
         "50%",
         "48.0",
         "94.5"
        ],
        [
         "75%",
         "72.0",
         "117.0"
        ],
        [
         "max",
         "96.0",
         "143.0"
        ]
       ],
       "shape": {
        "columns": 2,
        "rows": 8
       }
      },
      "text/html": [
       "<div>\n",
       "<style scoped>\n",
       "    .dataframe tbody tr th:only-of-type {\n",
       "        vertical-align: middle;\n",
       "    }\n",
       "\n",
       "    .dataframe tbody tr th {\n",
       "        vertical-align: top;\n",
       "    }\n",
       "\n",
       "    .dataframe thead th {\n",
       "        text-align: right;\n",
       "    }\n",
       "</style>\n",
       "<table border=\"1\" class=\"dataframe\">\n",
       "  <thead>\n",
       "    <tr style=\"text-align: right;\">\n",
       "      <th></th>\n",
       "      <th>tiempo</th>\n",
       "      <th>valor</th>\n",
       "    </tr>\n",
       "  </thead>\n",
       "  <tbody>\n",
       "    <tr>\n",
       "      <th>count</th>\n",
       "      <td>150.000000</td>\n",
       "      <td>150.00000</td>\n",
       "    </tr>\n",
       "    <tr>\n",
       "      <th>mean</th>\n",
       "      <td>48.000000</td>\n",
       "      <td>91.20000</td>\n",
       "    </tr>\n",
       "    <tr>\n",
       "      <th>std</th>\n",
       "      <td>34.054831</td>\n",
       "      <td>28.13677</td>\n",
       "    </tr>\n",
       "    <tr>\n",
       "      <th>min</th>\n",
       "      <td>0.000000</td>\n",
       "      <td>46.00000</td>\n",
       "    </tr>\n",
       "    <tr>\n",
       "      <th>25%</th>\n",
       "      <td>24.000000</td>\n",
       "      <td>63.00000</td>\n",
       "    </tr>\n",
       "    <tr>\n",
       "      <th>50%</th>\n",
       "      <td>48.000000</td>\n",
       "      <td>94.50000</td>\n",
       "    </tr>\n",
       "    <tr>\n",
       "      <th>75%</th>\n",
       "      <td>72.000000</td>\n",
       "      <td>117.00000</td>\n",
       "    </tr>\n",
       "    <tr>\n",
       "      <th>max</th>\n",
       "      <td>96.000000</td>\n",
       "      <td>143.00000</td>\n",
       "    </tr>\n",
       "  </tbody>\n",
       "</table>\n",
       "</div>"
      ],
      "text/plain": [
       "           tiempo      valor\n",
       "count  150.000000  150.00000\n",
       "mean    48.000000   91.20000\n",
       "std     34.054831   28.13677\n",
       "min      0.000000   46.00000\n",
       "25%     24.000000   63.00000\n",
       "50%     48.000000   94.50000\n",
       "75%     72.000000  117.00000\n",
       "max     96.000000  143.00000"
      ]
     },
     "execution_count": 6,
     "metadata": {},
     "output_type": "execute_result"
    }
   ],
   "source": [
    "df.describe()"
   ]
  },
  {
   "cell_type": "code",
   "execution_count": 9,
   "id": "11edc762",
   "metadata": {},
   "outputs": [],
   "source": [
    "import numpy as np\n",
    "def estimacion_boot(arreglo, M=1000, ic=0.95):\n",
    "    # Inicialización\n",
    "    n = len(arreglo)   # Tamaño del set de datos\n",
    "    muestras = np.zeros((M,n)) # Arreglo de Mxn con las muestras\n",
    "    # Muestreo aleatorio con reemplazo\n",
    "    for m in range(M):\n",
    "        muestras[m,:] = np.random.choice(arreglo, size=n, replace=True)  \n",
    "    # Calcular distribución muestral \"bootstrapping\" (medias)\n",
    "    d_muestral_boot = muestras.mean(axis=1)\n",
    "    \n",
    "    # Estimar estadística\n",
    "    media_boot = d_muestral_boot.mean()\n",
    "    \n",
    "    # Estimar error estándar\n",
    "    error_boot = d_muestral_boot.std()\n",
    "    \n",
    "    # Estimar intervalo de confianza\n",
    "    lim_izq = (1-ic)/2 * 100\n",
    "    lim_der = (ic + (1-ic)/2) * 100\n",
    "    \n",
    "    perc_izq = np.percentile(d_muestral_boot, lim_izq)\n",
    "    perc_der = np.percentile(d_muestral_boot, lim_der)\n",
    "    # Retornar estadística estimada, error estándar e intervalo de confianza\n",
    "    return media_boot, error_boot, [perc_izq, perc_der]  "
   ]
  },
  {
   "cell_type": "code",
   "execution_count": 7,
   "id": "74e54a0a",
   "metadata": {},
   "outputs": [
    {
     "data": {
      "application/vnd.microsoft.datawrangler.viewer.v0+json": {
       "columns": [
        {
         "name": "dosis",
         "rawType": "object",
         "type": "string"
        },
        {
         "name": "count",
         "rawType": "int64",
         "type": "integer"
        }
       ],
       "ref": "ac2667a4-b34c-4680-ae52-dfe183cfa959",
       "rows": [
        [
         "Testigo negativo",
         "30"
        ],
        [
         "Dosis Baja",
         "30"
        ],
        [
         "Dosis Media",
         "30"
        ],
        [
         "Dosis Alta",
         "30"
        ],
        [
         "C+ (Doxo)",
         "30"
        ]
       ],
       "shape": {
        "columns": 1,
        "rows": 5
       }
      },
      "text/plain": [
       "dosis\n",
       "Testigo negativo    30\n",
       "Dosis Baja          30\n",
       "Dosis Media         30\n",
       "Dosis Alta          30\n",
       "C+ (Doxo)           30\n",
       "Name: count, dtype: int64"
      ]
     },
     "execution_count": 7,
     "metadata": {},
     "output_type": "execute_result"
    }
   ],
   "source": [
    "df.dosis.value_counts()"
   ]
  },
  {
   "cell_type": "code",
   "execution_count": 15,
   "id": "4bc407bf",
   "metadata": {},
   "outputs": [
    {
     "name": "stdout",
     "output_type": "stream",
     "text": [
      "118.32166666666667 1.3305669217793346 [np.float64(115.71583333333334), np.float64(121.38583333333334)]\n",
      "102.167 4.108185582197788 [np.float64(94.24416666666667), np.float64(109.2525)]\n",
      "74.91966666666666 4.215904002175044 [np.float64(67.52416666666667), np.float64(83.33416666666665)]\n",
      "69.80666666666667 4.714464739265506 [np.float64(62.22666666666667), np.float64(79.205)]\n",
      "90.70533333333331 4.5936059909400155 [np.float64(82.965), np.float64(99.5375)]\n"
     ]
    }
   ],
   "source": [
    "dosis_1=df[df[\"dosis\"]==\"Testigo negativo\"]\n",
    "dosis_2=df[df[\"dosis\"]==\"Dosis Baja\"]\n",
    "dosis_3=df[df[\"dosis\"]==\"Dosis Media\"]\n",
    "dosis_4=df[df[\"dosis\"]==\"Dosis Alta\"]\n",
    "dosis_5=df[df[\"dosis\"]==\"C+ (Doxo)\"]\n",
    "\n",
    "estimacion_1, error_1, limites_1=estimacion_boot(dosis_1[\"valor\"], M=100, ic=0.95)\n",
    "estimacion_2, error_2, limites_2=estimacion_boot(dosis_2[\"valor\"],M=100, ic=0.95)\n",
    "estimacion_3, error_3, limites_3=estimacion_boot(dosis_3[\"valor\"],M=100, ic=0.95)\n",
    "estimacion_4, error_4, limites_4=estimacion_boot(dosis_4[\"valor\"],M=100, ic=0.95)\n",
    "estimacion_5, error_5, limites_5=estimacion_boot(dosis_5[\"valor\"],M=100, ic=0.95)\n",
    "print(estimacion_1, error_1, limites_1)\n",
    "print(estimacion_2, error_2, limites_2)\n",
    "print(estimacion_3, error_3, limites_3)\n",
    "print(estimacion_4, error_4, limites_4)\n",
    "print(estimacion_5, error_5, limites_5)\n"
   ]
  },
  {
   "cell_type": "code",
   "execution_count": null,
   "id": "c83a6bd3",
   "metadata": {},
   "outputs": [],
   "source": []
  }
 ],
 "metadata": {
  "kernelspec": {
   "display_name": ".venv",
   "language": "python",
   "name": "python3"
  },
  "language_info": {
   "codemirror_mode": {
    "name": "ipython",
    "version": 3
   },
   "file_extension": ".py",
   "mimetype": "text/x-python",
   "name": "python",
   "nbconvert_exporter": "python",
   "pygments_lexer": "ipython3",
   "version": "3.11.9"
  }
 },
 "nbformat": 4,
 "nbformat_minor": 5
}
