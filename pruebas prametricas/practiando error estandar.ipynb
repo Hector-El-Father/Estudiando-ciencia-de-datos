{
 "cells": [
  {
   "cell_type": "code",
   "execution_count": 1,
   "id": "f7f4c472",
   "metadata": {},
   "outputs": [
    {
     "data": {
      "application/vnd.microsoft.datawrangler.viewer.v0+json": {
       "columns": [
        {
         "name": "index",
         "rawType": "int64",
         "type": "integer"
        },
        {
         "name": "estado",
         "rawType": "object",
         "type": "string"
        },
        {
         "name": "monto",
         "rawType": "int64",
         "type": "integer"
        }
       ],
       "ref": "5a2e7aba-6632-4990-909e-a7fd2a9a3f1e",
       "rows": [
        [
         "0",
         "Al día",
         "2500"
        ],
        [
         "1",
         "Al día",
         "5600"
        ],
        [
         "2",
         "Al día",
         "5375"
        ],
        [
         "3",
         "Al día",
         "5000"
        ],
        [
         "4",
         "Al día",
         "21000"
        ],
        [
         "5",
         "Al día",
         "12500"
        ],
        [
         "6",
         "Al día",
         "8200"
        ],
        [
         "7",
         "Al día",
         "17500"
        ],
        [
         "8",
         "Al día",
         "18825"
        ],
        [
         "9",
         "Al día",
         "28000"
        ],
        [
         "10",
         "Al día",
         "13475"
        ],
        [
         "11",
         "Al día",
         "20000"
        ],
        [
         "12",
         "Al día",
         "21000"
        ],
        [
         "13",
         "Al día",
         "26000"
        ],
        [
         "14",
         "Al día",
         "7000"
        ],
        [
         "15",
         "Al día",
         "16000"
        ],
        [
         "16",
         "Al día",
         "11875"
        ],
        [
         "17",
         "Al día",
         "30000"
        ],
        [
         "18",
         "Al día",
         "18000"
        ],
        [
         "19",
         "Al día",
         "20000"
        ],
        [
         "20",
         "Al día",
         "9000"
        ],
        [
         "21",
         "Al día",
         "20000"
        ],
        [
         "22",
         "Al día",
         "15000"
        ],
        [
         "23",
         "Al día",
         "6000"
        ],
        [
         "24",
         "Al día",
         "20000"
        ],
        [
         "25",
         "Al día",
         "18000"
        ],
        [
         "26",
         "Al día",
         "8000"
        ],
        [
         "27",
         "Al día",
         "35000"
        ],
        [
         "28",
         "Al día",
         "12000"
        ],
        [
         "29",
         "Al día",
         "4000"
        ],
        [
         "30",
         "Al día",
         "8000"
        ],
        [
         "31",
         "Al día",
         "24000"
        ],
        [
         "32",
         "Al día",
         "28000"
        ],
        [
         "33",
         "Al día",
         "16000"
        ],
        [
         "34",
         "Al día",
         "24500"
        ],
        [
         "35",
         "Al día",
         "12375"
        ],
        [
         "36",
         "Al día",
         "20675"
        ],
        [
         "37",
         "Al día",
         "20500"
        ],
        [
         "38",
         "Al día",
         "29000"
        ],
        [
         "39",
         "Al día",
         "8250"
        ],
        [
         "40",
         "Al día",
         "35000"
        ],
        [
         "41",
         "Al día",
         "16000"
        ],
        [
         "42",
         "Al día",
         "12000"
        ],
        [
         "43",
         "Al día",
         "22250"
        ],
        [
         "44",
         "Al día",
         "8200"
        ],
        [
         "45",
         "Al día",
         "15000"
        ],
        [
         "46",
         "Al día",
         "15700"
        ],
        [
         "47",
         "Al día",
         "35000"
        ],
        [
         "48",
         "Al día",
         "12000"
        ],
        [
         "49",
         "Al día",
         "13000"
        ]
       ],
       "shape": {
        "columns": 2,
        "rows": 11277
       }
      },
      "text/html": [
       "<div>\n",
       "<style scoped>\n",
       "    .dataframe tbody tr th:only-of-type {\n",
       "        vertical-align: middle;\n",
       "    }\n",
       "\n",
       "    .dataframe tbody tr th {\n",
       "        vertical-align: top;\n",
       "    }\n",
       "\n",
       "    .dataframe thead th {\n",
       "        text-align: right;\n",
       "    }\n",
       "</style>\n",
       "<table border=\"1\" class=\"dataframe\">\n",
       "  <thead>\n",
       "    <tr style=\"text-align: right;\">\n",
       "      <th></th>\n",
       "      <th>estado</th>\n",
       "      <th>monto</th>\n",
       "    </tr>\n",
       "  </thead>\n",
       "  <tbody>\n",
       "    <tr>\n",
       "      <th>0</th>\n",
       "      <td>Al día</td>\n",
       "      <td>2500</td>\n",
       "    </tr>\n",
       "    <tr>\n",
       "      <th>1</th>\n",
       "      <td>Al día</td>\n",
       "      <td>5600</td>\n",
       "    </tr>\n",
       "    <tr>\n",
       "      <th>2</th>\n",
       "      <td>Al día</td>\n",
       "      <td>5375</td>\n",
       "    </tr>\n",
       "    <tr>\n",
       "      <th>3</th>\n",
       "      <td>Al día</td>\n",
       "      <td>5000</td>\n",
       "    </tr>\n",
       "    <tr>\n",
       "      <th>4</th>\n",
       "      <td>Al día</td>\n",
       "      <td>21000</td>\n",
       "    </tr>\n",
       "    <tr>\n",
       "      <th>...</th>\n",
       "      <td>...</td>\n",
       "      <td>...</td>\n",
       "    </tr>\n",
       "    <tr>\n",
       "      <th>11272</th>\n",
       "      <td>Pagado</td>\n",
       "      <td>6000</td>\n",
       "    </tr>\n",
       "    <tr>\n",
       "      <th>11273</th>\n",
       "      <td>Pagado</td>\n",
       "      <td>14400</td>\n",
       "    </tr>\n",
       "    <tr>\n",
       "      <th>11274</th>\n",
       "      <td>Pagado</td>\n",
       "      <td>15000</td>\n",
       "    </tr>\n",
       "    <tr>\n",
       "      <th>11275</th>\n",
       "      <td>Pagado</td>\n",
       "      <td>24000</td>\n",
       "    </tr>\n",
       "    <tr>\n",
       "      <th>11276</th>\n",
       "      <td>Pagado</td>\n",
       "      <td>35000</td>\n",
       "    </tr>\n",
       "  </tbody>\n",
       "</table>\n",
       "<p>11277 rows × 2 columns</p>\n",
       "</div>"
      ],
      "text/plain": [
       "       estado  monto\n",
       "0      Al día   2500\n",
       "1      Al día   5600\n",
       "2      Al día   5375\n",
       "3      Al día   5000\n",
       "4      Al día  21000\n",
       "...       ...    ...\n",
       "11272  Pagado   6000\n",
       "11273  Pagado  14400\n",
       "11274  Pagado  15000\n",
       "11275  Pagado  24000\n",
       "11276  Pagado  35000\n",
       "\n",
       "[11277 rows x 2 columns]"
      ]
     },
     "execution_count": 1,
     "metadata": {},
     "output_type": "execute_result"
    }
   ],
   "source": [
    "import pandas as pd\n",
    "\n",
    "ruta = \"/Users/hectorrr/proyectos/pruebas prametricas/dataset-prestamos.csv\"\n",
    "df = pd.read_csv(ruta)\n",
    "df"
   ]
  },
  {
   "cell_type": "code",
   "execution_count": 2,
   "id": "dac949f9",
   "metadata": {},
   "outputs": [
    {
     "data": {
      "application/vnd.microsoft.datawrangler.viewer.v0+json": {
       "columns": [
        {
         "name": "estado",
         "rawType": "object",
         "type": "string"
        },
        {
         "name": "count",
         "rawType": "int64",
         "type": "integer"
        }
       ],
       "ref": "3bb2b8a6-93de-42cd-9607-30b47f525e75",
       "rows": [
        [
         "Al día",
         "7294"
        ],
        [
         "Pagado",
         "3907"
        ],
        [
         "Impago",
         "76"
        ]
       ],
       "shape": {
        "columns": 1,
        "rows": 3
       }
      },
      "text/plain": [
       "estado\n",
       "Al día    7294\n",
       "Pagado    3907\n",
       "Impago      76\n",
       "Name: count, dtype: int64"
      ]
     },
     "execution_count": 2,
     "metadata": {},
     "output_type": "execute_result"
    }
   ],
   "source": [
    "df.estado.value_counts()"
   ]
  },
  {
   "cell_type": "code",
   "execution_count": 7,
   "id": "20cc1008",
   "metadata": {},
   "outputs": [
    {
     "data": {
      "image/png": "[encoded data removed]",
      "text/plain": [
       "<Figure size 1000x400 with 1 Axes>"
      ]
     },
     "metadata": {},
     "output_type": "display_data"
    }
   ],
   "source": [
    "import seaborn as sns\n",
    "import matplotlib.pyplot as plt\n",
    "plt.figure(figsize=(10,4))\n",
    "sns.boxplot(df, x=\"estado\", y=\"monto\")\n",
    "plt.show()"
   ]
  },
  {
   "cell_type": "code",
   "execution_count": 13,
   "id": "03206ea0",
   "metadata": {},
   "outputs": [],
   "source": [
    "import numpy as np\n",
    "def estimacion_boot(arreglo, M=1000, ic=0.95):\n",
    "    # Inicialización\n",
    "    n = len(arreglo)   # Tamaño del set de datos\n",
    "    muestras = np.zeros((M,n)) # Arreglo de Mxn con las muestras\n",
    "    # Muestreo aleatorio con reemplazo\n",
    "    for m in range(M):\n",
    "        muestras[m,:] = np.random.choice(arreglo, size=n, replace=True)  \n",
    "    # Calcular distribución muestral \"bootstrapping\" (medias)\n",
    "    d_muestral_boot = muestras.mean(axis=1)\n",
    "    \n",
    "    # Estimar estadística\n",
    "    media_boot = d_muestral_boot.mean()\n",
    "    \n",
    "    # Estimar error estándar\n",
    "    error_boot = d_muestral_boot.std()\n",
    "    \n",
    "    # Estimar intervalo de confianza\n",
    "    lim_izq = (1-ic)/2 * 100\n",
    "    lim_der = (ic + (1-ic)/2) * 100\n",
    "    \n",
    "    perc_izq = np.percentile(d_muestral_boot, lim_izq)\n",
    "    perc_der = np.percentile(d_muestral_boot, lim_der)\n",
    "    # Retornar estadística estimada, error estándar e intervalo de confianza\n",
    "    return media_boot, error_boot, [perc_izq, perc_der]  "
   ]
  },
  {
   "cell_type": "code",
   "execution_count": 21,
   "id": "e885675a",
   "metadata": {},
   "outputs": [
    {
     "name": "stdout",
     "output_type": "stream",
     "text": [
      "19250.494989032082 89.8546946740358 [np.float64(19074.336012476007), np.float64(19427.094529750477)]\n",
      "19447.252048886614 126.20838745357273 [np.float64(19199.692219093933), np.float64(19698.075249552086)]\n"
     ]
    }
   ],
   "source": [
    "df_al_dia=df[df[\"estado\"]==\"Al día\"]\n",
    "df_pagado=df[df[\"estado\"]==\"Pagado\"]\n",
    "media_aldia, error_aldia, ic_aldia,=estimacion_boot(df_al_dia[\"monto\"].to_numpy(),M=500,ic=0.95)\n",
    "media_pagado, error_pagado, ic_pagado,=estimacion_boot(df_pagado[\"monto\"].to_numpy(),M=10000,ic=0.95)\n",
    "#media_aldia, error_aldia, ic_aldia,=estimacion_boot(df_al_dia[\"monto\"].to_numpy(),M=1000,ic=0.95)\n",
    "print(media_aldia, error_aldia, ic_aldia)\n",
    "print(media_pagado, error_pagado, ic_pagado)"
   ]
  },
  {
   "cell_type": "code",
   "execution_count": null,
   "id": "2d86b850",
   "metadata": {},
   "outputs": [],
   "source": []
  }
 ],
 "metadata": {
  "kernelspec": {
   "display_name": ".venv",
   "language": "python",
   "name": "python3"
  },
  "language_info": {
   "codemirror_mode": {
    "name": "ipython",
    "version": 3
   },
   "file_extension": ".py",
   "mimetype": "text/x-python",
   "name": "python",
   "nbconvert_exporter": "python",
   "pygments_lexer": "ipython3",
   "version": "3.11.9"
  }
 },
 "nbformat": 4,
 "nbformat_minor": 5
}
