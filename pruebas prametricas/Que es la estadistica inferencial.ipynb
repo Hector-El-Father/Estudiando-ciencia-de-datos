{
 "cells": [
  {
   "cell_type": "code",
   "execution_count": 102,
   "id": "dd963c89",
   "metadata": {},
   "outputs": [],
   "source": [
    "import pandas as pd\n",
    "import numpy as np"
   ]
  },
  {
   "cell_type": "markdown",
   "id": "ca6ef079",
   "metadata": {},
   "source": [
    "Que es ka estadistica inferencial?\n",
    "- Se encarga de inferir o deducir propiedades de una poblacion apartir de una muestra (datos que se logran recolectar) <br>\n",
    "\n",
    "Que es el test A/B?\n",
    "- te permite saber si una muestra es mejor que la otra de un intervalo de tiempo\n",
    "- una poblacion hace referencia a todos los datos\n",
    "- mientras que una muestra son todos los datos que pudimos recolectar en determinado tiempo\n",
    "- simepre habra una incertumbre de los datos\n",
    "- si tuvieramos acceso a todos los datos de la ponlacion podriamos sacar el promedio de la población\n",
    "- en la practica tenemos que acceder a la estimacion mediante nuestra muestra recolectada, podemos promediar los datos para hacer una estimacion de este valor con ciertos grados de incertidumbre y solo es una aproximación\n"
   ]
  },
  {
   "cell_type": "markdown",
   "id": "1246dda9",
   "metadata": {},
   "source": [
    "El muestro aleatorio\n",
    "- indicada que cada dato dentro de la poblacion tiene la misma probabilidad de ser seleccionado como parte de la muestra\n",
    "si tuviera 20 datos y solo debo seleccionar solo 5, cada uno tiene una P=1/20\n",
    "- el muestro aleatorio puede utilizarse en modelos de machine learning dado que tenemos un set de entrenamiento, validación y prueba\n",
    "- el set de entrenamiento te permite calcular los parametros del modelo\n",
    "- el set de validacion permite ajustar los hiperparametros del modelo\n",
    "- y el set de prueba que ayuda a predecir\n"
   ]
  },
  {
   "cell_type": "markdown",
   "id": "f9a2f947",
   "metadata": {},
   "source": [
    "Muestro aleatorio con remplazo <br>\n",
    "selecciona elementos al azar pero puedes repetirlos, cada vez que se elige un elemento, se devuelve a la poblacion antes del siguiente intendo\n",
    "- este es util cuando estas simulando procesos repetitivos\n",
    "- generar muchas muestras desde una poblacion pequeña"
   ]
  },
  {
   "cell_type": "code",
   "execution_count": 103,
   "id": "64436304",
   "metadata": {},
   "outputs": [
    {
     "name": "stdout",
     "output_type": "stream",
     "text": [
      "los numeros elegidos[6 9 5 2 4 1] y ya no pueden volver a repetirse\n",
      "los numeros elegidos [4 4 6 2 1 8] pueden volver a repetirse n veces\n"
     ]
    }
   ],
   "source": [
    "import numpy as np\n",
    "\n",
    "# Sin reemplazo\n",
    "muestro_simple=np.random.choice(np.arange(1,10), size=6, replace=False)\n",
    "print(f'los numeros elegidos{muestro_simple} y ya no pueden volver a repetirse')\n",
    "# Con reemplazo\n",
    "muestro_con_remplazo=np.random.choice(np.arange(1,10), size=6, replace=True)\n",
    "print(f'los numeros elegidos {muestro_con_remplazo} pueden volver a repetirse n veces')\n"
   ]
  },
  {
   "cell_type": "markdown",
   "id": "91e3b50a",
   "metadata": {},
   "source": [
    "El bootstrapping, tecnica estadistica <Br>\n",
    "es una tecnica de muestro con remplazo:\n",
    "- utilizada para estimar incertidumbre (intervalos de confianza de una metrica)\n",
    "- simular muchas muestras apartir de una sola muestra de datos\n",
    "- mejorar modelos como el random forest al entrensarse multiples veces <br>\n",
    "\n",
    "Fundamento: \n",
    "- cuando se tiene solo una muestra de datos, podemos generar muchas muestras apartir de esta, despues se puede calcular la media, mediana, o precision para estimular su distribucion o variabilidad\n",
    "- no podemos hacer suposiciones, queremos estimilar variabilidad o confianza de un resultado\n"
   ]
  },
  {
   "cell_type": "code",
   "execution_count": 104,
   "id": "fb07aa97",
   "metadata": {},
   "outputs": [
    {
     "data": {
      "text/plain": [
       "array([ 1,  3,  5,  7,  9, 11, 13, 15, 17, 19, 21, 23, 25, 27, 29, 31, 33,\n",
       "       35, 37, 39, 41, 43, 45, 47, 49, 51, 53, 55, 57, 59, 61, 63, 65, 67,\n",
       "       69, 71, 73, 75, 77, 79, 81, 83, 85, 87, 89, 91, 93, 95, 97, 99])"
      ]
     },
     "execution_count": 104,
     "metadata": {},
     "output_type": "execute_result"
    }
   ],
   "source": [
    "datos=np.arange(1,100,2)\n",
    "datos"
   ]
  },
  {
   "cell_type": "code",
   "execution_count": 105,
   "id": "077b209a",
   "metadata": {},
   "outputs": [
    {
     "name": "stdout",
     "output_type": "stream",
     "text": [
      "[np.float64(47.0), np.float64(50.64), np.float64(47.64), np.float64(47.76), np.float64(46.68), np.float64(54.72), np.float64(44.32), np.float64(49.44), np.float64(50.44), np.float64(48.12), np.float64(52.0), np.float64(55.8), np.float64(52.84), np.float64(47.28), np.float64(52.6), np.float64(46.8), np.float64(52.52), np.float64(49.44), np.float64(50.92), np.float64(55.52), np.float64(53.88), np.float64(48.24), np.float64(52.4), np.float64(47.28), np.float64(47.52), np.float64(49.92), np.float64(54.84), np.float64(50.6), np.float64(48.84), np.float64(49.72), np.float64(50.44), np.float64(44.36), np.float64(54.8), np.float64(51.28), np.float64(50.6), np.float64(53.32), np.float64(42.8), np.float64(48.36), np.float64(49.88), np.float64(50.4), np.float64(50.52), np.float64(47.48), np.float64(48.16), np.float64(55.12), np.float64(49.28), np.float64(60.28), np.float64(52.36), np.float64(54.08), np.float64(51.84), np.float64(48.84), np.float64(45.8), np.float64(52.48), np.float64(54.12), np.float64(51.96), np.float64(49.88), np.float64(48.2), np.float64(44.16), np.float64(53.48), np.float64(44.36), np.float64(55.8), np.float64(50.92), np.float64(47.96), np.float64(47.76), np.float64(48.92), np.float64(55.16), np.float64(48.76), np.float64(50.6), np.float64(51.32), np.float64(50.68), np.float64(48.88), np.float64(49.56), np.float64(54.04), np.float64(50.76), np.float64(52.0), np.float64(53.2), np.float64(57.68), np.float64(50.04), np.float64(50.72), np.float64(45.8), np.float64(48.52), np.float64(47.76), np.float64(47.24), np.float64(50.32), np.float64(51.48), np.float64(49.52), np.float64(49.2), np.float64(48.84), np.float64(50.32), np.float64(49.96), np.float64(56.76), np.float64(49.52), np.float64(50.4), np.float64(46.6), np.float64(54.0), np.float64(49.12), np.float64(47.2), np.float64(52.16), np.float64(54.44), np.float64(51.68), np.float64(56.28), np.float64(42.0), np.float64(46.08), np.float64(47.64), np.float64(50.56), np.float64(40.96), np.float64(52.48), np.float64(51.16), np.float64(49.56), np.float64(47.52), np.float64(59.24), np.float64(45.68), np.float64(49.52), np.float64(47.84), np.float64(58.72), np.float64(54.76), np.float64(45.28), np.float64(41.28), np.float64(52.2), np.float64(49.32), np.float64(57.76), np.float64(47.24), np.float64(48.68), np.float64(53.0), np.float64(51.36), np.float64(55.88), np.float64(49.08), np.float64(51.6), np.float64(51.2), np.float64(47.04), np.float64(46.92), np.float64(46.32), np.float64(49.16), np.float64(49.36), np.float64(50.76), np.float64(47.88), np.float64(56.44), np.float64(47.44), np.float64(55.16), np.float64(53.08), np.float64(48.16), np.float64(50.8), np.float64(45.08), np.float64(45.96), np.float64(49.36), np.float64(45.84), np.float64(48.8), np.float64(57.4), np.float64(49.04), np.float64(43.44), np.float64(50.64), np.float64(54.88), np.float64(50.8), np.float64(54.08), np.float64(48.2), np.float64(51.56), np.float64(51.96), np.float64(45.12), np.float64(43.36), np.float64(50.48), np.float64(55.76), np.float64(45.92), np.float64(48.76), np.float64(52.8), np.float64(52.12), np.float64(48.08), np.float64(50.52), np.float64(49.92), np.float64(47.68), np.float64(46.64), np.float64(54.68), np.float64(47.52), np.float64(41.68), np.float64(45.2), np.float64(46.24), np.float64(54.56), np.float64(62.72), np.float64(50.72), np.float64(43.92), np.float64(48.44), np.float64(44.6), np.float64(44.16), np.float64(41.4), np.float64(49.32), np.float64(55.24), np.float64(47.08), np.float64(46.76), np.float64(46.64), np.float64(47.8), np.float64(49.84), np.float64(51.64), np.float64(49.76), np.float64(49.12), np.float64(50.36), np.float64(47.6), np.float64(53.44), np.float64(55.04), np.float64(51.08), np.float64(46.88), np.float64(48.72), np.float64(47.88), np.float64(52.52), np.float64(47.8), np.float64(51.2), np.float64(47.64), np.float64(47.28), np.float64(39.12), np.float64(50.48), np.float64(48.76), np.float64(49.88), np.float64(58.52), np.float64(50.36), np.float64(51.36), np.float64(48.6), np.float64(48.08), np.float64(42.76), np.float64(55.2), np.float64(48.04), np.float64(47.08), np.float64(53.12), np.float64(48.88), np.float64(53.4), np.float64(55.76), np.float64(46.76), np.float64(49.56), np.float64(48.96), np.float64(43.12), np.float64(52.52), np.float64(49.56), np.float64(56.08), np.float64(55.6), np.float64(51.44), np.float64(52.84), np.float64(55.48), np.float64(45.12), np.float64(48.08), np.float64(54.04), np.float64(46.84), np.float64(45.56), np.float64(51.76), np.float64(49.6), np.float64(45.28), np.float64(50.24), np.float64(46.24), np.float64(48.2), np.float64(54.76), np.float64(48.4), np.float64(43.68), np.float64(51.08), np.float64(43.6), np.float64(50.08), np.float64(49.36), np.float64(52.68), np.float64(48.64), np.float64(57.4), np.float64(46.2), np.float64(57.12), np.float64(49.72), np.float64(54.92), np.float64(58.04), np.float64(53.04), np.float64(53.08), np.float64(45.16), np.float64(46.4), np.float64(54.8), np.float64(54.76), np.float64(43.68), np.float64(54.12), np.float64(51.56), np.float64(51.92), np.float64(51.64), np.float64(51.8), np.float64(54.56), np.float64(53.92), np.float64(46.12), np.float64(50.76), np.float64(49.16), np.float64(54.88), np.float64(51.12), np.float64(43.08), np.float64(47.68), np.float64(44.92), np.float64(55.68), np.float64(51.28), np.float64(44.52), np.float64(45.04), np.float64(49.24), np.float64(50.88), np.float64(51.28), np.float64(52.88), np.float64(42.8), np.float64(52.8), np.float64(50.64), np.float64(48.28), np.float64(42.64), np.float64(43.56), np.float64(56.96), np.float64(55.68), np.float64(51.52), np.float64(49.64), np.float64(47.52), np.float64(46.4), np.float64(51.6), np.float64(48.6), np.float64(50.88), np.float64(51.72), np.float64(49.88), np.float64(43.6), np.float64(48.2), np.float64(49.84), np.float64(46.52), np.float64(56.6), np.float64(48.28), np.float64(48.6), np.float64(45.04), np.float64(48.88), np.float64(54.24), np.float64(52.08), np.float64(50.4), np.float64(45.76), np.float64(52.92), np.float64(43.4), np.float64(44.28), np.float64(58.84), np.float64(45.56), np.float64(51.6), np.float64(50.04), np.float64(45.0), np.float64(50.24), np.float64(55.32), np.float64(47.36), np.float64(46.68), np.float64(48.36), np.float64(57.52), np.float64(50.6), np.float64(52.08), np.float64(53.52), np.float64(47.36), np.float64(53.08), np.float64(46.28), np.float64(54.44), np.float64(41.68), np.float64(48.48), np.float64(54.88), np.float64(48.24), np.float64(41.28), np.float64(53.24), np.float64(47.08), np.float64(53.48), np.float64(51.0), np.float64(45.16), np.float64(51.72), np.float64(46.6), np.float64(49.04), np.float64(55.16), np.float64(51.68), np.float64(54.08), np.float64(51.16), np.float64(54.12), np.float64(52.96), np.float64(56.28), np.float64(54.0), np.float64(56.52), np.float64(43.68), np.float64(43.12), np.float64(47.4), np.float64(52.44), np.float64(47.88), np.float64(46.12), np.float64(50.32), np.float64(50.44), np.float64(48.84), np.float64(43.88), np.float64(53.2), np.float64(57.04), np.float64(49.76), np.float64(48.16), np.float64(51.48), np.float64(48.6), np.float64(55.16), np.float64(50.44), np.float64(46.76), np.float64(47.44), np.float64(57.96), np.float64(55.28), np.float64(47.4), np.float64(47.32), np.float64(54.8), np.float64(52.88), np.float64(44.44), np.float64(49.12), np.float64(51.24), np.float64(47.52), np.float64(54.08), np.float64(51.52), np.float64(48.08), np.float64(50.68), np.float64(46.56), np.float64(50.6), np.float64(45.36), np.float64(47.0), np.float64(44.76), np.float64(56.48), np.float64(39.6), np.float64(46.8), np.float64(55.08), np.float64(44.92), np.float64(56.0), np.float64(51.24), np.float64(44.48), np.float64(49.0), np.float64(51.6), np.float64(49.92), np.float64(51.76), np.float64(48.16), np.float64(43.12), np.float64(46.28), np.float64(52.32), np.float64(51.96), np.float64(53.92), np.float64(54.32), np.float64(45.48), np.float64(53.12), np.float64(52.68), np.float64(53.4), np.float64(49.44), np.float64(48.2), np.float64(54.2), np.float64(51.32), np.float64(52.28), np.float64(55.4), np.float64(50.44), np.float64(49.88), np.float64(47.08), np.float64(48.2), np.float64(48.92), np.float64(46.72), np.float64(40.48), np.float64(48.88), np.float64(45.6), np.float64(49.36), np.float64(52.16), np.float64(49.96), np.float64(50.28), np.float64(50.04), np.float64(46.24), np.float64(50.56), np.float64(46.32), np.float64(48.76), np.float64(40.8), np.float64(49.64), np.float64(52.36), np.float64(46.88), np.float64(45.8), np.float64(49.0), np.float64(53.0), np.float64(48.56), np.float64(49.48), np.float64(53.36), np.float64(44.44), np.float64(51.68), np.float64(54.52), np.float64(52.88), np.float64(50.04), np.float64(45.88), np.float64(50.44), np.float64(51.28), np.float64(51.16), np.float64(54.4), np.float64(46.8), np.float64(48.28), np.float64(56.08), np.float64(42.64), np.float64(41.28), np.float64(56.04), np.float64(53.52), np.float64(53.08), np.float64(51.6), np.float64(51.24), np.float64(43.76), np.float64(58.52), np.float64(45.96), np.float64(54.16), np.float64(61.52), np.float64(45.2), np.float64(46.24), np.float64(47.04), np.float64(45.28), np.float64(46.32), np.float64(49.4), np.float64(49.56), np.float64(43.24), np.float64(60.08), np.float64(50.24), np.float64(46.44), np.float64(53.88), np.float64(43.56), np.float64(50.72), np.float64(53.32), np.float64(53.28), np.float64(53.08), np.float64(48.88), np.float64(49.64), np.float64(49.96), np.float64(51.36), np.float64(43.28), np.float64(52.04), np.float64(54.64), np.float64(53.44), np.float64(50.24), np.float64(49.16), np.float64(51.4), np.float64(48.6), np.float64(46.28), np.float64(49.44), np.float64(56.88), np.float64(45.28), np.float64(48.04), np.float64(57.2), np.float64(43.44), np.float64(44.68), np.float64(46.08), np.float64(47.92), np.float64(54.2), np.float64(42.52), np.float64(50.28), np.float64(54.72), np.float64(53.4), np.float64(54.24), np.float64(48.72), np.float64(45.76), np.float64(51.32), np.float64(47.56), np.float64(45.88), np.float64(48.4), np.float64(49.12), np.float64(45.96), np.float64(49.92), np.float64(50.04), np.float64(55.48), np.float64(51.4), np.float64(48.64), np.float64(51.68), np.float64(52.2), np.float64(51.24), np.float64(52.6), np.float64(54.2), np.float64(49.32), np.float64(49.24), np.float64(49.04), np.float64(53.96), np.float64(54.28), np.float64(45.44), np.float64(49.76), np.float64(59.04), np.float64(46.8), np.float64(52.36), np.float64(53.44), np.float64(49.96), np.float64(53.36), np.float64(45.56), np.float64(46.0), np.float64(58.48), np.float64(49.44), np.float64(50.92), np.float64(49.72), np.float64(52.08), np.float64(53.44), np.float64(45.76), np.float64(51.92), np.float64(52.68), np.float64(52.92), np.float64(51.04), np.float64(45.6), np.float64(47.0), np.float64(53.72), np.float64(46.48), np.float64(51.04), np.float64(47.52), np.float64(53.48), np.float64(50.08), np.float64(54.56), np.float64(55.12), np.float64(48.16), np.float64(58.48), np.float64(47.72), np.float64(49.12), np.float64(49.64), np.float64(49.08), np.float64(53.28), np.float64(51.68), np.float64(47.64), np.float64(50.64), np.float64(55.76), np.float64(50.08), np.float64(43.0), np.float64(48.48), np.float64(51.32), np.float64(48.48), np.float64(49.96), np.float64(49.92), np.float64(53.24), np.float64(51.76), np.float64(54.16), np.float64(41.56), np.float64(51.96), np.float64(46.56), np.float64(46.04), np.float64(47.0), np.float64(44.4), np.float64(52.24), np.float64(42.8), np.float64(54.56), np.float64(48.92), np.float64(50.16), np.float64(51.8), np.float64(48.36), np.float64(49.72), np.float64(50.24), np.float64(50.92), np.float64(47.76), np.float64(47.12), np.float64(48.96), np.float64(49.56), np.float64(46.84), np.float64(45.24), np.float64(51.52), np.float64(49.8), np.float64(52.96), np.float64(50.0), np.float64(51.96), np.float64(48.2), np.float64(46.32), np.float64(49.68), np.float64(52.4), np.float64(46.48), np.float64(44.44), np.float64(51.32), np.float64(50.32), np.float64(48.6), np.float64(45.04), np.float64(49.32), np.float64(56.88), np.float64(56.0), np.float64(50.32), np.float64(47.6), np.float64(46.84), np.float64(53.52), np.float64(56.88), np.float64(50.4), np.float64(45.8), np.float64(42.92), np.float64(48.88), np.float64(49.44), np.float64(44.88), np.float64(51.24), np.float64(44.76), np.float64(48.84), np.float64(46.16), np.float64(46.12), np.float64(50.2), np.float64(43.12), np.float64(55.12), np.float64(48.96), np.float64(48.56), np.float64(52.24), np.float64(47.56), np.float64(52.4), np.float64(52.56), np.float64(51.0), np.float64(54.84), np.float64(52.28), np.float64(54.96), np.float64(40.8), np.float64(56.0), np.float64(53.76), np.float64(45.4), np.float64(43.72), np.float64(46.4), np.float64(56.84), np.float64(47.8), np.float64(44.96), np.float64(47.88), np.float64(60.68), np.float64(49.08), np.float64(49.64), np.float64(55.0), np.float64(48.72), np.float64(50.24), np.float64(55.12), np.float64(55.6), np.float64(51.84), np.float64(46.56), np.float64(52.2), np.float64(54.12), np.float64(56.4), np.float64(55.8), np.float64(48.4), np.float64(52.16), np.float64(47.68), np.float64(42.64), np.float64(48.0), np.float64(43.0), np.float64(45.08), np.float64(51.4), np.float64(50.6), np.float64(60.32), np.float64(45.76), np.float64(55.44), np.float64(55.88), np.float64(56.44), np.float64(43.2), np.float64(54.32), np.float64(42.12), np.float64(44.0), np.float64(48.4), np.float64(50.72), np.float64(48.84), np.float64(43.96), np.float64(48.64), np.float64(52.04), np.float64(48.16), np.float64(54.72), np.float64(44.12), np.float64(54.0), np.float64(47.4), np.float64(48.32), np.float64(51.48), np.float64(48.84), np.float64(50.12), np.float64(40.84), np.float64(53.08), np.float64(45.44), np.float64(48.44), np.float64(45.96), np.float64(53.72), np.float64(45.76), np.float64(48.52), np.float64(53.52), np.float64(46.88), np.float64(45.04), np.float64(50.68), np.float64(48.32), np.float64(50.04), np.float64(47.8), np.float64(51.28), np.float64(52.8), np.float64(49.2), np.float64(48.8), np.float64(45.08), np.float64(53.56), np.float64(50.6), np.float64(49.56), np.float64(55.96), np.float64(46.08), np.float64(44.88), np.float64(57.24), np.float64(39.0), np.float64(49.6), np.float64(51.8), np.float64(42.6), np.float64(49.44), np.float64(52.52), np.float64(49.16), np.float64(46.64), np.float64(52.44), np.float64(54.0), np.float64(47.4), np.float64(50.0), np.float64(53.44), np.float64(53.08), np.float64(48.92), np.float64(47.72), np.float64(43.44), np.float64(55.2), np.float64(55.12), np.float64(45.12), np.float64(52.96), np.float64(46.32), np.float64(55.68), np.float64(56.92), np.float64(45.0), np.float64(47.52), np.float64(53.0), np.float64(56.2), np.float64(51.96), np.float64(48.72), np.float64(49.52), np.float64(53.6), np.float64(45.52), np.float64(42.64), np.float64(51.6), np.float64(46.92), np.float64(52.08), np.float64(48.92), np.float64(45.2), np.float64(42.48), np.float64(45.76), np.float64(49.16), np.float64(42.76), np.float64(50.44), np.float64(53.96), np.float64(46.08), np.float64(49.52), np.float64(46.44), np.float64(51.92), np.float64(51.32), np.float64(46.2), np.float64(49.32), np.float64(58.92), np.float64(45.76), np.float64(49.32), np.float64(61.24), np.float64(51.24), np.float64(48.92), np.float64(49.48), np.float64(52.4), np.float64(43.48), np.float64(54.0), np.float64(53.6), np.float64(49.28), np.float64(51.28), np.float64(57.6), np.float64(43.08), np.float64(52.84), np.float64(54.92), np.float64(52.96), np.float64(49.48), np.float64(46.24), np.float64(46.32), np.float64(47.32), np.float64(49.64), np.float64(47.32), np.float64(47.36), np.float64(52.08), np.float64(49.96), np.float64(52.16), np.float64(45.68), np.float64(53.64), np.float64(48.64), np.float64(50.36), np.float64(45.84), np.float64(46.96), np.float64(51.48), np.float64(48.68), np.float64(52.92), np.float64(53.88), np.float64(45.04), np.float64(51.88), np.float64(50.16), np.float64(50.08), np.float64(58.52), np.float64(50.52), np.float64(60.08), np.float64(53.08), np.float64(47.56), np.float64(56.28), np.float64(57.92), np.float64(54.92), np.float64(51.04), np.float64(54.0), np.float64(46.72), np.float64(47.32), np.float64(45.6), np.float64(51.96), np.float64(45.48), np.float64(48.36), np.float64(48.76), np.float64(40.6), np.float64(53.96), np.float64(53.36), np.float64(50.72), np.float64(48.2), np.float64(44.56), np.float64(54.52), np.float64(51.8), np.float64(51.32), np.float64(46.32), np.float64(45.72), np.float64(45.28), np.float64(45.0), np.float64(47.48), np.float64(46.52), np.float64(42.48), np.float64(46.08), np.float64(53.24), np.float64(48.32), np.float64(46.96), np.float64(52.28), np.float64(55.12), np.float64(49.04), np.float64(54.36), np.float64(46.0), np.float64(51.0), np.float64(54.24), np.float64(52.8), np.float64(52.04), np.float64(50.24), np.float64(52.0), np.float64(59.92), np.float64(49.12), np.float64(53.52), np.float64(52.28), np.float64(54.76), np.float64(50.32), np.float64(49.36), np.float64(50.84), np.float64(49.68), np.float64(41.32), np.float64(51.44), np.float64(43.16), np.float64(48.2), np.float64(45.0), np.float64(50.2), np.float64(56.92), np.float64(45.0), np.float64(50.48), np.float64(46.96), np.float64(41.88), np.float64(47.8), np.float64(51.44), np.float64(48.92), np.float64(47.92), np.float64(48.84), np.float64(47.16), np.float64(50.28), np.float64(47.96), np.float64(47.44), np.float64(53.28), np.float64(55.12), np.float64(46.56), np.float64(53.48), np.float64(49.2), np.float64(52.48), np.float64(46.68), np.float64(49.68), np.float64(44.84), np.float64(45.48), np.float64(50.76), np.float64(47.8), np.float64(44.64), np.float64(50.92), np.float64(48.76), np.float64(51.16), np.float64(45.04), np.float64(48.8), np.float64(44.76), np.float64(44.0), np.float64(51.8), np.float64(54.24), np.float64(52.48), np.float64(43.48), np.float64(45.84), np.float64(58.52), np.float64(52.44), np.float64(51.6), np.float64(60.12), np.float64(56.36), np.float64(50.76), np.float64(47.84), np.float64(53.12), np.float64(39.92), np.float64(47.12), np.float64(47.2), np.float64(42.36), np.float64(51.48), np.float64(57.48), np.float64(48.6), np.float64(49.4), np.float64(56.76), np.float64(48.64), np.float64(51.36), np.float64(48.28), np.float64(53.48), np.float64(48.92), np.float64(50.24), np.float64(54.68), np.float64(46.0), np.float64(52.76), np.float64(48.52), np.float64(54.48), np.float64(46.36), np.float64(52.04), np.float64(44.44), np.float64(47.2), np.float64(46.48), np.float64(51.68), np.float64(47.92), np.float64(47.6), np.float64(58.52), np.float64(51.44), np.float64(52.8), np.float64(53.04), np.float64(55.0), np.float64(43.72), np.float64(46.88), np.float64(47.32), np.float64(53.24), np.float64(53.0), np.float64(52.48), np.float64(51.12)]\n"
     ]
    }
   ],
   "source": [
    "df=[]\n",
    "for i in range(1000):\n",
    "    muestra=np.random.choice(datos, size=len(datos), replace=True)\n",
    "    df.append(np.mean(muestra))\n",
    "print(df)"
   ]
  },
  {
   "cell_type": "code",
   "execution_count": 106,
   "id": "4ff0a539",
   "metadata": {},
   "outputs": [
    {
     "data": {
      "application/vnd.microsoft.datawrangler.viewer.v0+json": {
       "columns": [
        {
         "name": "index",
         "rawType": "int64",
         "type": "integer"
        },
        {
         "name": "Muestra",
         "rawType": "float64",
         "type": "float"
        }
       ],
       "ref": "2ae3f6c2-ea6d-4a6c-a3a2-2bca30e65778",
       "rows": [
        [
         "0",
         "47.0"
        ],
        [
         "1",
         "50.64"
        ],
        [
         "2",
         "47.64"
        ],
        [
         "3",
         "47.76"
        ],
        [
         "4",
         "46.68"
        ],
        [
         "5",
         "54.72"
        ],
        [
         "6",
         "44.32"
        ],
        [
         "7",
         "49.44"
        ],
        [
         "8",
         "50.44"
        ],
        [
         "9",
         "48.12"
        ],
        [
         "10",
         "52.0"
        ],
        [
         "11",
         "55.8"
        ],
        [
         "12",
         "52.84"
        ],
        [
         "13",
         "47.28"
        ],
        [
         "14",
         "52.6"
        ],
        [
         "15",
         "46.8"
        ],
        [
         "16",
         "52.52"
        ],
        [
         "17",
         "49.44"
        ],
        [
         "18",
         "50.92"
        ],
        [
         "19",
         "55.52"
        ],
        [
         "20",
         "53.88"
        ],
        [
         "21",
         "48.24"
        ],
        [
         "22",
         "52.4"
        ],
        [
         "23",
         "47.28"
        ],
        [
         "24",
         "47.52"
        ],
        [
         "25",
         "49.92"
        ],
        [
         "26",
         "54.84"
        ],
        [
         "27",
         "50.6"
        ],
        [
         "28",
         "48.84"
        ],
        [
         "29",
         "49.72"
        ],
        [
         "30",
         "50.44"
        ],
        [
         "31",
         "44.36"
        ],
        [
         "32",
         "54.8"
        ],
        [
         "33",
         "51.28"
        ],
        [
         "34",
         "50.6"
        ],
        [
         "35",
         "53.32"
        ],
        [
         "36",
         "42.8"
        ],
        [
         "37",
         "48.36"
        ],
        [
         "38",
         "49.88"
        ],
        [
         "39",
         "50.4"
        ],
        [
         "40",
         "50.52"
        ],
        [
         "41",
         "47.48"
        ],
        [
         "42",
         "48.16"
        ],
        [
         "43",
         "55.12"
        ],
        [
         "44",
         "49.28"
        ],
        [
         "45",
         "60.28"
        ],
        [
         "46",
         "52.36"
        ],
        [
         "47",
         "54.08"
        ],
        [
         "48",
         "51.84"
        ],
        [
         "49",
         "48.84"
        ]
       ],
       "shape": {
        "columns": 1,
        "rows": 1000
       }
      },
      "text/html": [
       "<div>\n",
       "<style scoped>\n",
       "    .dataframe tbody tr th:only-of-type {\n",
       "        vertical-align: middle;\n",
       "    }\n",
       "\n",
       "    .dataframe tbody tr th {\n",
       "        vertical-align: top;\n",
       "    }\n",
       "\n",
       "    .dataframe thead th {\n",
       "        text-align: right;\n",
       "    }\n",
       "</style>\n",
       "<table border=\"1\" class=\"dataframe\">\n",
       "  <thead>\n",
       "    <tr style=\"text-align: right;\">\n",
       "      <th></th>\n",
       "      <th>Muestra</th>\n",
       "    </tr>\n",
       "  </thead>\n",
       "  <tbody>\n",
       "    <tr>\n",
       "      <th>0</th>\n",
       "      <td>47.00</td>\n",
       "    </tr>\n",
       "    <tr>\n",
       "      <th>1</th>\n",
       "      <td>50.64</td>\n",
       "    </tr>\n",
       "    <tr>\n",
       "      <th>2</th>\n",
       "      <td>47.64</td>\n",
       "    </tr>\n",
       "    <tr>\n",
       "      <th>3</th>\n",
       "      <td>47.76</td>\n",
       "    </tr>\n",
       "    <tr>\n",
       "      <th>4</th>\n",
       "      <td>46.68</td>\n",
       "    </tr>\n",
       "    <tr>\n",
       "      <th>...</th>\n",
       "      <td>...</td>\n",
       "    </tr>\n",
       "    <tr>\n",
       "      <th>995</th>\n",
       "      <td>47.32</td>\n",
       "    </tr>\n",
       "    <tr>\n",
       "      <th>996</th>\n",
       "      <td>53.24</td>\n",
       "    </tr>\n",
       "    <tr>\n",
       "      <th>997</th>\n",
       "      <td>53.00</td>\n",
       "    </tr>\n",
       "    <tr>\n",
       "      <th>998</th>\n",
       "      <td>52.48</td>\n",
       "    </tr>\n",
       "    <tr>\n",
       "      <th>999</th>\n",
       "      <td>51.12</td>\n",
       "    </tr>\n",
       "  </tbody>\n",
       "</table>\n",
       "<p>1000 rows × 1 columns</p>\n",
       "</div>"
      ],
      "text/plain": [
       "     Muestra\n",
       "0      47.00\n",
       "1      50.64\n",
       "2      47.64\n",
       "3      47.76\n",
       "4      46.68\n",
       "..       ...\n",
       "995    47.32\n",
       "996    53.24\n",
       "997    53.00\n",
       "998    52.48\n",
       "999    51.12\n",
       "\n",
       "[1000 rows x 1 columns]"
      ]
     },
     "execution_count": 106,
     "metadata": {},
     "output_type": "execute_result"
    }
   ],
   "source": [
    "df_nuevo=pd.DataFrame(df, columns=[\"Muestra\"])\n",
    "df_nuevo"
   ]
  },
  {
   "cell_type": "code",
   "execution_count": 107,
   "id": "a332f1f0",
   "metadata": {},
   "outputs": [
    {
     "data": {
      "text/plain": [
       "Index(['Muestra'], dtype='object')"
      ]
     },
     "execution_count": 107,
     "metadata": {},
     "output_type": "execute_result"
    }
   ],
   "source": [
    "df_nuevo.columns"
   ]
  },
  {
   "cell_type": "code",
   "execution_count": 108,
   "id": "fb08032a",
   "metadata": {},
   "outputs": [
    {
     "data": {
      "application/vnd.microsoft.datawrangler.viewer.v0+json": {
       "columns": [
        {
         "name": "index",
         "rawType": "object",
         "type": "string"
        },
        {
         "name": "Muestra",
         "rawType": "float64",
         "type": "float"
        }
       ],
       "ref": "f8a8f5b2-8034-440a-bd4d-4664ab28fa5f",
       "rows": [
        [
         "count",
         "1000.0"
        ],
        [
         "mean",
         "49.906760000000006"
        ],
        [
         "std",
         "3.9489469589353168"
        ],
        [
         "min",
         "39.0"
        ],
        [
         "25%",
         "47.19"
        ],
        [
         "50%",
         "49.78"
        ],
        [
         "75%",
         "52.57"
        ],
        [
         "max",
         "62.72"
        ]
       ],
       "shape": {
        "columns": 1,
        "rows": 8
       }
      },
      "text/plain": [
       "count    1000.000000\n",
       "mean       49.906760\n",
       "std         3.948947\n",
       "min        39.000000\n",
       "25%        47.190000\n",
       "50%        49.780000\n",
       "75%        52.570000\n",
       "max        62.720000\n",
       "Name: Muestra, dtype: float64"
      ]
     },
     "execution_count": 108,
     "metadata": {},
     "output_type": "execute_result"
    }
   ],
   "source": [
    "df_nuevo[\"Muestra\"].describe()"
   ]
  },
  {
   "cell_type": "code",
   "execution_count": 109,
   "id": "9a6322d4",
   "metadata": {},
   "outputs": [
    {
     "data": {
      "image/png": "[encoded data removed]",
      "text/plain": [
       "<Figure size 600x400 with 1 Axes>"
      ]
     },
     "metadata": {},
     "output_type": "display_data"
    }
   ],
   "source": [
    "import matplotlib.pyplot as plt\n",
    "import seaborn as sns\n",
    "plt.figure(figsize=(6,4))\n",
    "sns.histplot(data=df_nuevo[\"Muestra\"], bins=5, kde=True)\n",
    "plt.show()"
   ]
  },
  {
   "cell_type": "code",
   "execution_count": 110,
   "id": "58121373",
   "metadata": {},
   "outputs": [
    {
     "data": {
      "image/png": "[encoded data removed]",
      "text/plain": [
       "<Figure size 640x480 with 1 Axes>"
      ]
     },
     "metadata": {},
     "output_type": "display_data"
    }
   ],
   "source": [
    "plt.Figure(figsize=(6,4))\n",
    "sns.boxplot(data=df_nuevo[\"Muestra\"])\n",
    "plt.show()"
   ]
  },
  {
   "cell_type": "code",
   "execution_count": 111,
   "id": "109fda3c",
   "metadata": {},
   "outputs": [
    {
     "data": {
      "application/vnd.microsoft.datawrangler.viewer.v0+json": {
       "columns": [
        {
         "name": "index",
         "rawType": "object",
         "type": "string"
        },
        {
         "name": "Muestra",
         "rawType": "float64",
         "type": "float"
        }
       ],
       "ref": "72770e1d-2381-4f66-a81c-70080e459120",
       "rows": [
        [
         "count",
         "1000.0"
        ],
        [
         "mean",
         "49.906760000000006"
        ],
        [
         "std",
         "3.9489469589353168"
        ],
        [
         "min",
         "39.0"
        ],
        [
         "25%",
         "47.19"
        ],
        [
         "50%",
         "49.78"
        ],
        [
         "75%",
         "52.57"
        ],
        [
         "max",
         "62.72"
        ]
       ],
       "shape": {
        "columns": 1,
        "rows": 8
       }
      },
      "text/plain": [
       "count    1000.000000\n",
       "mean       49.906760\n",
       "std         3.948947\n",
       "min        39.000000\n",
       "25%        47.190000\n",
       "50%        49.780000\n",
       "75%        52.570000\n",
       "max        62.720000\n",
       "Name: Muestra, dtype: float64"
      ]
     },
     "execution_count": 111,
     "metadata": {},
     "output_type": "execute_result"
    }
   ],
   "source": [
    "df_nuevo[\"Muestra\"].describe()"
   ]
  },
  {
   "cell_type": "markdown",
   "id": "aa920a3a",
   "metadata": {},
   "source": [
    "Muestreo estatificado\n",
    "\n",
    "Consiste en dividir la poblacion en estratos y tomar una mmuestra aleatoria de cada uno\n",
    "- consiste en dividir la poblacion en subgrupos que comparten caracteristicas similares, luego tomar proporciones individuales de cada uno\n",
    "\n"
   ]
  },
  {
   "cell_type": "code",
   "execution_count": 112,
   "id": "dd9b495f",
   "metadata": {},
   "outputs": [
    {
     "data": {
      "application/vnd.microsoft.datawrangler.viewer.v0+json": {
       "columns": [
        {
         "name": "index",
         "rawType": "int64",
         "type": "integer"
        },
        {
         "name": "edad",
         "rawType": "int64",
         "type": "integer"
        },
        {
         "name": "clasificacion_social",
         "rawType": "object",
         "type": "string"
        }
       ],
       "ref": "0113e3c1-392a-44d1-a981-a88fcea9c1e9",
       "rows": [
        [
         "0",
         "71",
         "Adulto"
        ],
        [
         "1",
         "61",
         "Adulto"
        ],
        [
         "2",
         "21",
         "Adolescente"
        ],
        [
         "3",
         "7",
         "Niño"
        ],
        [
         "4",
         "40",
         "Adulto"
        ],
        [
         "5",
         "61",
         "Adulto"
        ],
        [
         "6",
         "52",
         "Adulto"
        ],
        [
         "7",
         "23",
         "Adolescente"
        ],
        [
         "8",
         "73",
         "Adulto"
        ],
        [
         "9",
         "19",
         "Adolescente"
        ],
        [
         "10",
         "10",
         "Niño"
        ],
        [
         "11",
         "62",
         "Adulto"
        ],
        [
         "12",
         "78",
         "Adulto"
        ],
        [
         "13",
         "74",
         "Adulto"
        ],
        [
         "14",
         "89",
         "Adulto"
        ],
        [
         "15",
         "6",
         "Niño"
        ],
        [
         "16",
         "24",
         "Adolescente"
        ],
        [
         "17",
         "13",
         "Niño"
        ],
        [
         "18",
         "24",
         "Adolescente"
        ],
        [
         "19",
         "25",
         "Adolescente"
        ],
        [
         "20",
         "17",
         "Niño"
        ],
        [
         "21",
         "7",
         "Niño"
        ],
        [
         "22",
         "52",
         "Adulto"
        ],
        [
         "23",
         "96",
         "Adulto"
        ],
        [
         "24",
         "16",
         "Niño"
        ],
        [
         "25",
         "50",
         "Adulto"
        ],
        [
         "26",
         "53",
         "Adulto"
        ],
        [
         "27",
         "26",
         "Adolescente"
        ],
        [
         "28",
         "100",
         "Adulto"
        ],
        [
         "29",
         "22",
         "Adolescente"
        ],
        [
         "30",
         "93",
         "Adulto"
        ],
        [
         "31",
         "23",
         "Adolescente"
        ],
        [
         "32",
         "30",
         "Adolescente"
        ],
        [
         "33",
         "29",
         "Adolescente"
        ],
        [
         "34",
         "61",
         "Adulto"
        ],
        [
         "35",
         "63",
         "Adulto"
        ],
        [
         "36",
         "99",
         "Adulto"
        ],
        [
         "37",
         "35",
         "Adolescente"
        ],
        [
         "38",
         "18",
         "Adolescente"
        ],
        [
         "39",
         "89",
         "Adulto"
        ],
        [
         "40",
         "88",
         "Adulto"
        ],
        [
         "41",
         "81",
         "Adulto"
        ],
        [
         "42",
         "3",
         "Niño"
        ],
        [
         "43",
         "80",
         "Adulto"
        ],
        [
         "44",
         "40",
         "Adulto"
        ],
        [
         "45",
         "2",
         "Niño"
        ],
        [
         "46",
         "59",
         "Adulto"
        ],
        [
         "47",
         "63",
         "Adulto"
        ],
        [
         "48",
         "36",
         "Adolescente"
        ],
        [
         "49",
         "89",
         "Adulto"
        ]
       ],
       "shape": {
        "columns": 2,
        "rows": 100
       }
      },
      "text/html": [
       "<div>\n",
       "<style scoped>\n",
       "    .dataframe tbody tr th:only-of-type {\n",
       "        vertical-align: middle;\n",
       "    }\n",
       "\n",
       "    .dataframe tbody tr th {\n",
       "        vertical-align: top;\n",
       "    }\n",
       "\n",
       "    .dataframe thead th {\n",
       "        text-align: right;\n",
       "    }\n",
       "</style>\n",
       "<table border=\"1\" class=\"dataframe\">\n",
       "  <thead>\n",
       "    <tr style=\"text-align: right;\">\n",
       "      <th></th>\n",
       "      <th>edad</th>\n",
       "      <th>clasificacion_social</th>\n",
       "    </tr>\n",
       "  </thead>\n",
       "  <tbody>\n",
       "    <tr>\n",
       "      <th>0</th>\n",
       "      <td>71</td>\n",
       "      <td>Adulto</td>\n",
       "    </tr>\n",
       "    <tr>\n",
       "      <th>1</th>\n",
       "      <td>61</td>\n",
       "      <td>Adulto</td>\n",
       "    </tr>\n",
       "    <tr>\n",
       "      <th>2</th>\n",
       "      <td>21</td>\n",
       "      <td>Adolescente</td>\n",
       "    </tr>\n",
       "    <tr>\n",
       "      <th>3</th>\n",
       "      <td>7</td>\n",
       "      <td>Niño</td>\n",
       "    </tr>\n",
       "    <tr>\n",
       "      <th>4</th>\n",
       "      <td>40</td>\n",
       "      <td>Adulto</td>\n",
       "    </tr>\n",
       "    <tr>\n",
       "      <th>...</th>\n",
       "      <td>...</td>\n",
       "      <td>...</td>\n",
       "    </tr>\n",
       "    <tr>\n",
       "      <th>95</th>\n",
       "      <td>41</td>\n",
       "      <td>Adulto</td>\n",
       "    </tr>\n",
       "    <tr>\n",
       "      <th>96</th>\n",
       "      <td>64</td>\n",
       "      <td>Adulto</td>\n",
       "    </tr>\n",
       "    <tr>\n",
       "      <th>97</th>\n",
       "      <td>77</td>\n",
       "      <td>Adulto</td>\n",
       "    </tr>\n",
       "    <tr>\n",
       "      <th>98</th>\n",
       "      <td>89</td>\n",
       "      <td>Adulto</td>\n",
       "    </tr>\n",
       "    <tr>\n",
       "      <th>99</th>\n",
       "      <td>78</td>\n",
       "      <td>Adulto</td>\n",
       "    </tr>\n",
       "  </tbody>\n",
       "</table>\n",
       "<p>100 rows × 2 columns</p>\n",
       "</div>"
      ],
      "text/plain": [
       "    edad clasificacion_social\n",
       "0     71               Adulto\n",
       "1     61               Adulto\n",
       "2     21          Adolescente\n",
       "3      7                 Niño\n",
       "4     40               Adulto\n",
       "..   ...                  ...\n",
       "95    41               Adulto\n",
       "96    64               Adulto\n",
       "97    77               Adulto\n",
       "98    89               Adulto\n",
       "99    78               Adulto\n",
       "\n",
       "[100 rows x 2 columns]"
      ]
     },
     "execution_count": 112,
     "metadata": {},
     "output_type": "execute_result"
    }
   ],
   "source": [
    "edad=np.random.choice(np.arange(1,101), size=100, replace=True)\n",
    "df_estratificado=pd.DataFrame({\n",
    "    \"edad\": edad,\n",
    "    \"clasificacion_social\":np.where(edad<18, \"Niño\",\n",
    "                                    np.where(edad<40, \"Adolescente\",\"Adulto\"))\n",
    "})\n",
    "df_estratificado"
   ]
  },
  {
   "cell_type": "code",
   "execution_count": 113,
   "id": "fc251ead",
   "metadata": {},
   "outputs": [
    {
     "data": {
      "application/vnd.microsoft.datawrangler.viewer.v0+json": {
       "columns": [
        {
         "name": "index",
         "rawType": "int64",
         "type": "integer"
        },
        {
         "name": "edad",
         "rawType": "int64",
         "type": "integer"
        }
       ],
       "ref": "ef5c5e0d-00ff-4a07-8c9f-a87a4bd6d7b9",
       "rows": [
        [
         "17",
         "13"
        ],
        [
         "89",
         "40"
        ],
        [
         "97",
         "77"
        ],
        [
         "10",
         "10"
        ],
        [
         "5",
         "61"
        ]
       ],
       "shape": {
        "columns": 1,
        "rows": 5
       }
      },
      "text/html": [
       "<div>\n",
       "<style scoped>\n",
       "    .dataframe tbody tr th:only-of-type {\n",
       "        vertical-align: middle;\n",
       "    }\n",
       "\n",
       "    .dataframe tbody tr th {\n",
       "        vertical-align: top;\n",
       "    }\n",
       "\n",
       "    .dataframe thead th {\n",
       "        text-align: right;\n",
       "    }\n",
       "</style>\n",
       "<table border=\"1\" class=\"dataframe\">\n",
       "  <thead>\n",
       "    <tr style=\"text-align: right;\">\n",
       "      <th></th>\n",
       "      <th>edad</th>\n",
       "    </tr>\n",
       "  </thead>\n",
       "  <tbody>\n",
       "    <tr>\n",
       "      <th>17</th>\n",
       "      <td>13</td>\n",
       "    </tr>\n",
       "    <tr>\n",
       "      <th>89</th>\n",
       "      <td>40</td>\n",
       "    </tr>\n",
       "    <tr>\n",
       "      <th>97</th>\n",
       "      <td>77</td>\n",
       "    </tr>\n",
       "    <tr>\n",
       "      <th>10</th>\n",
       "      <td>10</td>\n",
       "    </tr>\n",
       "    <tr>\n",
       "      <th>5</th>\n",
       "      <td>61</td>\n",
       "    </tr>\n",
       "  </tbody>\n",
       "</table>\n",
       "</div>"
      ],
      "text/plain": [
       "    edad\n",
       "17    13\n",
       "89    40\n",
       "97    77\n",
       "10    10\n",
       "5     61"
      ]
     },
     "execution_count": 113,
     "metadata": {},
     "output_type": "execute_result"
    }
   ],
   "source": [
    "from sklearn.model_selection import train_test_split\n",
    "x=df_estratificado[[\"edad\"]]\n",
    "y=df_estratificado[\"clasificacion_social\"]\n",
    "x_train, x_test, y_train, y_test=train_test_split(x,y,\n",
    "                                                test_size=0.3,\n",
    "                                                stratify=y,\n",
    "                                                random_state=42)\n",
    "x_train.head()"
   ]
  },
  {
   "cell_type": "code",
   "execution_count": 114,
   "id": "039857dc",
   "metadata": {},
   "outputs": [
    {
     "data": {
      "application/vnd.microsoft.datawrangler.viewer.v0+json": {
       "columns": [
        {
         "name": "clasificacion_social",
         "rawType": "object",
         "type": "string"
        },
        {
         "name": "count",
         "rawType": "int64",
         "type": "integer"
        }
       ],
       "ref": "e3bc845a-5ffc-43ee-8c3d-b01bb0bbd62f",
       "rows": [
        [
         "Adulto",
         "63"
        ],
        [
         "Adolescente",
         "23"
        ],
        [
         "Niño",
         "14"
        ]
       ],
       "shape": {
        "columns": 1,
        "rows": 3
       }
      },
      "text/plain": [
       "clasificacion_social\n",
       "Adulto         63\n",
       "Adolescente    23\n",
       "Niño           14\n",
       "Name: count, dtype: int64"
      ]
     },
     "execution_count": 114,
     "metadata": {},
     "output_type": "execute_result"
    }
   ],
   "source": [
    "y.value_counts()"
   ]
  },
  {
   "cell_type": "code",
   "execution_count": 115,
   "id": "654111c6",
   "metadata": {},
   "outputs": [
    {
     "data": {
      "application/vnd.microsoft.datawrangler.viewer.v0+json": {
       "columns": [
        {
         "name": "index",
         "rawType": "int64",
         "type": "integer"
        },
        {
         "name": "edad",
         "rawType": "int64",
         "type": "integer"
        }
       ],
       "ref": "975d6824-764e-4a5a-a389-b1599c03fb10",
       "rows": [
        [
         "17",
         "13"
        ],
        [
         "89",
         "40"
        ],
        [
         "97",
         "77"
        ],
        [
         "10",
         "10"
        ],
        [
         "5",
         "61"
        ],
        [
         "0",
         "71"
        ],
        [
         "67",
         "87"
        ],
        [
         "47",
         "63"
        ],
        [
         "70",
         "96"
        ],
        [
         "75",
         "54"
        ],
        [
         "32",
         "30"
        ],
        [
         "38",
         "18"
        ],
        [
         "58",
         "62"
        ],
        [
         "66",
         "93"
        ],
        [
         "12",
         "78"
        ],
        [
         "59",
         "27"
        ],
        [
         "36",
         "99"
        ],
        [
         "6",
         "52"
        ],
        [
         "37",
         "35"
        ],
        [
         "35",
         "63"
        ],
        [
         "64",
         "90"
        ],
        [
         "55",
         "90"
        ],
        [
         "26",
         "53"
        ],
        [
         "83",
         "42"
        ],
        [
         "31",
         "23"
        ],
        [
         "57",
         "85"
        ],
        [
         "56",
         "65"
        ],
        [
         "15",
         "6"
        ],
        [
         "43",
         "80"
        ],
        [
         "16",
         "24"
        ],
        [
         "20",
         "17"
        ],
        [
         "9",
         "19"
        ],
        [
         "8",
         "73"
        ],
        [
         "34",
         "61"
        ],
        [
         "69",
         "37"
        ],
        [
         "21",
         "7"
        ],
        [
         "95",
         "41"
        ],
        [
         "72",
         "83"
        ],
        [
         "25",
         "50"
        ],
        [
         "42",
         "3"
        ],
        [
         "68",
         "81"
        ],
        [
         "2",
         "21"
        ],
        [
         "18",
         "24"
        ],
        [
         "1",
         "61"
        ],
        [
         "98",
         "89"
        ],
        [
         "53",
         "19"
        ],
        [
         "39",
         "89"
        ],
        [
         "81",
         "71"
        ],
        [
         "54",
         "41"
        ],
        [
         "78",
         "89"
        ]
       ],
       "shape": {
        "columns": 1,
        "rows": 70
       }
      },
      "text/html": [
       "<div>\n",
       "<style scoped>\n",
       "    .dataframe tbody tr th:only-of-type {\n",
       "        vertical-align: middle;\n",
       "    }\n",
       "\n",
       "    .dataframe tbody tr th {\n",
       "        vertical-align: top;\n",
       "    }\n",
       "\n",
       "    .dataframe thead th {\n",
       "        text-align: right;\n",
       "    }\n",
       "</style>\n",
       "<table border=\"1\" class=\"dataframe\">\n",
       "  <thead>\n",
       "    <tr style=\"text-align: right;\">\n",
       "      <th></th>\n",
       "      <th>edad</th>\n",
       "    </tr>\n",
       "  </thead>\n",
       "  <tbody>\n",
       "    <tr>\n",
       "      <th>17</th>\n",
       "      <td>13</td>\n",
       "    </tr>\n",
       "    <tr>\n",
       "      <th>89</th>\n",
       "      <td>40</td>\n",
       "    </tr>\n",
       "    <tr>\n",
       "      <th>97</th>\n",
       "      <td>77</td>\n",
       "    </tr>\n",
       "    <tr>\n",
       "      <th>10</th>\n",
       "      <td>10</td>\n",
       "    </tr>\n",
       "    <tr>\n",
       "      <th>5</th>\n",
       "      <td>61</td>\n",
       "    </tr>\n",
       "    <tr>\n",
       "      <th>...</th>\n",
       "      <td>...</td>\n",
       "    </tr>\n",
       "    <tr>\n",
       "      <th>63</th>\n",
       "      <td>30</td>\n",
       "    </tr>\n",
       "    <tr>\n",
       "      <th>44</th>\n",
       "      <td>40</td>\n",
       "    </tr>\n",
       "    <tr>\n",
       "      <th>62</th>\n",
       "      <td>6</td>\n",
       "    </tr>\n",
       "    <tr>\n",
       "      <th>93</th>\n",
       "      <td>74</td>\n",
       "    </tr>\n",
       "    <tr>\n",
       "      <th>48</th>\n",
       "      <td>36</td>\n",
       "    </tr>\n",
       "  </tbody>\n",
       "</table>\n",
       "<p>70 rows × 1 columns</p>\n",
       "</div>"
      ],
      "text/plain": [
       "    edad\n",
       "17    13\n",
       "89    40\n",
       "97    77\n",
       "10    10\n",
       "5     61\n",
       "..   ...\n",
       "63    30\n",
       "44    40\n",
       "62     6\n",
       "93    74\n",
       "48    36\n",
       "\n",
       "[70 rows x 1 columns]"
      ]
     },
     "execution_count": 115,
     "metadata": {},
     "output_type": "execute_result"
    }
   ],
   "source": [
    "df_train=pd.DataFrame(x_train, columns=[\"edad\"])\n",
    "df_train"
   ]
  },
  {
   "cell_type": "code",
   "execution_count": 116,
   "id": "15c556d4",
   "metadata": {},
   "outputs": [
    {
     "data": {
      "application/vnd.microsoft.datawrangler.viewer.v0+json": {
       "columns": [
        {
         "name": "cluster",
         "rawType": "object",
         "type": "string"
        },
        {
         "name": "count",
         "rawType": "int64",
         "type": "integer"
        }
       ],
       "ref": "33e22186-5385-4eef-968b-c44e0767d830",
       "rows": [
        [
         "Adulto",
         "49"
        ],
        [
         "Adolescente",
         "11"
        ],
        [
         "Niño",
         "10"
        ]
       ],
       "shape": {
        "columns": 1,
        "rows": 3
       }
      },
      "text/plain": [
       "cluster\n",
       "Adulto         49\n",
       "Adolescente    11\n",
       "Niño           10\n",
       "Name: count, dtype: int64"
      ]
     },
     "execution_count": 116,
     "metadata": {},
     "output_type": "execute_result"
    }
   ],
   "source": [
    "df_train[\"cluster\"]=np.where(df_train[\"edad\"]<18, \"Niño\",\n",
    "                                    np.where(df_train[\"edad\"]<30, \"Adolescente\",\"Adulto\"))\n",
    "df_train.cluster.value_counts()"
   ]
  },
  {
   "cell_type": "code",
   "execution_count": 117,
   "id": "c1a3deaf",
   "metadata": {},
   "outputs": [
    {
     "name": "stdout",
     "output_type": "stream",
     "text": [
      "Distribución original:\n",
      "clasificacion_social\n",
      "Adulto         0.63\n",
      "Adolescente    0.23\n",
      "Niño           0.14\n",
      "Name: proportion, dtype: float64\n",
      "\n",
      "Distribución en la muestra (test):\n",
      "clasificacion_social\n",
      "Adulto         0.633333\n",
      "Adolescente    0.233333\n",
      "Niño           0.133333\n",
      "Name: proportion, dtype: float64\n"
     ]
    }
   ],
   "source": [
    "print(\"Distribución original:\")\n",
    "print(y.value_counts(normalize=True))\n",
    "\n",
    "print(\"\\nDistribución en la muestra (test):\")\n",
    "print(y_test.value_counts(normalize=True))\n"
   ]
  },
  {
   "cell_type": "markdown",
   "id": "8210f2e0",
   "metadata": {},
   "source": [
    "Cuano hacemos un muestreo estratificado, podemos tener diferente tipo de proporcion entre todo el data set\n",
    "- este tipo de muestreo se seleccionan observaciones de cada estrato, pero no en proporcion al tamaño real de ese estrato en la poblacion\n",
    "en 100 datos distribuidos de la siguiente manera\n",
    "- adultos 50%\n",
    "- adolescentes 29%\n",
    "- niños 13%\n",
    "\n",
    "si tomamos 70% de entrenamiento los datos que tomara de cda estrato seran los siguientes\n",
    "\n",
    "- 70*0.58=tomara 41 datos de adultos\n",
    "- 70*0.29=tomara 20 datos de adolescentes\n",
    "- 70*0.13=tomara 9 datos de niños\n"
   ]
  },
  {
   "cell_type": "markdown",
   "id": "28f594e9",
   "metadata": {},
   "source": []
  }
 ],
 "metadata": {
  "kernelspec": {
   "display_name": ".venv",
   "language": "python",
   "name": "python3"
  },
  "language_info": {
   "codemirror_mode": {
    "name": "ipython",
    "version": 3
   },
   "file_extension": ".py",
   "mimetype": "text/x-python",
   "name": "python",
   "nbconvert_exporter": "python",
   "pygments_lexer": "ipython3",
   "version": "3.11.9"
  }
 },
 "nbformat": 4,
 "nbformat_minor": 5
}
