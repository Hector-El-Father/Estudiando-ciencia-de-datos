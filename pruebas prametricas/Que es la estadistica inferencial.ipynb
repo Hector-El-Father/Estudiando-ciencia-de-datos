{
 "cells": [
  {
   "cell_type": "code",
   "execution_count": 16,
   "id": "dd963c89",
   "metadata": {},
   "outputs": [],
   "source": [
    "import pandas as pd\n",
    "import numpy as np"
   ]
  },
  {
   "cell_type": "markdown",
   "id": "ca6ef079",
   "metadata": {},
   "source": [
    "Que es ka estadistica inferencial?\n",
    "- Se encarga de inferir o deducir propiedades de una poblacion apartir de una muestra (datos que se logran recolectar) <br>\n",
    "\n",
    "Que es el test A/B?\n",
    "- te permite saber si una muestra es mejor que la otra de un intervalo de tiempo\n",
    "- una poblacion hace referencia a todos los datos\n",
    "- mientras que una muestra son todos los datos que pudimos recolectar en determinado tiempo\n",
    "- simepre habra una incertumbre de los datos\n",
    "- si tuvieramos acceso a todos los datos de la ponlacion podriamos sacar el promedio de la población\n",
    "- en la practica tenemos que acceder a la estimacion mediante nuestra muestra recolectada, podemos promediar los datos para hacer una estimacion de este valor con ciertos grados de incertidumbre y solo es una aproximación\n"
   ]
  },
  {
   "cell_type": "markdown",
   "id": "1246dda9",
   "metadata": {},
   "source": [
    "El muestro aleatorio\n",
    "- indicada que cada dato dentro de la poblacion tiene la misma probabilidad de ser seleccionado como parte de la muestra\n",
    "si tuviera 20 datos y solo debo seleccionar solo 5, cada uno tiene una P=1/20\n",
    "- el muestro aleatorio puede utilizarse en modelos de machine learning dado que tenemos un set de entrenamiento, validación y prueba\n",
    "- el set de entrenamiento te permite calcular los parametros del modelo\n",
    "- el set de validacion permite ajustar los hiperparametros del modelo\n",
    "- y el set de prueba que ayuda a predecir\n"
   ]
  },
  {
   "cell_type": "markdown",
   "id": "f9a2f947",
   "metadata": {},
   "source": [
    "Muestro aleatorio con remplazo <br>\n",
    "selecciona elementos al azar pero puedes repetirlos, cada vez que se elige un elemento, se devuelve a la poblacion antes del siguiente intendo\n",
    "- este es util cuando estas simulando procesos repetitivos\n",
    "- generar muchas muestras desde una poblacion pequeña"
   ]
  },
  {
   "cell_type": "code",
   "execution_count": 17,
   "id": "64436304",
   "metadata": {},
   "outputs": [
    {
     "name": "stdout",
     "output_type": "stream",
     "text": [
      "los numeros elegidos[9 8 2 3 1 4] y ya no pueden volver a repetirse\n",
      "los numeros elegidos [8 5 6 8 5 4] pueden volver a repetirse n veces\n"
     ]
    }
   ],
   "source": [
    "import numpy as np\n",
    "\n",
    "# Sin reemplazo\n",
    "muestro_simple=np.random.choice(np.arange(1,10), size=6, replace=False)\n",
    "print(f'los numeros elegidos{muestro_simple} y ya no pueden volver a repetirse')\n",
    "# Con reemplazo\n",
    "muestro_con_remplazo=np.random.choice(np.arange(1,10), size=6, replace=True)\n",
    "print(f'los numeros elegidos {muestro_con_remplazo} pueden volver a repetirse n veces')\n"
   ]
  },
  {
   "cell_type": "markdown",
   "id": "91e3b50a",
   "metadata": {},
   "source": [
    "El bootstrapping, tecnica estadistica <Br>\n",
    "es una tecnica de muestro con remplazo:\n",
    "- utilizada para estimar incertidumbre (intervalos de confianza de una metrica)\n",
    "- simular muchas muestras apartir de una sola muestra de datos\n",
    "- mejorar modelos como el random forest al entrensarse multiples veces <br>\n",
    "\n",
    "Fundamento: \n",
    "- cuando se tiene solo una muestra de datos, podemos generar muchas muestras apartir de esta, despues se puede calcular la media, mediana, o precision para estimular su distribucion o variabilidad\n",
    "- no podemos hacer suposiciones, queremos estimilar variabilidad o confianza de un resultado\n"
   ]
  },
  {
   "cell_type": "code",
   "execution_count": 18,
   "id": "fb07aa97",
   "metadata": {},
   "outputs": [
    {
     "data": {
      "text/plain": [
       "array([ 1,  3,  5,  7,  9, 11, 13, 15, 17, 19, 21, 23, 25, 27, 29, 31, 33,\n",
       "       35, 37, 39, 41, 43, 45, 47, 49, 51, 53, 55, 57, 59, 61, 63, 65, 67,\n",
       "       69, 71, 73, 75, 77, 79, 81, 83, 85, 87, 89, 91, 93, 95, 97, 99])"
      ]
     },
     "execution_count": 18,
     "metadata": {},
     "output_type": "execute_result"
    }
   ],
   "source": [
    "datos=np.arange(1,100,2)\n",
    "datos"
   ]
  },
  {
   "cell_type": "code",
   "execution_count": 19,
   "id": "077b209a",
   "metadata": {},
   "outputs": [
    {
     "data": {
      "application/vnd.microsoft.datawrangler.viewer.v0+json": {
       "columns": [
        {
         "name": "index",
         "rawType": "int64",
         "type": "integer"
        },
        {
         "name": "Muestra",
         "rawType": "float64",
         "type": "float"
        }
       ],
       "ref": "c0106725-8c53-4884-99ba-13a1b3cd7c81",
       "rows": [
        [
         "0",
         "49.36"
        ],
        [
         "1",
         "53.24"
        ],
        [
         "2",
         "48.84"
        ],
        [
         "3",
         "46.88"
        ],
        [
         "4",
         "49.68"
        ]
       ],
       "shape": {
        "columns": 1,
        "rows": 5
       }
      },
      "text/html": [
       "<div>\n",
       "<style scoped>\n",
       "    .dataframe tbody tr th:only-of-type {\n",
       "        vertical-align: middle;\n",
       "    }\n",
       "\n",
       "    .dataframe tbody tr th {\n",
       "        vertical-align: top;\n",
       "    }\n",
       "\n",
       "    .dataframe thead th {\n",
       "        text-align: right;\n",
       "    }\n",
       "</style>\n",
       "<table border=\"1\" class=\"dataframe\">\n",
       "  <thead>\n",
       "    <tr style=\"text-align: right;\">\n",
       "      <th></th>\n",
       "      <th>Muestra</th>\n",
       "    </tr>\n",
       "  </thead>\n",
       "  <tbody>\n",
       "    <tr>\n",
       "      <th>0</th>\n",
       "      <td>49.36</td>\n",
       "    </tr>\n",
       "    <tr>\n",
       "      <th>1</th>\n",
       "      <td>53.24</td>\n",
       "    </tr>\n",
       "    <tr>\n",
       "      <th>2</th>\n",
       "      <td>48.84</td>\n",
       "    </tr>\n",
       "    <tr>\n",
       "      <th>3</th>\n",
       "      <td>46.88</td>\n",
       "    </tr>\n",
       "    <tr>\n",
       "      <th>4</th>\n",
       "      <td>49.68</td>\n",
       "    </tr>\n",
       "  </tbody>\n",
       "</table>\n",
       "</div>"
      ],
      "text/plain": [
       "   Muestra\n",
       "0    49.36\n",
       "1    53.24\n",
       "2    48.84\n",
       "3    46.88\n",
       "4    49.68"
      ]
     },
     "execution_count": 19,
     "metadata": {},
     "output_type": "execute_result"
    }
   ],
   "source": [
    "df=[]\n",
    "for i in range(1000):\n",
    "    muestra=np.random.choice(datos, size=len(datos), replace=True)\n",
    "    df.append(np.mean(muestra))\n",
    "df=pd.DataFrame(df, columns=[\"Muestra\"])\n",
    "df.head()"
   ]
  },
  {
   "cell_type": "code",
   "execution_count": 20,
   "id": "4ff0a539",
   "metadata": {},
   "outputs": [
    {
     "data": {
      "application/vnd.microsoft.datawrangler.viewer.v0+json": {
       "columns": [
        {
         "name": "index",
         "rawType": "int64",
         "type": "integer"
        },
        {
         "name": "Muestra",
         "rawType": "float64",
         "type": "float"
        }
       ],
       "ref": "2052b039-5c68-4d99-a6a8-69c60eee6449",
       "rows": [
        [
         "0",
         "49.36"
        ],
        [
         "1",
         "53.24"
        ],
        [
         "2",
         "48.84"
        ],
        [
         "3",
         "46.88"
        ],
        [
         "4",
         "49.68"
        ],
        [
         "5",
         "52.8"
        ],
        [
         "6",
         "51.88"
        ],
        [
         "7",
         "50.0"
        ],
        [
         "8",
         "53.84"
        ],
        [
         "9",
         "53.32"
        ],
        [
         "10",
         "40.72"
        ],
        [
         "11",
         "57.16"
        ],
        [
         "12",
         "56.16"
        ],
        [
         "13",
         "47.52"
        ],
        [
         "14",
         "56.08"
        ],
        [
         "15",
         "50.32"
        ],
        [
         "16",
         "51.48"
        ],
        [
         "17",
         "52.32"
        ],
        [
         "18",
         "51.76"
        ],
        [
         "19",
         "47.52"
        ],
        [
         "20",
         "46.8"
        ],
        [
         "21",
         "49.76"
        ],
        [
         "22",
         "49.12"
        ],
        [
         "23",
         "47.28"
        ],
        [
         "24",
         "47.0"
        ],
        [
         "25",
         "52.92"
        ],
        [
         "26",
         "47.72"
        ],
        [
         "27",
         "44.2"
        ],
        [
         "28",
         "50.6"
        ],
        [
         "29",
         "54.44"
        ],
        [
         "30",
         "50.04"
        ],
        [
         "31",
         "49.84"
        ],
        [
         "32",
         "49.32"
        ],
        [
         "33",
         "53.76"
        ],
        [
         "34",
         "45.4"
        ],
        [
         "35",
         "49.4"
        ],
        [
         "36",
         "54.36"
        ],
        [
         "37",
         "50.64"
        ],
        [
         "38",
         "48.16"
        ],
        [
         "39",
         "44.44"
        ],
        [
         "40",
         "51.24"
        ],
        [
         "41",
         "51.24"
        ],
        [
         "42",
         "50.88"
        ],
        [
         "43",
         "54.56"
        ],
        [
         "44",
         "50.52"
        ],
        [
         "45",
         "43.96"
        ],
        [
         "46",
         "50.44"
        ],
        [
         "47",
         "50.24"
        ],
        [
         "48",
         "55.24"
        ],
        [
         "49",
         "45.56"
        ]
       ],
       "shape": {
        "columns": 1,
        "rows": 1000
       }
      },
      "text/html": [
       "<div>\n",
       "<style scoped>\n",
       "    .dataframe tbody tr th:only-of-type {\n",
       "        vertical-align: middle;\n",
       "    }\n",
       "\n",
       "    .dataframe tbody tr th {\n",
       "        vertical-align: top;\n",
       "    }\n",
       "\n",
       "    .dataframe thead th {\n",
       "        text-align: right;\n",
       "    }\n",
       "</style>\n",
       "<table border=\"1\" class=\"dataframe\">\n",
       "  <thead>\n",
       "    <tr style=\"text-align: right;\">\n",
       "      <th></th>\n",
       "      <th>Muestra</th>\n",
       "    </tr>\n",
       "  </thead>\n",
       "  <tbody>\n",
       "    <tr>\n",
       "      <th>0</th>\n",
       "      <td>49.36</td>\n",
       "    </tr>\n",
       "    <tr>\n",
       "      <th>1</th>\n",
       "      <td>53.24</td>\n",
       "    </tr>\n",
       "    <tr>\n",
       "      <th>2</th>\n",
       "      <td>48.84</td>\n",
       "    </tr>\n",
       "    <tr>\n",
       "      <th>3</th>\n",
       "      <td>46.88</td>\n",
       "    </tr>\n",
       "    <tr>\n",
       "      <th>4</th>\n",
       "      <td>49.68</td>\n",
       "    </tr>\n",
       "    <tr>\n",
       "      <th>...</th>\n",
       "      <td>...</td>\n",
       "    </tr>\n",
       "    <tr>\n",
       "      <th>995</th>\n",
       "      <td>50.24</td>\n",
       "    </tr>\n",
       "    <tr>\n",
       "      <th>996</th>\n",
       "      <td>59.28</td>\n",
       "    </tr>\n",
       "    <tr>\n",
       "      <th>997</th>\n",
       "      <td>44.52</td>\n",
       "    </tr>\n",
       "    <tr>\n",
       "      <th>998</th>\n",
       "      <td>53.36</td>\n",
       "    </tr>\n",
       "    <tr>\n",
       "      <th>999</th>\n",
       "      <td>54.52</td>\n",
       "    </tr>\n",
       "  </tbody>\n",
       "</table>\n",
       "<p>1000 rows × 1 columns</p>\n",
       "</div>"
      ],
      "text/plain": [
       "     Muestra\n",
       "0      49.36\n",
       "1      53.24\n",
       "2      48.84\n",
       "3      46.88\n",
       "4      49.68\n",
       "..       ...\n",
       "995    50.24\n",
       "996    59.28\n",
       "997    44.52\n",
       "998    53.36\n",
       "999    54.52\n",
       "\n",
       "[1000 rows x 1 columns]"
      ]
     },
     "execution_count": 20,
     "metadata": {},
     "output_type": "execute_result"
    }
   ],
   "source": [
    "df_nuevo=df.copy()\n",
    "df_nuevo"
   ]
  },
  {
   "cell_type": "code",
   "execution_count": 21,
   "id": "a332f1f0",
   "metadata": {},
   "outputs": [
    {
     "data": {
      "text/plain": [
       "Index(['Muestra'], dtype='object')"
      ]
     },
     "execution_count": 21,
     "metadata": {},
     "output_type": "execute_result"
    }
   ],
   "source": [
    "df_nuevo.columns"
   ]
  },
  {
   "cell_type": "code",
   "execution_count": 22,
   "id": "fb08032a",
   "metadata": {},
   "outputs": [
    {
     "data": {
      "application/vnd.microsoft.datawrangler.viewer.v0+json": {
       "columns": [
        {
         "name": "index",
         "rawType": "object",
         "type": "string"
        },
        {
         "name": "Muestra",
         "rawType": "float64",
         "type": "float"
        }
       ],
       "ref": "e405911c-7757-418d-952a-49eb71f42141",
       "rows": [
        [
         "count",
         "1000.0"
        ],
        [
         "mean",
         "50.00896000000001"
        ],
        [
         "std",
         "4.048448499567909"
        ],
        [
         "min",
         "36.0"
        ],
        [
         "25%",
         "47.4"
        ],
        [
         "50%",
         "50.08"
        ],
        [
         "75%",
         "52.72"
        ],
        [
         "max",
         "62.24"
        ]
       ],
       "shape": {
        "columns": 1,
        "rows": 8
       }
      },
      "text/plain": [
       "count    1000.000000\n",
       "mean       50.008960\n",
       "std         4.048448\n",
       "min        36.000000\n",
       "25%        47.400000\n",
       "50%        50.080000\n",
       "75%        52.720000\n",
       "max        62.240000\n",
       "Name: Muestra, dtype: float64"
      ]
     },
     "execution_count": 22,
     "metadata": {},
     "output_type": "execute_result"
    }
   ],
   "source": [
    "df_nuevo[\"Muestra\"].describe()"
   ]
  },
  {
   "cell_type": "code",
   "execution_count": 23,
   "id": "9a6322d4",
   "metadata": {},
   "outputs": [
    {
     "data": {
      "image/png": "[encoded data removed]",
      "text/plain": [
       "<Figure size 600x400 with 1 Axes>"
      ]
     },
     "metadata": {},
     "output_type": "display_data"
    }
   ],
   "source": [
    "import matplotlib.pyplot as plt\n",
    "import seaborn as sns\n",
    "plt.figure(figsize=(6,4))\n",
    "sns.histplot(data=df_nuevo[\"Muestra\"], bins=5, kde=True)\n",
    "plt.show()"
   ]
  },
  {
   "cell_type": "code",
   "execution_count": 24,
   "id": "58121373",
   "metadata": {},
   "outputs": [
    {
     "data": {
      "image/png": "[encoded data removed]",
      "text/plain": [
       "<Figure size 640x480 with 1 Axes>"
      ]
     },
     "metadata": {},
     "output_type": "display_data"
    }
   ],
   "source": [
    "plt.Figure(figsize=(6,4))\n",
    "sns.boxplot(data=df_nuevo[\"Muestra\"])\n",
    "plt.show()"
   ]
  },
  {
   "cell_type": "code",
   "execution_count": 25,
   "id": "109fda3c",
   "metadata": {},
   "outputs": [
    {
     "data": {
      "application/vnd.microsoft.datawrangler.viewer.v0+json": {
       "columns": [
        {
         "name": "index",
         "rawType": "object",
         "type": "string"
        },
        {
         "name": "Muestra",
         "rawType": "float64",
         "type": "float"
        }
       ],
       "ref": "34e00424-3aba-468d-bfe7-e98ab2ecf613",
       "rows": [
        [
         "count",
         "1000.0"
        ],
        [
         "mean",
         "50.00896000000001"
        ],
        [
         "std",
         "4.048448499567909"
        ],
        [
         "min",
         "36.0"
        ],
        [
         "25%",
         "47.4"
        ],
        [
         "50%",
         "50.08"
        ],
        [
         "75%",
         "52.72"
        ],
        [
         "max",
         "62.24"
        ]
       ],
       "shape": {
        "columns": 1,
        "rows": 8
       }
      },
      "text/plain": [
       "count    1000.000000\n",
       "mean       50.008960\n",
       "std         4.048448\n",
       "min        36.000000\n",
       "25%        47.400000\n",
       "50%        50.080000\n",
       "75%        52.720000\n",
       "max        62.240000\n",
       "Name: Muestra, dtype: float64"
      ]
     },
     "execution_count": 25,
     "metadata": {},
     "output_type": "execute_result"
    }
   ],
   "source": [
    "df_nuevo[\"Muestra\"].describe()"
   ]
  },
  {
   "cell_type": "markdown",
   "id": "aa920a3a",
   "metadata": {},
   "source": [
    "Muestreo estatificado\n",
    "\n",
    "Consiste en dividir la poblacion en estratos y tomar una mmuestra aleatoria de cada uno\n",
    "- consiste en dividir la poblacion en subgrupos que comparten caracteristicas similares, luego tomar proporciones individuales de cada uno\n",
    "\n"
   ]
  },
  {
   "cell_type": "code",
   "execution_count": 26,
   "id": "dd9b495f",
   "metadata": {},
   "outputs": [
    {
     "data": {
      "application/vnd.microsoft.datawrangler.viewer.v0+json": {
       "columns": [
        {
         "name": "index",
         "rawType": "int64",
         "type": "integer"
        },
        {
         "name": "edad",
         "rawType": "int64",
         "type": "integer"
        },
        {
         "name": "clasificacion_social",
         "rawType": "object",
         "type": "string"
        }
       ],
       "ref": "0c15d762-dc17-4927-80b9-e1eb467c8b9f",
       "rows": [
        [
         "0",
         "44",
         "Adulto"
        ],
        [
         "1",
         "6",
         "Niño"
        ],
        [
         "2",
         "4",
         "Niño"
        ],
        [
         "3",
         "60",
         "Adulto"
        ],
        [
         "4",
         "48",
         "Adulto"
        ],
        [
         "5",
         "82",
         "Adulto"
        ],
        [
         "6",
         "2",
         "Niño"
        ],
        [
         "7",
         "52",
         "Adulto"
        ],
        [
         "8",
         "100",
         "Adulto"
        ],
        [
         "9",
         "11",
         "Niño"
        ],
        [
         "10",
         "37",
         "Adolescente"
        ],
        [
         "11",
         "12",
         "Niño"
        ],
        [
         "12",
         "53",
         "Adulto"
        ],
        [
         "13",
         "9",
         "Niño"
        ],
        [
         "14",
         "38",
         "Adolescente"
        ],
        [
         "15",
         "10",
         "Niño"
        ],
        [
         "16",
         "30",
         "Adolescente"
        ],
        [
         "17",
         "35",
         "Adolescente"
        ],
        [
         "18",
         "16",
         "Niño"
        ],
        [
         "19",
         "91",
         "Adulto"
        ],
        [
         "20",
         "10",
         "Niño"
        ],
        [
         "21",
         "99",
         "Adulto"
        ],
        [
         "22",
         "29",
         "Adolescente"
        ],
        [
         "23",
         "46",
         "Adulto"
        ],
        [
         "24",
         "37",
         "Adolescente"
        ],
        [
         "25",
         "69",
         "Adulto"
        ],
        [
         "26",
         "91",
         "Adulto"
        ],
        [
         "27",
         "83",
         "Adulto"
        ],
        [
         "28",
         "55",
         "Adulto"
        ],
        [
         "29",
         "36",
         "Adolescente"
        ],
        [
         "30",
         "73",
         "Adulto"
        ],
        [
         "31",
         "8",
         "Niño"
        ],
        [
         "32",
         "73",
         "Adulto"
        ],
        [
         "33",
         "51",
         "Adulto"
        ],
        [
         "34",
         "42",
         "Adulto"
        ],
        [
         "35",
         "84",
         "Adulto"
        ],
        [
         "36",
         "44",
         "Adulto"
        ],
        [
         "37",
         "4",
         "Niño"
        ],
        [
         "38",
         "96",
         "Adulto"
        ],
        [
         "39",
         "61",
         "Adulto"
        ],
        [
         "40",
         "11",
         "Niño"
        ],
        [
         "41",
         "48",
         "Adulto"
        ],
        [
         "42",
         "55",
         "Adulto"
        ],
        [
         "43",
         "64",
         "Adulto"
        ],
        [
         "44",
         "9",
         "Niño"
        ],
        [
         "45",
         "45",
         "Adulto"
        ],
        [
         "46",
         "26",
         "Adolescente"
        ],
        [
         "47",
         "5",
         "Niño"
        ],
        [
         "48",
         "44",
         "Adulto"
        ],
        [
         "49",
         "79",
         "Adulto"
        ]
       ],
       "shape": {
        "columns": 2,
        "rows": 100
       }
      },
      "text/html": [
       "<div>\n",
       "<style scoped>\n",
       "    .dataframe tbody tr th:only-of-type {\n",
       "        vertical-align: middle;\n",
       "    }\n",
       "\n",
       "    .dataframe tbody tr th {\n",
       "        vertical-align: top;\n",
       "    }\n",
       "\n",
       "    .dataframe thead th {\n",
       "        text-align: right;\n",
       "    }\n",
       "</style>\n",
       "<table border=\"1\" class=\"dataframe\">\n",
       "  <thead>\n",
       "    <tr style=\"text-align: right;\">\n",
       "      <th></th>\n",
       "      <th>edad</th>\n",
       "      <th>clasificacion_social</th>\n",
       "    </tr>\n",
       "  </thead>\n",
       "  <tbody>\n",
       "    <tr>\n",
       "      <th>0</th>\n",
       "      <td>44</td>\n",
       "      <td>Adulto</td>\n",
       "    </tr>\n",
       "    <tr>\n",
       "      <th>1</th>\n",
       "      <td>6</td>\n",
       "      <td>Niño</td>\n",
       "    </tr>\n",
       "    <tr>\n",
       "      <th>2</th>\n",
       "      <td>4</td>\n",
       "      <td>Niño</td>\n",
       "    </tr>\n",
       "    <tr>\n",
       "      <th>3</th>\n",
       "      <td>60</td>\n",
       "      <td>Adulto</td>\n",
       "    </tr>\n",
       "    <tr>\n",
       "      <th>4</th>\n",
       "      <td>48</td>\n",
       "      <td>Adulto</td>\n",
       "    </tr>\n",
       "    <tr>\n",
       "      <th>...</th>\n",
       "      <td>...</td>\n",
       "      <td>...</td>\n",
       "    </tr>\n",
       "    <tr>\n",
       "      <th>95</th>\n",
       "      <td>70</td>\n",
       "      <td>Adulto</td>\n",
       "    </tr>\n",
       "    <tr>\n",
       "      <th>96</th>\n",
       "      <td>63</td>\n",
       "      <td>Adulto</td>\n",
       "    </tr>\n",
       "    <tr>\n",
       "      <th>97</th>\n",
       "      <td>30</td>\n",
       "      <td>Adolescente</td>\n",
       "    </tr>\n",
       "    <tr>\n",
       "      <th>98</th>\n",
       "      <td>30</td>\n",
       "      <td>Adolescente</td>\n",
       "    </tr>\n",
       "    <tr>\n",
       "      <th>99</th>\n",
       "      <td>54</td>\n",
       "      <td>Adulto</td>\n",
       "    </tr>\n",
       "  </tbody>\n",
       "</table>\n",
       "<p>100 rows × 2 columns</p>\n",
       "</div>"
      ],
      "text/plain": [
       "    edad clasificacion_social\n",
       "0     44               Adulto\n",
       "1      6                 Niño\n",
       "2      4                 Niño\n",
       "3     60               Adulto\n",
       "4     48               Adulto\n",
       "..   ...                  ...\n",
       "95    70               Adulto\n",
       "96    63               Adulto\n",
       "97    30          Adolescente\n",
       "98    30          Adolescente\n",
       "99    54               Adulto\n",
       "\n",
       "[100 rows x 2 columns]"
      ]
     },
     "execution_count": 26,
     "metadata": {},
     "output_type": "execute_result"
    }
   ],
   "source": [
    "edad=np.random.choice(np.arange(1,101), size=100, replace=True)\n",
    "df_estratificado=pd.DataFrame({\n",
    "    \"edad\": edad,\n",
    "    \"clasificacion_social\":np.where(edad<18, \"Niño\",\n",
    "                                    np.where(edad<40, \"Adolescente\",\"Adulto\"))\n",
    "})\n",
    "df_estratificado"
   ]
  },
  {
   "cell_type": "code",
   "execution_count": 27,
   "id": "fc251ead",
   "metadata": {},
   "outputs": [
    {
     "data": {
      "application/vnd.microsoft.datawrangler.viewer.v0+json": {
       "columns": [
        {
         "name": "index",
         "rawType": "int64",
         "type": "integer"
        },
        {
         "name": "edad",
         "rawType": "int64",
         "type": "integer"
        }
       ],
       "ref": "6cd518b7-6625-42c6-8243-91acba3533da",
       "rows": [
        [
         "15",
         "10"
        ],
        [
         "76",
         "75"
        ],
        [
         "33",
         "51"
        ],
        [
         "75",
         "14"
        ],
        [
         "2",
         "4"
        ]
       ],
       "shape": {
        "columns": 1,
        "rows": 5
       }
      },
      "text/html": [
       "<div>\n",
       "<style scoped>\n",
       "    .dataframe tbody tr th:only-of-type {\n",
       "        vertical-align: middle;\n",
       "    }\n",
       "\n",
       "    .dataframe tbody tr th {\n",
       "        vertical-align: top;\n",
       "    }\n",
       "\n",
       "    .dataframe thead th {\n",
       "        text-align: right;\n",
       "    }\n",
       "</style>\n",
       "<table border=\"1\" class=\"dataframe\">\n",
       "  <thead>\n",
       "    <tr style=\"text-align: right;\">\n",
       "      <th></th>\n",
       "      <th>edad</th>\n",
       "    </tr>\n",
       "  </thead>\n",
       "  <tbody>\n",
       "    <tr>\n",
       "      <th>15</th>\n",
       "      <td>10</td>\n",
       "    </tr>\n",
       "    <tr>\n",
       "      <th>76</th>\n",
       "      <td>75</td>\n",
       "    </tr>\n",
       "    <tr>\n",
       "      <th>33</th>\n",
       "      <td>51</td>\n",
       "    </tr>\n",
       "    <tr>\n",
       "      <th>75</th>\n",
       "      <td>14</td>\n",
       "    </tr>\n",
       "    <tr>\n",
       "      <th>2</th>\n",
       "      <td>4</td>\n",
       "    </tr>\n",
       "  </tbody>\n",
       "</table>\n",
       "</div>"
      ],
      "text/plain": [
       "    edad\n",
       "15    10\n",
       "76    75\n",
       "33    51\n",
       "75    14\n",
       "2      4"
      ]
     },
     "execution_count": 27,
     "metadata": {},
     "output_type": "execute_result"
    }
   ],
   "source": [
    "from sklearn.model_selection import train_test_split\n",
    "x=df_estratificado[[\"edad\"]]\n",
    "y=df_estratificado[\"clasificacion_social\"]\n",
    "x_train, x_test, y_train, y_test=train_test_split(x,y,\n",
    "                                                test_size=0.3,\n",
    "                                                stratify=y,\n",
    "                                                random_state=42)\n",
    "x_train.head()"
   ]
  },
  {
   "cell_type": "code",
   "execution_count": 28,
   "id": "039857dc",
   "metadata": {},
   "outputs": [
    {
     "data": {
      "application/vnd.microsoft.datawrangler.viewer.v0+json": {
       "columns": [
        {
         "name": "clasificacion_social",
         "rawType": "object",
         "type": "string"
        },
        {
         "name": "count",
         "rawType": "int64",
         "type": "integer"
        }
       ],
       "ref": "5f625d2c-4d61-445a-b189-0a068cfbadf3",
       "rows": [
        [
         "Adulto",
         "59"
        ],
        [
         "Adolescente",
         "22"
        ],
        [
         "Niño",
         "19"
        ]
       ],
       "shape": {
        "columns": 1,
        "rows": 3
       }
      },
      "text/plain": [
       "clasificacion_social\n",
       "Adulto         59\n",
       "Adolescente    22\n",
       "Niño           19\n",
       "Name: count, dtype: int64"
      ]
     },
     "execution_count": 28,
     "metadata": {},
     "output_type": "execute_result"
    }
   ],
   "source": [
    "y.value_counts()"
   ]
  },
  {
   "cell_type": "code",
   "execution_count": 29,
   "id": "654111c6",
   "metadata": {},
   "outputs": [
    {
     "data": {
      "application/vnd.microsoft.datawrangler.viewer.v0+json": {
       "columns": [
        {
         "name": "index",
         "rawType": "int64",
         "type": "integer"
        },
        {
         "name": "edad",
         "rawType": "int64",
         "type": "integer"
        }
       ],
       "ref": "0f49c752-dbbc-47ef-9e41-ea3fde7e9799",
       "rows": [
        [
         "15",
         "10"
        ],
        [
         "76",
         "75"
        ],
        [
         "33",
         "51"
        ],
        [
         "75",
         "14"
        ],
        [
         "2",
         "4"
        ],
        [
         "42",
         "55"
        ],
        [
         "6",
         "2"
        ],
        [
         "5",
         "82"
        ],
        [
         "74",
         "75"
        ],
        [
         "41",
         "48"
        ],
        [
         "64",
         "30"
        ],
        [
         "24",
         "37"
        ],
        [
         "19",
         "91"
        ],
        [
         "23",
         "46"
        ],
        [
         "99",
         "54"
        ],
        [
         "54",
         "31"
        ],
        [
         "50",
         "88"
        ],
        [
         "27",
         "83"
        ],
        [
         "80",
         "28"
        ],
        [
         "13",
         "9"
        ],
        [
         "83",
         "94"
        ],
        [
         "8",
         "100"
        ],
        [
         "70",
         "76"
        ],
        [
         "45",
         "45"
        ],
        [
         "14",
         "38"
        ],
        [
         "0",
         "44"
        ],
        [
         "7",
         "52"
        ],
        [
         "62",
         "14"
        ],
        [
         "35",
         "84"
        ],
        [
         "82",
         "37"
        ],
        [
         "47",
         "5"
        ],
        [
         "22",
         "29"
        ],
        [
         "67",
         "81"
        ],
        [
         "55",
         "47"
        ],
        [
         "16",
         "30"
        ],
        [
         "9",
         "11"
        ],
        [
         "21",
         "99"
        ],
        [
         "94",
         "79"
        ],
        [
         "93",
         "67"
        ],
        [
         "37",
         "4"
        ],
        [
         "84",
         "78"
        ],
        [
         "52",
         "28"
        ],
        [
         "72",
         "37"
        ],
        [
         "91",
         "51"
        ],
        [
         "90",
         "88"
        ],
        [
         "10",
         "37"
        ],
        [
         "28",
         "55"
        ],
        [
         "85",
         "62"
        ],
        [
         "89",
         "92"
        ],
        [
         "81",
         "74"
        ]
       ],
       "shape": {
        "columns": 1,
        "rows": 70
       }
      },
      "text/html": [
       "<div>\n",
       "<style scoped>\n",
       "    .dataframe tbody tr th:only-of-type {\n",
       "        vertical-align: middle;\n",
       "    }\n",
       "\n",
       "    .dataframe tbody tr th {\n",
       "        vertical-align: top;\n",
       "    }\n",
       "\n",
       "    .dataframe thead th {\n",
       "        text-align: right;\n",
       "    }\n",
       "</style>\n",
       "<table border=\"1\" class=\"dataframe\">\n",
       "  <thead>\n",
       "    <tr style=\"text-align: right;\">\n",
       "      <th></th>\n",
       "      <th>edad</th>\n",
       "    </tr>\n",
       "  </thead>\n",
       "  <tbody>\n",
       "    <tr>\n",
       "      <th>15</th>\n",
       "      <td>10</td>\n",
       "    </tr>\n",
       "    <tr>\n",
       "      <th>76</th>\n",
       "      <td>75</td>\n",
       "    </tr>\n",
       "    <tr>\n",
       "      <th>33</th>\n",
       "      <td>51</td>\n",
       "    </tr>\n",
       "    <tr>\n",
       "      <th>75</th>\n",
       "      <td>14</td>\n",
       "    </tr>\n",
       "    <tr>\n",
       "      <th>2</th>\n",
       "      <td>4</td>\n",
       "    </tr>\n",
       "    <tr>\n",
       "      <th>...</th>\n",
       "      <td>...</td>\n",
       "    </tr>\n",
       "    <tr>\n",
       "      <th>71</th>\n",
       "      <td>23</td>\n",
       "    </tr>\n",
       "    <tr>\n",
       "      <th>95</th>\n",
       "      <td>70</td>\n",
       "    </tr>\n",
       "    <tr>\n",
       "      <th>40</th>\n",
       "      <td>11</td>\n",
       "    </tr>\n",
       "    <tr>\n",
       "      <th>63</th>\n",
       "      <td>42</td>\n",
       "    </tr>\n",
       "    <tr>\n",
       "      <th>60</th>\n",
       "      <td>34</td>\n",
       "    </tr>\n",
       "  </tbody>\n",
       "</table>\n",
       "<p>70 rows × 1 columns</p>\n",
       "</div>"
      ],
      "text/plain": [
       "    edad\n",
       "15    10\n",
       "76    75\n",
       "33    51\n",
       "75    14\n",
       "2      4\n",
       "..   ...\n",
       "71    23\n",
       "95    70\n",
       "40    11\n",
       "63    42\n",
       "60    34\n",
       "\n",
       "[70 rows x 1 columns]"
      ]
     },
     "execution_count": 29,
     "metadata": {},
     "output_type": "execute_result"
    }
   ],
   "source": [
    "df_train=pd.DataFrame(x_train, columns=[\"edad\"])\n",
    "df_train"
   ]
  },
  {
   "cell_type": "code",
   "execution_count": 30,
   "id": "15c556d4",
   "metadata": {},
   "outputs": [
    {
     "data": {
      "application/vnd.microsoft.datawrangler.viewer.v0+json": {
       "columns": [
        {
         "name": "cluster",
         "rawType": "object",
         "type": "string"
        },
        {
         "name": "count",
         "rawType": "int64",
         "type": "integer"
        }
       ],
       "ref": "a1448684-480e-4057-91a4-4a6d9220291e",
       "rows": [
        [
         "Adulto",
         "53"
        ],
        [
         "Niño",
         "13"
        ],
        [
         "Adolescente",
         "4"
        ]
       ],
       "shape": {
        "columns": 1,
        "rows": 3
       }
      },
      "text/plain": [
       "cluster\n",
       "Adulto         53\n",
       "Niño           13\n",
       "Adolescente     4\n",
       "Name: count, dtype: int64"
      ]
     },
     "execution_count": 30,
     "metadata": {},
     "output_type": "execute_result"
    }
   ],
   "source": [
    "df_train[\"cluster\"]=np.where(df_train[\"edad\"]<18, \"Niño\",\n",
    "                                    np.where(df_train[\"edad\"]<30, \"Adolescente\",\"Adulto\"))\n",
    "df_train.cluster.value_counts()"
   ]
  },
  {
   "cell_type": "code",
   "execution_count": 31,
   "id": "c1a3deaf",
   "metadata": {},
   "outputs": [
    {
     "name": "stdout",
     "output_type": "stream",
     "text": [
      "Distribución original:\n",
      "clasificacion_social\n",
      "Adulto         0.59\n",
      "Adolescente    0.22\n",
      "Niño           0.19\n",
      "Name: proportion, dtype: float64\n",
      "\n",
      "Distribución en la muestra (test):\n",
      "clasificacion_social\n",
      "Adulto         0.6\n",
      "Adolescente    0.2\n",
      "Niño           0.2\n",
      "Name: proportion, dtype: float64\n"
     ]
    }
   ],
   "source": [
    "print(\"Distribución original:\")\n",
    "print(y.value_counts(normalize=True))\n",
    "\n",
    "print(\"\\nDistribución en la muestra (test):\")\n",
    "print(y_test.value_counts(normalize=True))\n"
   ]
  },
  {
   "cell_type": "markdown",
   "id": "8210f2e0",
   "metadata": {},
   "source": [
    "Cuano hacemos un muestreo estratificado, podemos tener diferente tipo de proporcion entre todo el data set\n",
    "- este tipo de muestreo se seleccionan observaciones de cada estrato, pero no en proporcion al tamaño real de ese estrato en la poblacion\n",
    "en 100 datos distribuidos de la siguiente manera\n",
    "- adultos 50%\n",
    "- adolescentes 29%\n",
    "- niños 13%\n",
    "\n",
    "si tomamos 70% de entrenamiento los datos que tomara de cda estrato seran los siguientes\n",
    "\n",
    "- 70*0.58=tomara 41 datos de adultos\n",
    "- 70*0.29=tomara 20 datos de adolescentes\n",
    "- 70*0.13=tomara 9 datos de niños\n"
   ]
  },
  {
   "cell_type": "markdown",
   "id": "28f594e9",
   "metadata": {},
   "source": []
  }
 ],
 "metadata": {
  "kernelspec": {
   "display_name": ".venv",
   "language": "python",
   "name": "python3"
  },
  "language_info": {
   "codemirror_mode": {
    "name": "ipython",
    "version": 3
   },
   "file_extension": ".py",
   "mimetype": "text/x-python",
   "name": "python",
   "nbconvert_exporter": "python",
   "pygments_lexer": "ipython3",
   "version": "3.11.9"
  }
 },
 "nbformat": 4,
 "nbformat_minor": 5
}
