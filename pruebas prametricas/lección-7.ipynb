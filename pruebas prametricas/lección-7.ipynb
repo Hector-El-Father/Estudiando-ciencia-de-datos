{
 "cells": [
  {
   "cell_type": "markdown",
   "id": "814481eb",
   "metadata": {},
   "source": [
    "# La técnica del \"bootstrapping\"\n",
    "\n",
    "Todas las técnicas de estimación que hemos visto hasta el momento parten de una condición ideal: debemos tener acceso a la población.\n",
    "\n",
    "Pero ya sabemos que en la práctica esto no es viable y sólo tendremos acceso a los datos recolectados (que en últimas son una muestra de la población).\n",
    "\n",
    "Así que la pregunta es: ¿cómo podemos generar estimaciones confiables si tan sólo tenemos una muestra de la población?\n",
    "\n",
    "La respuesta está en la técnica de \"bootstrapping\" que veremos en detalle en esta lección.\n",
    "\n",
    "Así que comenzaremos haciendo un repaso de la forma como idealmente se hacen estimaciones basadas en la población, luego veremos el principio de funcionamiento del \"bootstrapping\" así como un sencillo ejemplo que nos permitirá entender la idea básica del método.\n",
    "\n",
    "Luego haremos una simulación para verificar que las estimaciones obtenidas con el \"bootstrapping\" son muy cercanas a las obtenidas si tuviésemos la población. Y finalizaremos la lección con un ejemplo práctico aplicado al análisis de un set de datos y con los principales aspectos a tener en cuenta al momento de usar el \"bootstrapping\"."
   ]
  },
  {
   "cell_type": "markdown",
   "id": "6d6aa362",
   "metadata": {},
   "source": [
    "## 1. El problema de la estimación ideal\n",
    "\n",
    "![](estimacion-ideal.png)\n",
    "\n",
    "Como lo hemos venido mencionando, el inconveniente de este método (que llamaremos \"estimación ideal\") es que debemos tener acceso a todos los datos (es decir a la población)."
   ]
  },
  {
   "cell_type": "markdown",
   "id": "f55e8e76",
   "metadata": {},
   "source": [
    "## 2. *Bootstrapping*: principio de funcionamiento\n",
    "\n",
    "El principio de funcionamiento del *bootstrapping* es sencillo: en lugar de realizar las estimaciones a partir de la población las haremos a partir de los datos recolectados y siguiendo posteriormente la misma lógica de la \"estimación clásica\":\n",
    "\n",
    "![](estimacion-bootstrapping.png)\n",
    "\n",
    "\n",
    "Así que los pasos a seguir para hacer la estimación serían:\n",
    "\n",
    "1. Conformar la **muestra de la población** que será simplemente los datos que lograremos recolectar. Esta cantidad de datos recolectada (\"n\") debe ser representativa de la población.\n",
    "2. Obtener \"M\" muestras de la **muestra de la población** usando **muestreo aleatorio con reemplazo**. Cada muestra obtenida tendrá \"n\" datos (la misma cantidad de datos recolectados).\n",
    "3. Obtener la **distribución muestral *bootstrapping*** a partir de las muestras obtenidas en (2)\n",
    "4. **Estimar la estadística y cuantificar la incertidumbre** (error estándar, intervalos de confianza) a partir de la distribución muestral *bootstrapping* obtenida en (3)\n",
    "\n",
    "Como vemos, la lógica de estimación es muy similar a la del método ideal, pero cambiando la población por los datos recolectados y el muestreo aleatorio por el muestreo aleatorio con reemplazo.\n",
    "\n",
    "### 2.1. *Bootstrapping*: ejemplo numérico simple\n",
    "\n",
    "Hagamos un ejemplo muy sencillo para entender los detalles del funcionamiento de esta técnica. Supongamos que los datos recolectados (no la población) serán simplemente estos 5 números:"
   ]
  },
  {
   "cell_type": "code",
   "execution_count": 69,
   "id": "dc98e72a",
   "metadata": {},
   "outputs": [
    {
     "data": {
      "text/plain": [
       "array([23, 16, 14, 57, 64])"
      ]
     },
     "execution_count": 69,
     "metadata": {},
     "output_type": "execute_result"
    }
   ],
   "source": [
    "import numpy as np\n",
    "\n",
    "datos = np.asarray([23, 16, 14, 57, 64])\n",
    "datos"
   ]
  },
  {
   "cell_type": "markdown",
   "id": "be31f702",
   "metadata": {},
   "source": [
    "Y supongamos que queremos estimar la media usando el método *bootstrapping*. Realmente es un problema trivial pues tenemos poquísimos datos, pero la idea es entender los detalles del método.\n",
    "\n",
    "El paso 1 ya lo hemos llevado a cabo: ya tenemos la **muestra de la población** que son precisamente los 5 datos.\n",
    "\n",
    "El segundo paso es obtener \"M\" muestras de este set de datos usando muestreo aleatorio con reemplazo. Además cada muestra debe tener \"n\" datos (en este caso n=5).\n",
    "\n",
    "Usualmente se sugiere un \"M\" entre 1.000 y 10.000, pero como tenemos tan pocos datos (n=5) vamos a suponer un M=10.\n",
    "\n",
    "Veamos la implementación de este segundo paso:"
   ]
  },
  {
   "cell_type": "code",
   "execution_count": 70,
   "id": "99676c61",
   "metadata": {},
   "outputs": [
    {
     "name": "stdout",
     "output_type": "stream",
     "text": [
      "[57 14 64 16 64]\n",
      "[23 14 14 57 14]\n",
      "[16 16 64 64 14]\n",
      "[57 14 57 64 16]\n",
      "[16 23 57 23 16]\n",
      "[64 14 57 16 16]\n",
      "[23 64 57 16 23]\n",
      "[14 16 57 23 64]\n",
      "[16 57 23 14 14]\n",
      "[16 14 64 57 23]\n"
     ]
    }
   ],
   "source": [
    "M = 10\n",
    "n = len(datos) # n = 5\n",
    "muestras = np.zeros((M,n)) # Arreglo de 10x5 que contendrá las 10 muestras\n",
    "\n",
    "for m in range(M):\n",
    "    # Obtener muestra aleatoria con reemplazo\n",
    "    muestra = np.random.choice(datos, size=n, replace=True)\n",
    "    \n",
    "    # Almacenarla en \"muestras\" e imprimirla en pantalla\n",
    "    muestras[m,:] = muestra\n",
    "    print(muestra)"
   ]
  },
  {
   "cell_type": "markdown",
   "id": "8dc27540",
   "metadata": {},
   "source": [
    "Vemos que por tratarse de muestreo aleatorio con reemplazo un mismo dato podrá aparecer más de una vez en cada muestra.\n",
    "\n",
    "Y vemos que cada fila en el arreglo `muestras` contiene cada una de las muestras obtenida anteriormente:"
   ]
  },
  {
   "cell_type": "code",
   "execution_count": 71,
   "id": "a42fba37",
   "metadata": {},
   "outputs": [
    {
     "data": {
      "text/plain": [
       "array([[57., 14., 64., 16., 64.],\n",
       "       [23., 14., 14., 57., 14.],\n",
       "       [16., 16., 64., 64., 14.],\n",
       "       [57., 14., 57., 64., 16.],\n",
       "       [16., 23., 57., 23., 16.],\n",
       "       [64., 14., 57., 16., 16.],\n",
       "       [23., 64., 57., 16., 23.],\n",
       "       [14., 16., 57., 23., 64.],\n",
       "       [16., 57., 23., 14., 14.],\n",
       "       [16., 14., 64., 57., 23.]])"
      ]
     },
     "execution_count": 71,
     "metadata": {},
     "output_type": "execute_result"
    }
   ],
   "source": [
    "muestras"
   ]
  },
  {
   "cell_type": "markdown",
   "id": "e915a5e8",
   "metadata": {},
   "source": [
    "El paso 3 consiste en obtener la **distribución muestral *bootstrapping***. Como la estadística que queremos estimar es la media, esta distribución muestral será simplemente la media de cada muestra, es decir de cada fila en el arreglo `muestras`.\n",
    "\n",
    "Esta media por filas la podemos obtener con el método `mean(axis=1)` donde `axis=1` le indica a NumPy que queremos calcular el promedio de cada fila:"
   ]
  },
  {
   "cell_type": "code",
   "execution_count": 72,
   "id": "4968f4a1",
   "metadata": {},
   "outputs": [
    {
     "data": {
      "text/plain": [
       "array([43. , 24.4, 34.8, 41.6, 27. , 33.4, 36.6, 34.8, 24.8, 34.8])"
      ]
     },
     "execution_count": 72,
     "metadata": {},
     "output_type": "execute_result"
    }
   ],
   "source": [
    "d_muestral_boot = muestras.mean(axis=1)\n",
    "d_muestral_boot"
   ]
  },
  {
   "cell_type": "code",
   "execution_count": 73,
   "id": "f20ffd1c",
   "metadata": {},
   "outputs": [
    {
     "data": {
      "text/plain": [
       "<Axes: ylabel='Count'>"
      ]
     },
     "execution_count": 73,
     "metadata": {},
     "output_type": "execute_result"
    },
    {
     "data": {
      "image/png": "[encoded data removed]",
      "text/plain": [
       "<Figure size 640x480 with 1 Axes>"
      ]
     },
     "metadata": {},
     "output_type": "display_data"
    }
   ],
   "source": [
    "import seaborn as sns\n",
    "import matplotlib.pyplot as plt\n",
    "\n",
    "sns.histplot(d_muestral_boot)"
   ]
  },
  {
   "cell_type": "markdown",
   "id": "3670ce48",
   "metadata": {},
   "source": [
    "Y con esto ya tenemos la distribución muestral *bootstrapping*.\n",
    "\n",
    "El cuarto y último paso consiste en tomar esta distribución muestral y calcular tanto la estimación como la incertidumbre en la misma.\n",
    "\n",
    "Comencemos con la estimación, que será la media:"
   ]
  },
  {
   "cell_type": "code",
   "execution_count": 74,
   "id": "e855e745",
   "metadata": {},
   "outputs": [
    {
     "name": "stdout",
     "output_type": "stream",
     "text": [
      "Media de la distribución muestral bootstrapping: 33.52\n"
     ]
    }
   ],
   "source": [
    "# Estimar la media a partir de la distribución muestral \"bootstrapping\"\n",
    "media_boot = np.mean(d_muestral_boot)\n",
    "print(f\"Media de la distribución muestral bootstrapping: {media_boot.mean()}\")"
   ]
  },
  {
   "cell_type": "markdown",
   "id": "3063c504",
   "metadata": {},
   "source": [
    "Y ahora calculemos la incertidumbre en esta estimación. Usaremos las dos métricas aprendidas anteriormente: el error estándar y el intervalo de confianza.\n",
    "\n",
    "Comencemos con el error estándar, que será simplemente la desviación estándar de la distribución muestral *bootstrapping*:"
   ]
  },
  {
   "cell_type": "code",
   "execution_count": 75,
   "id": "bfc7b36b",
   "metadata": {},
   "outputs": [
    {
     "name": "stdout",
     "output_type": "stream",
     "text": [
      "Error estándar estimación bootstrapping: 6.09340627235703\n"
     ]
    }
   ],
   "source": [
    "error_boot = np.std(d_muestral_boot)\n",
    "print(f\"Error estándar estimación bootstrapping: {error_boot}\")"
   ]
  },
  {
   "cell_type": "code",
   "execution_count": 76,
   "id": "6c6002f2",
   "metadata": {},
   "outputs": [
    {
     "name": "stdout",
     "output_type": "stream",
     "text": [
      "(np.float64(28.925252451602486), np.float64(38.11474754839752))\n",
      "33.52\n",
      "2.03113542411901\n"
     ]
    }
   ],
   "source": [
    "from scipy import stats\n",
    "\n",
    "datos = d_muestral_boot\n",
    "media = np.mean(datos)\n",
    "sem = stats.sem(datos)  # error estándar de la media\n",
    "ic = stats.t.interval(0.95, len(datos)-1, loc=media, scale=sem)  # IC del 95%\n",
    "print(ic)\n",
    "print(media)\n",
    "print(sem)"
   ]
  },
  {
   "cell_type": "markdown",
   "id": "1025924c",
   "metadata": {},
   "source": [
    "Y ahora calculemos el intervalo de confianza de, por ejemplo, el 95%. Para ello reutilizaremos la función creada en la lección anterior (con ligeras modificaciones):"
   ]
  },
  {
   "cell_type": "code",
   "execution_count": 77,
   "id": "78177878",
   "metadata": {},
   "outputs": [],
   "source": [
    "def calcular_IC(distribucion, ic):\n",
    "    # Calcular umbrales percentiles del lado izquierdo y derecho\n",
    "    lim_izq = (1-ic)/2 * 100\n",
    "    lim_der = (ic + (1-ic)/2) * 100\n",
    "    \n",
    "    # Calcular valores percentiles izquierdo y derecho\n",
    "    perc_izq = np.percentile(distribucion, lim_izq)\n",
    "    perc_der = np.percentile(distribucion, lim_der)\n",
    "    \n",
    "    # Retornar intervalo   \n",
    "    return [perc_izq, perc_der]"
   ]
  },
  {
   "cell_type": "markdown",
   "id": "c2dfbae3",
   "metadata": {},
   "source": [
    "Y ahora sí calculemos el intervalo de confianza del 95%:"
   ]
  },
  {
   "cell_type": "code",
   "execution_count": 78,
   "id": "85a58976",
   "metadata": {},
   "outputs": [
    {
     "name": "stdout",
     "output_type": "stream",
     "text": [
      "Intervalo de confianza del 95% (bootstrapping): 24.5 a 42.7\n"
     ]
    }
   ],
   "source": [
    "ic_boot = calcular_IC(d_muestral_boot, ic=0.95)\n",
    "print(f\"Intervalo de confianza del 95% (bootstrapping): {ic_boot[0]:.1f} a {ic_boot[1]:.1f}\")"
   ]
  },
  {
   "cell_type": "markdown",
   "id": "017f29ee",
   "metadata": {},
   "source": [
    "Y listo, ya hemos visto paso a paso cómo generar estimaciones usando el método *bootstrapping*.\n",
    "\n",
    "Esta misma lógica la podremos aplicar a casos en los cuales tengamos muchísimos más datos, así que vale la pena reorganizar el código anterior para poderlo utilizar.\n",
    "\n",
    "Para ello vamos a crear la función `estimacion_boot` que permite realizar estimaciones y cálculos de incertidumbre **sobre la media** a partir de un arreglo numérico de datos.\n",
    "\n",
    "Los parámetros de entrada de esta función serán:\n",
    "\n",
    "- `arreglo`: los datos recolectados que usaremos para hacer la estimación\n",
    "- `M`: el número de muestras *bootstrapping* a obtener (por defecto 1.000)\n",
    "- `ic`: el intervalo de confianza deseado (por defecto 0.95)\n",
    "\n",
    "A la salida la función retornará:\n",
    "\n",
    "- `media_boot`: la media estimada usando la técnica del *bootstrapping*\n",
    "- `error_boot` e `ic_boot`: el error estándar y el intervalo de confianza calculados usando la técnica del *bootstrapping*\n",
    "\n",
    "Veamos esta implementación:"
   ]
  },
  {
   "cell_type": "code",
   "execution_count": 79,
   "id": "30e4c99c",
   "metadata": {},
   "outputs": [],
   "source": [
    "def estimacion_boot(arreglo, M=1000, ic=0.95):\n",
    "    # Inicialización\n",
    "    n = len(arreglo)   # Tamaño del set de datos\n",
    "    muestras = np.zeros((M,n)) # Arreglo de Mxn con las muestras\n",
    "    \n",
    "    # Muestreo aleatorio con reemplazo\n",
    "    for m in range(M):\n",
    "        muestras[m,:] = np.random.choice(arreglo, size=n, replace=True)\n",
    "        \n",
    "    # Calcular distribución muestral \"bootstrapping\" (medias)\n",
    "    d_muestral_boot = muestras.mean(axis=1)\n",
    "    \n",
    "    # Estimar estadística\n",
    "    media_boot = d_muestral_boot.mean()\n",
    "    \n",
    "    # Estimar error estándar\n",
    "    error_boot = d_muestral_boot.std()\n",
    "    \n",
    "    # Estimar intervalo de confianza\n",
    "    lim_izq = (1-ic)/2 * 100\n",
    "    lim_der = (ic + (1-ic)/2) * 100\n",
    "    \n",
    "    perc_izq = np.percentile(d_muestral_boot, lim_izq)\n",
    "    perc_der = np.percentile(d_muestral_boot, lim_der)\n",
    "    \n",
    "    # Retornar estadística estimada, error estándar e intervalo de confianza\n",
    "    return media_boot, error_boot, [perc_izq, perc_der]    "
   ]
  },
  {
   "cell_type": "markdown",
   "id": "a0638659",
   "metadata": {},
   "source": [
    "Y verifiquemos que todo funciona correctamente haciendo nuevamente la estimación sobre el set que usamos anteriormente:"
   ]
  },
  {
   "cell_type": "code",
   "execution_count": 80,
   "id": "7d1aad37",
   "metadata": {},
   "outputs": [
    {
     "name": "stdout",
     "output_type": "stream",
     "text": [
      "Media estimada (bootstrapping): 33.5\n",
      "Error estándar (bootstrapping): 2.0\n",
      "Intervalo de confianza (bootstrapping): 29.5 a 37.3\n"
     ]
    }
   ],
   "source": [
    "media, error, ic = estimacion_boot(datos, M=1000, ic=0.95)\n",
    "\n",
    "# Imprimir información\n",
    "print(f'Media estimada (bootstrapping): {media:.1f}')\n",
    "print(f'Error estándar (bootstrapping): {error:.1f}')\n",
    "print(f'Intervalo de confianza (bootstrapping): {ic[0]:.1f} a {ic[1]:.1f}')"
   ]
  },
  {
   "cell_type": "markdown",
   "id": "ec92ecd2",
   "metadata": {},
   "source": [
    "Y listo, en este punto tenemos todo lo básico acerca del *bootstrapping*"
   ]
  },
  {
   "cell_type": "markdown",
   "id": "1b84662b",
   "metadata": {},
   "source": [
    "## 3. ¿Qué tan buenas son las estimaciones obtenidas con el *bootstrapping*?\n",
    "\n",
    "En este punto la idea es determinar qué tan buenas estimaciones nos arroja esta técnica.\n",
    "\n",
    "Para ello haremos la siguiente simulación:\n",
    "\n",
    "- Generaremos una población de 10.000 datos (números aleatorios con distribución Gaussiana)\n",
    "- De la población anterior tomaremos una muestra de 2.000 datos. Este será el set de datos que usaremos para obtener las estimaciones con el *bootstrapping*\n",
    "- Calcularemos la media y la desviación estándar de la población. Estos serán nuestros valores de referencia\n",
    "- Y luego estimaremos la media a partir del set de datos y calcularemos la incertidumbre en la estimación usando en ambos casos *bootstrapping*\n",
    "- Al final compararemos los resultados obtenidos\n",
    "\n",
    "Comencemos generando la población:"
   ]
  },
  {
   "cell_type": "code",
   "execution_count": 88,
   "id": "e9064eeb",
   "metadata": {},
   "outputs": [
    {
     "name": "stdout",
     "output_type": "stream",
     "text": [
      "Población: \n",
      "\tMedia:      5.01\n",
      "\tDesviación: 1.00\n"
     ]
    },
    {
     "data": {
      "text/plain": [
       "array([6.25372791, 3.56154476, 3.63444631, ..., 3.86128986, 5.53822319,\n",
       "       4.35126873], shape=(10000,))"
      ]
     },
     "execution_count": 88,
     "metadata": {},
     "output_type": "execute_result"
    }
   ],
   "source": [
    "pob = np.random.normal(loc=5.0, scale=1.0, size=10000)\n",
    "print('Población: ')\n",
    "print(f'\\tMedia:      {pob.mean():.2f}')\n",
    "print(f'\\tDesviación: {pob.std():.2f}')\n",
    "pob"
   ]
  },
  {
   "cell_type": "markdown",
   "id": "2726924a",
   "metadata": {},
   "source": [
    "Ahora vamos a crear nuestro set de datos. En esta simulación tomaremos una muestra aleatoria de 2.000 de la población:"
   ]
  },
  {
   "cell_type": "code",
   "execution_count": 82,
   "id": "6760198c",
   "metadata": {},
   "outputs": [
    {
     "data": {
      "text/plain": [
       "(2000,)"
      ]
     },
     "execution_count": 82,
     "metadata": {},
     "output_type": "execute_result"
    }
   ],
   "source": [
    "datos = np.random.choice(pob, size=2000, replace=False)\n",
    "datos.shape"
   ]
  },
  {
   "cell_type": "markdown",
   "id": "26208660",
   "metadata": {},
   "source": [
    "Y con este set de datos haremos las estimaciones y calcularemos la incertidumbre usando la técnica del *bootstrapping* y la función creada anteriormente:"
   ]
  },
  {
   "cell_type": "code",
   "execution_count": 83,
   "id": "fc709107",
   "metadata": {},
   "outputs": [
    {
     "name": "stdout",
     "output_type": "stream",
     "text": [
      "Media estimada (bootstrapping): 4.98\n",
      "Error estándar (bootstrapping): 0.02\n",
      "Intervalo de confianza (bootstrapping): 4.94 a 5.03\n"
     ]
    }
   ],
   "source": [
    "media, error, ic = estimacion_boot(datos, M=10000, ic=0.95)\n",
    "\n",
    "# Imprimir información\n",
    "print(f'Media estimada (bootstrapping): {media:.2f}')\n",
    "print(f'Error estándar (bootstrapping): {error:.2f}')\n",
    "print(f'Intervalo de confianza (bootstrapping): {ic[0]:.2f} a {ic[1]:.2f}')"
   ]
  },
  {
   "cell_type": "markdown",
   "id": "7ee1b923",
   "metadata": {},
   "source": [
    "¡Y vemos que en efecto la estimación de la media obtenida con el *bootstrapping* es bastante buena!\n",
    "\n",
    "De hecho, si tomamos la media real de la población y la dividimos entre $\\sqrt(n)$ (con n=2000) tendremos prácticamente el mismo error estándar:"
   ]
  },
  {
   "cell_type": "code",
   "execution_count": 84,
   "id": "8f839ea4",
   "metadata": {},
   "outputs": [
    {
     "data": {
      "text/plain": [
       "np.float64(0.02238159894599468)"
      ]
     },
     "execution_count": 84,
     "metadata": {},
     "output_type": "execute_result"
    }
   ],
   "source": [
    "pob.std()/np.sqrt(2000)"
   ]
  },
  {
   "cell_type": "markdown",
   "id": "5e70a137",
   "metadata": {},
   "source": [
    "Y podemos jugar un poco con la cantidad de muestras usadas al hacer la estimación con el *bootstrapping*:"
   ]
  },
  {
   "cell_type": "code",
   "execution_count": 91,
   "id": "76787474",
   "metadata": {},
   "outputs": [
    {
     "name": "stdout",
     "output_type": "stream",
     "text": [
      "Media estimada (bootstrapping): 5.31\n",
      "Error estándar (bootstrapping): 0.54\n",
      "Intervalo de confianza (bootstrapping): 3.59 a 6.37\n"
     ]
    }
   ],
   "source": [
    "media, error, ic = estimacion_boot(datos, M=1000, ic=0.99)\n",
    "\n",
    "# Imprimir información\n",
    "print(f'Media estimada (bootstrapping): {media:.2f}')\n",
    "print(f'Error estándar (bootstrapping): {error:.2f}')\n",
    "print(f'Intervalo de confianza (bootstrapping): {ic[0]:.2f} a {ic[1]:.2f}')"
   ]
  },
  {
   "cell_type": "markdown",
   "id": "e1757559",
   "metadata": {},
   "source": [
    "Y vemos que en este caso particular, incluso con 10 muestras *bootstrapping* la estimación sigue siendo buena. Sin embargo, no podemos generalizar y lo que se recomienda es usar entre 1.000 y 10.000 remuestreos (todo dependerá de qué tan grande o pequeño sea nuestro set de datos).\n",
    "\n",
    "Otro aspecto a tener en cuenta es que los datos que recolectemos **deben ser una muestra representativa de la población**. Es decir que si tenemos \"pocos\" datos la estimación con *bootstrapping* ya no será tan buena.\n",
    "\n",
    "Hagamos este experimento, en lugar de 2.000 generemos sets de datos con n=1.000, n=100 y n=10 muestras e imprimamos en cada caso las estimaciones de la media obtenidas con *bootstrapping*:"
   ]
  },
  {
   "cell_type": "code",
   "execution_count": 86,
   "id": "887ce4c5",
   "metadata": {},
   "outputs": [
    {
     "name": "stdout",
     "output_type": "stream",
     "text": [
      "Población: \n",
      "\tMedia: 5.00\n",
      "Bootstrapping: dataset con 1000 datos:\n",
      "\tMedia: 4.99\n",
      "Bootstrapping: dataset con 100 datos:\n",
      "\tMedia: 5.15\n",
      "Bootstrapping: dataset con 10 datos:\n",
      "\tMedia: 5.28\n"
     ]
    }
   ],
   "source": [
    "N = [1000, 100, 10]\n",
    "\n",
    "# Imprimir valor de referencia (media de la población)\n",
    "print('Población: ')\n",
    "print(f'\\tMedia: {pob.mean():.2f}')\n",
    "\n",
    "# Generar sets de datos con los diferentes valores de \"n\"\n",
    "# y realizar estimaciones con \"bootstrapping\"\n",
    "for n in N:\n",
    "    print(f'Bootstrapping: dataset con {n} datos:')\n",
    "    \n",
    "    # Crear set de datos simulado\n",
    "    datos = np.random.choice(pob, size=n, replace=False)\n",
    "    \n",
    "    # Estimar media con \"bootstrapping e imprimir resultado\"\n",
    "    media, error, ic = estimacion_boot(datos, M=1000, ic=0.95)\n",
    "    print(f'\\tMedia: {media:.2f}')\n",
    "    "
   ]
  },
  {
   "cell_type": "markdown",
   "id": "69be5ea8",
   "metadata": {},
   "source": [
    "Y vemos que en general a medida que se reduce la cantidad de datos usados la estimación es cada vez menos precisa."
   ]
  },
  {
   "cell_type": "markdown",
   "id": "189f63a2",
   "metadata": {},
   "source": [
    "## 4. *Bootstrapping*: ejemplo práctico con un set de datos\n",
    "\n",
    "Lo único que nos resta es poner en práctica la técnica del *bootstrapping* para analizar un set de datos real.\n",
    "\n",
    "Para esto usaremos el set *dataset-prestamos.csv* que contiene información sobre diferentes tipos de préstamos otorgados a diferentes clientes de una entidad bancaria:"
   ]
  },
  {
   "cell_type": "code",
   "execution_count": 87,
   "id": "63e7f5d7",
   "metadata": {},
   "outputs": [
    {
     "ename": "FileNotFoundError",
     "evalue": "[Errno 2] No such file or directory: '/Users/miguel/Library/CloudStorage/GoogleDrive-miguel@codificandobits.com/My Drive/02-CODIFICANDOBITS.COM/04-Academia/01-Cursos/22-2024-04-Estadística-Inferencial-Fundamentos/datos/dataset-prestamos.csv'",
     "output_type": "error",
     "traceback": [
      "\u001b[31m---------------------------------------------------------------------------\u001b[39m",
      "\u001b[31mFileNotFoundError\u001b[39m                         Traceback (most recent call last)",
      "\u001b[36mCell\u001b[39m\u001b[36m \u001b[39m\u001b[32mIn[87]\u001b[39m\u001b[32m, line 4\u001b[39m\n\u001b[32m      1\u001b[39m \u001b[38;5;28;01mimport\u001b[39;00m\u001b[38;5;250m \u001b[39m\u001b[34;01mpandas\u001b[39;00m\u001b[38;5;250m \u001b[39m\u001b[38;5;28;01mas\u001b[39;00m\u001b[38;5;250m \u001b[39m\u001b[34;01mpd\u001b[39;00m\n\u001b[32m      3\u001b[39m ruta = \u001b[33m'\u001b[39m\u001b[33m/Users/miguel/Library/CloudStorage/GoogleDrive-miguel@codificandobits.com/My Drive/02-CODIFICANDOBITS.COM/04-Academia/01-Cursos/22-2024-04-Estadística-Inferencial-Fundamentos/datos/\u001b[39m\u001b[33m'\u001b[39m\n\u001b[32m----> \u001b[39m\u001b[32m4\u001b[39m df = \u001b[43mpd\u001b[49m\u001b[43m.\u001b[49m\u001b[43mread_csv\u001b[49m\u001b[43m(\u001b[49m\u001b[43mruta\u001b[49m\u001b[43m \u001b[49m\u001b[43m+\u001b[49m\u001b[43m \u001b[49m\u001b[33;43m'\u001b[39;49m\u001b[33;43mdataset-prestamos.csv\u001b[39;49m\u001b[33;43m'\u001b[39;49m\u001b[43m)\u001b[49m\n\u001b[32m      5\u001b[39m df\n",
      "\u001b[36mFile \u001b[39m\u001b[32m~/proyectos/.venv/lib/python3.11/site-packages/pandas/io/parsers/readers.py:1026\u001b[39m, in \u001b[36mread_csv\u001b[39m\u001b[34m(filepath_or_buffer, sep, delimiter, header, names, index_col, usecols, dtype, engine, converters, true_values, false_values, skipinitialspace, skiprows, skipfooter, nrows, na_values, keep_default_na, na_filter, verbose, skip_blank_lines, parse_dates, infer_datetime_format, keep_date_col, date_parser, date_format, dayfirst, cache_dates, iterator, chunksize, compression, thousands, decimal, lineterminator, quotechar, quoting, doublequote, escapechar, comment, encoding, encoding_errors, dialect, on_bad_lines, delim_whitespace, low_memory, memory_map, float_precision, storage_options, dtype_backend)\u001b[39m\n\u001b[32m   1013\u001b[39m kwds_defaults = _refine_defaults_read(\n\u001b[32m   1014\u001b[39m     dialect,\n\u001b[32m   1015\u001b[39m     delimiter,\n\u001b[32m   (...)\u001b[39m\u001b[32m   1022\u001b[39m     dtype_backend=dtype_backend,\n\u001b[32m   1023\u001b[39m )\n\u001b[32m   1024\u001b[39m kwds.update(kwds_defaults)\n\u001b[32m-> \u001b[39m\u001b[32m1026\u001b[39m \u001b[38;5;28;01mreturn\u001b[39;00m \u001b[43m_read\u001b[49m\u001b[43m(\u001b[49m\u001b[43mfilepath_or_buffer\u001b[49m\u001b[43m,\u001b[49m\u001b[43m \u001b[49m\u001b[43mkwds\u001b[49m\u001b[43m)\u001b[49m\n",
      "\u001b[36mFile \u001b[39m\u001b[32m~/proyectos/.venv/lib/python3.11/site-packages/pandas/io/parsers/readers.py:620\u001b[39m, in \u001b[36m_read\u001b[39m\u001b[34m(filepath_or_buffer, kwds)\u001b[39m\n\u001b[32m    617\u001b[39m _validate_names(kwds.get(\u001b[33m\"\u001b[39m\u001b[33mnames\u001b[39m\u001b[33m\"\u001b[39m, \u001b[38;5;28;01mNone\u001b[39;00m))\n\u001b[32m    619\u001b[39m \u001b[38;5;66;03m# Create the parser.\u001b[39;00m\n\u001b[32m--> \u001b[39m\u001b[32m620\u001b[39m parser = \u001b[43mTextFileReader\u001b[49m\u001b[43m(\u001b[49m\u001b[43mfilepath_or_buffer\u001b[49m\u001b[43m,\u001b[49m\u001b[43m \u001b[49m\u001b[43m*\u001b[49m\u001b[43m*\u001b[49m\u001b[43mkwds\u001b[49m\u001b[43m)\u001b[49m\n\u001b[32m    622\u001b[39m \u001b[38;5;28;01mif\u001b[39;00m chunksize \u001b[38;5;129;01mor\u001b[39;00m iterator:\n\u001b[32m    623\u001b[39m     \u001b[38;5;28;01mreturn\u001b[39;00m parser\n",
      "\u001b[36mFile \u001b[39m\u001b[32m~/proyectos/.venv/lib/python3.11/site-packages/pandas/io/parsers/readers.py:1620\u001b[39m, in \u001b[36mTextFileReader.__init__\u001b[39m\u001b[34m(self, f, engine, **kwds)\u001b[39m\n\u001b[32m   1617\u001b[39m     \u001b[38;5;28mself\u001b[39m.options[\u001b[33m\"\u001b[39m\u001b[33mhas_index_names\u001b[39m\u001b[33m\"\u001b[39m] = kwds[\u001b[33m\"\u001b[39m\u001b[33mhas_index_names\u001b[39m\u001b[33m\"\u001b[39m]\n\u001b[32m   1619\u001b[39m \u001b[38;5;28mself\u001b[39m.handles: IOHandles | \u001b[38;5;28;01mNone\u001b[39;00m = \u001b[38;5;28;01mNone\u001b[39;00m\n\u001b[32m-> \u001b[39m\u001b[32m1620\u001b[39m \u001b[38;5;28mself\u001b[39m._engine = \u001b[38;5;28;43mself\u001b[39;49m\u001b[43m.\u001b[49m\u001b[43m_make_engine\u001b[49m\u001b[43m(\u001b[49m\u001b[43mf\u001b[49m\u001b[43m,\u001b[49m\u001b[43m \u001b[49m\u001b[38;5;28;43mself\u001b[39;49m\u001b[43m.\u001b[49m\u001b[43mengine\u001b[49m\u001b[43m)\u001b[49m\n",
      "\u001b[36mFile \u001b[39m\u001b[32m~/proyectos/.venv/lib/python3.11/site-packages/pandas/io/parsers/readers.py:1880\u001b[39m, in \u001b[36mTextFileReader._make_engine\u001b[39m\u001b[34m(self, f, engine)\u001b[39m\n\u001b[32m   1878\u001b[39m     \u001b[38;5;28;01mif\u001b[39;00m \u001b[33m\"\u001b[39m\u001b[33mb\u001b[39m\u001b[33m\"\u001b[39m \u001b[38;5;129;01mnot\u001b[39;00m \u001b[38;5;129;01min\u001b[39;00m mode:\n\u001b[32m   1879\u001b[39m         mode += \u001b[33m\"\u001b[39m\u001b[33mb\u001b[39m\u001b[33m\"\u001b[39m\n\u001b[32m-> \u001b[39m\u001b[32m1880\u001b[39m \u001b[38;5;28mself\u001b[39m.handles = \u001b[43mget_handle\u001b[49m\u001b[43m(\u001b[49m\n\u001b[32m   1881\u001b[39m \u001b[43m    \u001b[49m\u001b[43mf\u001b[49m\u001b[43m,\u001b[49m\n\u001b[32m   1882\u001b[39m \u001b[43m    \u001b[49m\u001b[43mmode\u001b[49m\u001b[43m,\u001b[49m\n\u001b[32m   1883\u001b[39m \u001b[43m    \u001b[49m\u001b[43mencoding\u001b[49m\u001b[43m=\u001b[49m\u001b[38;5;28;43mself\u001b[39;49m\u001b[43m.\u001b[49m\u001b[43moptions\u001b[49m\u001b[43m.\u001b[49m\u001b[43mget\u001b[49m\u001b[43m(\u001b[49m\u001b[33;43m\"\u001b[39;49m\u001b[33;43mencoding\u001b[39;49m\u001b[33;43m\"\u001b[39;49m\u001b[43m,\u001b[49m\u001b[43m \u001b[49m\u001b[38;5;28;43;01mNone\u001b[39;49;00m\u001b[43m)\u001b[49m\u001b[43m,\u001b[49m\n\u001b[32m   1884\u001b[39m \u001b[43m    \u001b[49m\u001b[43mcompression\u001b[49m\u001b[43m=\u001b[49m\u001b[38;5;28;43mself\u001b[39;49m\u001b[43m.\u001b[49m\u001b[43moptions\u001b[49m\u001b[43m.\u001b[49m\u001b[43mget\u001b[49m\u001b[43m(\u001b[49m\u001b[33;43m\"\u001b[39;49m\u001b[33;43mcompression\u001b[39;49m\u001b[33;43m\"\u001b[39;49m\u001b[43m,\u001b[49m\u001b[43m \u001b[49m\u001b[38;5;28;43;01mNone\u001b[39;49;00m\u001b[43m)\u001b[49m\u001b[43m,\u001b[49m\n\u001b[32m   1885\u001b[39m \u001b[43m    \u001b[49m\u001b[43mmemory_map\u001b[49m\u001b[43m=\u001b[49m\u001b[38;5;28;43mself\u001b[39;49m\u001b[43m.\u001b[49m\u001b[43moptions\u001b[49m\u001b[43m.\u001b[49m\u001b[43mget\u001b[49m\u001b[43m(\u001b[49m\u001b[33;43m\"\u001b[39;49m\u001b[33;43mmemory_map\u001b[39;49m\u001b[33;43m\"\u001b[39;49m\u001b[43m,\u001b[49m\u001b[43m \u001b[49m\u001b[38;5;28;43;01mFalse\u001b[39;49;00m\u001b[43m)\u001b[49m\u001b[43m,\u001b[49m\n\u001b[32m   1886\u001b[39m \u001b[43m    \u001b[49m\u001b[43mis_text\u001b[49m\u001b[43m=\u001b[49m\u001b[43mis_text\u001b[49m\u001b[43m,\u001b[49m\n\u001b[32m   1887\u001b[39m \u001b[43m    \u001b[49m\u001b[43merrors\u001b[49m\u001b[43m=\u001b[49m\u001b[38;5;28;43mself\u001b[39;49m\u001b[43m.\u001b[49m\u001b[43moptions\u001b[49m\u001b[43m.\u001b[49m\u001b[43mget\u001b[49m\u001b[43m(\u001b[49m\u001b[33;43m\"\u001b[39;49m\u001b[33;43mencoding_errors\u001b[39;49m\u001b[33;43m\"\u001b[39;49m\u001b[43m,\u001b[49m\u001b[43m \u001b[49m\u001b[33;43m\"\u001b[39;49m\u001b[33;43mstrict\u001b[39;49m\u001b[33;43m\"\u001b[39;49m\u001b[43m)\u001b[49m\u001b[43m,\u001b[49m\n\u001b[32m   1888\u001b[39m \u001b[43m    \u001b[49m\u001b[43mstorage_options\u001b[49m\u001b[43m=\u001b[49m\u001b[38;5;28;43mself\u001b[39;49m\u001b[43m.\u001b[49m\u001b[43moptions\u001b[49m\u001b[43m.\u001b[49m\u001b[43mget\u001b[49m\u001b[43m(\u001b[49m\u001b[33;43m\"\u001b[39;49m\u001b[33;43mstorage_options\u001b[39;49m\u001b[33;43m\"\u001b[39;49m\u001b[43m,\u001b[49m\u001b[43m \u001b[49m\u001b[38;5;28;43;01mNone\u001b[39;49;00m\u001b[43m)\u001b[49m\u001b[43m,\u001b[49m\n\u001b[32m   1889\u001b[39m \u001b[43m\u001b[49m\u001b[43m)\u001b[49m\n\u001b[32m   1890\u001b[39m \u001b[38;5;28;01massert\u001b[39;00m \u001b[38;5;28mself\u001b[39m.handles \u001b[38;5;129;01mis\u001b[39;00m \u001b[38;5;129;01mnot\u001b[39;00m \u001b[38;5;28;01mNone\u001b[39;00m\n\u001b[32m   1891\u001b[39m f = \u001b[38;5;28mself\u001b[39m.handles.handle\n",
      "\u001b[36mFile \u001b[39m\u001b[32m~/proyectos/.venv/lib/python3.11/site-packages/pandas/io/common.py:873\u001b[39m, in \u001b[36mget_handle\u001b[39m\u001b[34m(path_or_buf, mode, encoding, compression, memory_map, is_text, errors, storage_options)\u001b[39m\n\u001b[32m    868\u001b[39m \u001b[38;5;28;01melif\u001b[39;00m \u001b[38;5;28misinstance\u001b[39m(handle, \u001b[38;5;28mstr\u001b[39m):\n\u001b[32m    869\u001b[39m     \u001b[38;5;66;03m# Check whether the filename is to be opened in binary mode.\u001b[39;00m\n\u001b[32m    870\u001b[39m     \u001b[38;5;66;03m# Binary mode does not support 'encoding' and 'newline'.\u001b[39;00m\n\u001b[32m    871\u001b[39m     \u001b[38;5;28;01mif\u001b[39;00m ioargs.encoding \u001b[38;5;129;01mand\u001b[39;00m \u001b[33m\"\u001b[39m\u001b[33mb\u001b[39m\u001b[33m\"\u001b[39m \u001b[38;5;129;01mnot\u001b[39;00m \u001b[38;5;129;01min\u001b[39;00m ioargs.mode:\n\u001b[32m    872\u001b[39m         \u001b[38;5;66;03m# Encoding\u001b[39;00m\n\u001b[32m--> \u001b[39m\u001b[32m873\u001b[39m         handle = \u001b[38;5;28;43mopen\u001b[39;49m\u001b[43m(\u001b[49m\n\u001b[32m    874\u001b[39m \u001b[43m            \u001b[49m\u001b[43mhandle\u001b[49m\u001b[43m,\u001b[49m\n\u001b[32m    875\u001b[39m \u001b[43m            \u001b[49m\u001b[43mioargs\u001b[49m\u001b[43m.\u001b[49m\u001b[43mmode\u001b[49m\u001b[43m,\u001b[49m\n\u001b[32m    876\u001b[39m \u001b[43m            \u001b[49m\u001b[43mencoding\u001b[49m\u001b[43m=\u001b[49m\u001b[43mioargs\u001b[49m\u001b[43m.\u001b[49m\u001b[43mencoding\u001b[49m\u001b[43m,\u001b[49m\n\u001b[32m    877\u001b[39m \u001b[43m            \u001b[49m\u001b[43merrors\u001b[49m\u001b[43m=\u001b[49m\u001b[43merrors\u001b[49m\u001b[43m,\u001b[49m\n\u001b[32m    878\u001b[39m \u001b[43m            \u001b[49m\u001b[43mnewline\u001b[49m\u001b[43m=\u001b[49m\u001b[33;43m\"\u001b[39;49m\u001b[33;43m\"\u001b[39;49m\u001b[43m,\u001b[49m\n\u001b[32m    879\u001b[39m \u001b[43m        \u001b[49m\u001b[43m)\u001b[49m\n\u001b[32m    880\u001b[39m     \u001b[38;5;28;01melse\u001b[39;00m:\n\u001b[32m    881\u001b[39m         \u001b[38;5;66;03m# Binary mode\u001b[39;00m\n\u001b[32m    882\u001b[39m         handle = \u001b[38;5;28mopen\u001b[39m(handle, ioargs.mode)\n",
      "\u001b[31mFileNotFoundError\u001b[39m: [Errno 2] No such file or directory: '/Users/miguel/Library/CloudStorage/GoogleDrive-miguel@codificandobits.com/My Drive/02-CODIFICANDOBITS.COM/04-Academia/01-Cursos/22-2024-04-Estadística-Inferencial-Fundamentos/datos/dataset-prestamos.csv'"
     ]
    }
   ],
   "source": [
    "import pandas as pd\n",
    "\n",
    "ruta = '/Users/miguel/Library/CloudStorage/GoogleDrive-miguel@codificandobits.com/My Drive/02-CODIFICANDOBITS.COM/04-Academia/01-Cursos/22-2024-04-Estadística-Inferencial-Fundamentos/datos/'\n",
    "df = pd.read_csv(ruta + 'dataset-prestamos.csv')\n",
    "df"
   ]
  },
  {
   "cell_type": "markdown",
   "id": "1a9247e8",
   "metadata": {},
   "source": [
    "Y planteemos una pregunta sencilla:\n",
    "\n",
    "¿Cuál es el monto estimado de los créditos para los diferentes estados (Al día, impago y pagado)?\n",
    "\n",
    "Para responder a esta pregunta comencemos generando una gráfica tipo *boxplot* con el fin de tener un panorama inicial del comportamiento de los datos:"
   ]
  },
  {
   "cell_type": "code",
   "execution_count": null,
   "id": "2b36639b",
   "metadata": {},
   "outputs": [
    {
     "data": {
      "image/png": "[encoded data removed]",
      "text/plain": [
       "<Figure size 640x480 with 1 Axes>"
      ]
     },
     "metadata": {},
     "output_type": "display_data"
    }
   ],
   "source": [
    "import seaborn as sns\n",
    "\n",
    "sns.boxplot(data=df, x='estado', y='monto');"
   ]
  },
  {
   "cell_type": "markdown",
   "id": "a0cbcd15",
   "metadata": {},
   "source": [
    "Vemos que no aparecen valores extremos en ninguna de las distribuciones, así que podremos usar la media como estadística para caracterizar cada grupo.\n",
    "\n",
    "Así que lo que queremos es:\n",
    "\n",
    "> Usar la técnica de *bootstrapping* para estimar la media del monto de los créditos \"Al día\", \"Impago\" y \"Pagado\" para créditos a 36 meses\n",
    "\n",
    "Y para esto podemos usar la misma función creada anteriormente (`estimacion_boot`). En caso de que hubiese valores extremos deberíamos usar una métrica más robusta (como por ejemplo la mediana) y sería necesario modificar la función `estimacion_boot`.\n",
    "\n",
    "Antes de realizar las estimaciones debemos extraer las agrupaciones de interés según el estado (Al día, Impago y Pagado):"
   ]
  },
  {
   "cell_type": "code",
   "execution_count": null,
   "id": "8a40ca36",
   "metadata": {},
   "outputs": [
    {
     "name": "stdout",
     "output_type": "stream",
     "text": [
      "   estado  monto\n",
      "0  Al día   2500\n",
      "1  Al día   5600\n",
      "2  Al día   5375\n",
      "3  Al día   5000\n",
      "4  Al día  21000\n",
      "      estado  monto\n",
      "334   Impago  35000\n",
      "478   Impago   2500\n",
      "849   Impago  23275\n",
      "1219  Impago  25000\n",
      "1220  Impago  17000\n",
      "      estado  monto\n",
      "7370  Pagado  12000\n",
      "7371  Pagado  19800\n",
      "7372  Pagado  19700\n",
      "7373  Pagado  24000\n",
      "7374  Pagado  13375\n"
     ]
    }
   ],
   "source": [
    "df_ald = df[df['estado'] == 'Al día']\n",
    "df_imp = df[df['estado'] == 'Impago']\n",
    "df_pag = df[df['estado'] == 'Pagado']\n",
    "\n",
    "print(df_ald.head())\n",
    "print(df_imp.head())\n",
    "print(df_pag.head())"
   ]
  },
  {
   "cell_type": "markdown",
   "id": "6f02907a",
   "metadata": {},
   "source": [
    "Y ahora sí realicemos las estimaciones usando *bootstrapping*:"
   ]
  },
  {
   "cell_type": "code",
   "execution_count": null,
   "id": "cb3486cb",
   "metadata": {},
   "outputs": [],
   "source": [
    "media_ald, error_ald, ic_ald = estimacion_boot(df_ald['monto'].to_numpy(), M=10000, ic=0.95)\n",
    "media_imp, error_imp, ic_imp = estimacion_boot(df_imp['monto'].to_numpy(), M=10000, ic=0.95)\n",
    "media_pag, error_pag, ic_pag = estimacion_boot(df_pag['monto'].to_numpy(), M=10000, ic=0.95)"
   ]
  },
  {
   "cell_type": "markdown",
   "id": "bbd93b52",
   "metadata": {},
   "source": [
    "Y pongamos estos resultados en un DataFrame de Pandas para poder interpretarlos fácilmente"
   ]
  },
  {
   "cell_type": "code",
   "execution_count": null,
   "id": "42a9c30b",
   "metadata": {},
   "outputs": [
    {
     "data": {
      "text/html": [
       "<div>\n",
       "<style scoped>\n",
       "    .dataframe tbody tr th:only-of-type {\n",
       "        vertical-align: middle;\n",
       "    }\n",
       "\n",
       "    .dataframe tbody tr th {\n",
       "        vertical-align: top;\n",
       "    }\n",
       "\n",
       "    .dataframe thead th {\n",
       "        text-align: right;\n",
       "    }\n",
       "</style>\n",
       "<table border=\"1\" class=\"dataframe\">\n",
       "  <thead>\n",
       "    <tr style=\"text-align: right;\">\n",
       "      <th></th>\n",
       "      <th>Crédito</th>\n",
       "      <th>Media (estimada)</th>\n",
       "      <th>Error estándar</th>\n",
       "      <th>IC (95%)</th>\n",
       "    </tr>\n",
       "  </thead>\n",
       "  <tbody>\n",
       "    <tr>\n",
       "      <th>0</th>\n",
       "      <td>Al día</td>\n",
       "      <td>19251.3</td>\n",
       "      <td>93.3</td>\n",
       "      <td>[19066.1, 19434.7]</td>\n",
       "    </tr>\n",
       "    <tr>\n",
       "      <th>1</th>\n",
       "      <td>Impago</td>\n",
       "      <td>20846.1</td>\n",
       "      <td>952.8</td>\n",
       "      <td>[18938.1, 22690.5]</td>\n",
       "    </tr>\n",
       "    <tr>\n",
       "      <th>2</th>\n",
       "      <td>Pagado</td>\n",
       "      <td>19447.8</td>\n",
       "      <td>126.6</td>\n",
       "      <td>[19205.1, 19694.0]</td>\n",
       "    </tr>\n",
       "  </tbody>\n",
       "</table>\n",
       "</div>"
      ],
      "text/plain": [
       "  Crédito  Media (estimada)  Error estándar            IC (95%)\n",
       "0  Al día           19251.3            93.3  [19066.1, 19434.7]\n",
       "1  Impago           20846.1           952.8  [18938.1, 22690.5]\n",
       "2  Pagado           19447.8           126.6  [19205.1, 19694.0]"
      ]
     },
     "execution_count": 25,
     "metadata": {},
     "output_type": "execute_result"
    }
   ],
   "source": [
    "ests = pd.DataFrame({\n",
    "    \"Crédito\": ['Al día', 'Impago', 'Pagado'],\n",
    "    \"Media (estimada)\": np.round([media_ald , media_imp, media_pag],1),\n",
    "    \"Error estándar\": np.round([error_ald, error_imp, error_pag],1),\n",
    "    \"IC (95%)\": [np.round(ic_ald,1), np.round(ic_imp,1), np.round(ic_pag,1)]\n",
    "})\n",
    "ests"
   ]
  },
  {
   "cell_type": "code",
   "execution_count": null,
   "id": "b176a9b8",
   "metadata": {},
   "outputs": [
    {
     "name": "stdout",
     "output_type": "stream",
     "text": [
      "(7294, 2)\n",
      "(76, 2)\n",
      "(3907, 2)\n"
     ]
    }
   ],
   "source": [
    "print(df_ald.shape)\n",
    "print(df_imp.shape)\n",
    "print(df_pag.shape)"
   ]
  },
  {
   "cell_type": "markdown",
   "id": "ac4ff765",
   "metadata": {},
   "source": [
    "**Observaciones:**\n",
    "- En orden descendente los créditos en \"Impago\" tienen el promedio más alto, seguidos por los créditos pagados y los créditos al día.\n",
    "- Sin embargo la estimación de los créditos en \"Impago\" tiene un alto grado de incertidumbre"
   ]
  },
  {
   "cell_type": "markdown",
   "id": "e728c65f",
   "metadata": {},
   "source": [
    "## 4. Aspectos a tener en cuenta\n",
    "\n",
    "1. La técnica del *bootstrapping* es la que debemos usar al momento de realizar estimaciones sobre los datos recolectados\n",
    "2. Para implementar esta técnica debemos:\n",
    "   - Recolectar los datos\n",
    "   - Generar \"M\" muestras con reemplazo cada una del mismo tamaño del set de datos (y con M entre 1.000 y 10.000)\n",
    "   - Construir la distribución muestral a partir de esas \"M\" muestras\n",
    "   - Generar las estimaciones y calcular la incertidumbre a partir de la distribución muestral obtenida\n",
    "3. La técnica se puede aplicar para estimar cualquier estadística (no sólo la media)\n",
    "4. Y más adelante veremos que es la técnica a elegir cuando queramos realizar pruebas de hipótesis sobre nuestros datos"
   ]
  },
  {
   "cell_type": "code",
   "execution_count": null,
   "id": "26f63023",
   "metadata": {},
   "outputs": [],
   "source": []
  }
 ],
 "metadata": {
  "kernelspec": {
   "display_name": ".venv",
   "language": "python",
   "name": "python3"
  },
  "language_info": {
   "codemirror_mode": {
    "name": "ipython",
    "version": 3
   },
   "file_extension": ".py",
   "mimetype": "text/x-python",
   "name": "python",
   "nbconvert_exporter": "python",
   "pygments_lexer": "ipython3",
   "version": "3.11.9"
  }
 },
 "nbformat": 4,
 "nbformat_minor": 5
}
