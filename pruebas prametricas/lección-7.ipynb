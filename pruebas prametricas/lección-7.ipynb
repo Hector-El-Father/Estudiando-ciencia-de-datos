{
 "cells": [
  {
   "cell_type": "markdown",
   "id": "814481eb",
   "metadata": {},
   "source": [
    "# La técnica del \"bootstrapping\"\n",
    "\n",
    "Todas las técnicas de estimación que hemos visto hasta el momento parten de una condición ideal: debemos tener acceso a la población.\n",
    "\n",
    "Pero ya sabemos que en la práctica esto no es viable y sólo tendremos acceso a los datos recolectados (que en últimas son una muestra de la población).\n",
    "\n",
    "Así que la pregunta es: ¿cómo podemos generar estimaciones confiables si tan sólo tenemos una muestra de la población?\n",
    "\n",
    "La respuesta está en la técnica de \"bootstrapping\" que veremos en detalle en esta lección.\n",
    "\n",
    "Así que comenzaremos haciendo un repaso de la forma como idealmente se hacen estimaciones basadas en la población, luego veremos el principio de funcionamiento del \"bootstrapping\" así como un sencillo ejemplo que nos permitirá entender la idea básica del método.\n",
    "\n",
    "Luego haremos una simulación para verificar que las estimaciones obtenidas con el \"bootstrapping\" son muy cercanas a las obtenidas si tuviésemos la población. Y finalizaremos la lección con un ejemplo práctico aplicado al análisis de un set de datos y con los principales aspectos a tener en cuenta al momento de usar el \"bootstrapping\"."
   ]
  },
  {
   "cell_type": "markdown",
   "id": "6d6aa362",
   "metadata": {},
   "source": [
    "## 1. El problema de la estimación ideal\n",
    "\n",
    "![](estimacion-ideal.png)\n",
    "\n",
    "Como lo hemos venido mencionando, el inconveniente de este método (que llamaremos \"estimación ideal\") es que debemos tener acceso a todos los datos (es decir a la población)."
   ]
  },
  {
   "cell_type": "markdown",
   "id": "f55e8e76",
   "metadata": {},
   "source": [
    "## 2. *Bootstrapping*: principio de funcionamiento\n",
    "\n",
    "El principio de funcionamiento del *bootstrapping* es sencillo: en lugar de realizar las estimaciones a partir de la población las haremos a partir de los datos recolectados y siguiendo posteriormente la misma lógica de la \"estimación clásica\":\n",
    "\n",
    "![](estimacion-bootstrapping.png)\n",
    "\n",
    "\n",
    "Así que los pasos a seguir para hacer la estimación serían:\n",
    "\n",
    "1. Conformar la **muestra de la población** que será simplemente los datos que lograremos recolectar. Esta cantidad de datos recolectada (\"n\") debe ser representativa de la población.\n",
    "2. Obtener \"M\" muestras de la **muestra de la población** usando **muestreo aleatorio con reemplazo**. Cada muestra obtenida tendrá \"n\" datos (la misma cantidad de datos recolectados).\n",
    "3. Obtener la **distribución muestral *bootstrapping*** a partir de las muestras obtenidas en (2)\n",
    "4. **Estimar la estadística y cuantificar la incertidumbre** (error estándar, intervalos de confianza) a partir de la distribución muestral *bootstrapping* obtenida en (3)\n",
    "\n",
    "Como vemos, la lógica de estimación es muy similar a la del método ideal, pero cambiando la población por los datos recolectados y el muestreo aleatorio por el muestreo aleatorio con reemplazo.\n",
    "\n",
    "### 2.1. *Bootstrapping*: ejemplo numérico simple\n",
    "\n",
    "Hagamos un ejemplo muy sencillo para entender los detalles del funcionamiento de esta técnica. Supongamos que los datos recolectados (no la población) serán simplemente estos 5 números:"
   ]
  },
  {
   "cell_type": "code",
   "execution_count": 5,
   "id": "dc98e72a",
   "metadata": {},
   "outputs": [
    {
     "data": {
      "text/plain": [
       "array([23, 16, 14, 57, 64])"
      ]
     },
     "execution_count": 5,
     "metadata": {},
     "output_type": "execute_result"
    }
   ],
   "source": [
    "import numpy as np\n",
    "\n",
    "datos = np.asarray([23, 16, 14, 57, 64])\n",
    "datos"
   ]
  },
  {
   "cell_type": "markdown",
   "id": "be31f702",
   "metadata": {},
   "source": [
    "Y supongamos que queremos estimar la media usando el método *bootstrapping*. Realmente es un problema trivial pues tenemos poquísimos datos, pero la idea es entender los detalles del método.\n",
    "\n",
    "El paso 1 ya lo hemos llevado a cabo: ya tenemos la **muestra de la población** que son precisamente los 5 datos.\n",
    "\n",
    "El segundo paso es obtener \"M\" muestras de este set de datos usando muestreo aleatorio con reemplazo. Además cada muestra debe tener \"n\" datos (en este caso n=5).\n",
    "\n",
    "Usualmente se sugiere un \"M\" entre 1.000 y 10.000, pero como tenemos tan pocos datos (n=5) vamos a suponer un M=10.\n",
    "\n",
    "Veamos la implementación de este segundo paso:"
   ]
  },
  {
   "cell_type": "code",
   "execution_count": 6,
   "id": "99676c61",
   "metadata": {},
   "outputs": [
    {
     "name": "stdout",
     "output_type": "stream",
     "text": [
      "[57 64 14 16 64]\n",
      "[14 14 14 57 57]\n",
      "[57 57 14 57 16]\n",
      "[14 64 14 64 16]\n",
      "[16 57 64 16 64]\n",
      "[16 57 16 64 57]\n",
      "[23 16 14 57 23]\n",
      "[14 16 23 57 16]\n",
      "[14 23 57 23 23]\n",
      "[57 16 23 16 14]\n"
     ]
    }
   ],
   "source": [
    "M = 10\n",
    "n = len(datos) # n = 5\n",
    "muestras = np.zeros((M,n)) # Arreglo de 10x5 que contendrá las 10 muestras\n",
    "\n",
    "for m in range(M):\n",
    "    # Obtener muestra aleatoria con reemplazo\n",
    "    muestra = np.random.choice(datos, size=n, replace=True)\n",
    "    \n",
    "    # Almacenarla en \"muestras\" e imprimirla en pantalla\n",
    "    muestras[m,:] = muestra\n",
    "    print(muestra)"
   ]
  },
  {
   "cell_type": "markdown",
   "id": "8dc27540",
   "metadata": {},
   "source": [
    "Vemos que por tratarse de muestreo aleatorio con reemplazo un mismo dato podrá aparecer más de una vez en cada muestra.\n",
    "\n",
    "Y vemos que cada fila en el arreglo `muestras` contiene cada una de las muestras obtenida anteriormente:"
   ]
  },
  {
   "cell_type": "code",
   "execution_count": 7,
   "id": "a42fba37",
   "metadata": {},
   "outputs": [
    {
     "data": {
      "text/plain": [
       "array([[57., 64., 14., 16., 64.],\n",
       "       [14., 14., 14., 57., 57.],\n",
       "       [57., 57., 14., 57., 16.],\n",
       "       [14., 64., 14., 64., 16.],\n",
       "       [16., 57., 64., 16., 64.],\n",
       "       [16., 57., 16., 64., 57.],\n",
       "       [23., 16., 14., 57., 23.],\n",
       "       [14., 16., 23., 57., 16.],\n",
       "       [14., 23., 57., 23., 23.],\n",
       "       [57., 16., 23., 16., 14.]])"
      ]
     },
     "execution_count": 7,
     "metadata": {},
     "output_type": "execute_result"
    }
   ],
   "source": [
    "muestras"
   ]
  },
  {
   "cell_type": "markdown",
   "id": "e915a5e8",
   "metadata": {},
   "source": [
    "El paso 3 consiste en obtener la **distribución muestral *bootstrapping***. Como la estadística que queremos estimar es la media, esta distribución muestral será simplemente la media de cada muestra, es decir de cada fila en el arreglo `muestras`.\n",
    "\n",
    "Esta media por filas la podemos obtener con el método `mean(axis=1)` donde `axis=1` le indica a NumPy que queremos calcular el promedio de cada fila:"
   ]
  },
  {
   "cell_type": "code",
   "execution_count": 8,
   "id": "4968f4a1",
   "metadata": {},
   "outputs": [
    {
     "data": {
      "text/plain": [
       "array([43. , 31.2, 40.2, 34.4, 43.4, 42. , 26.6, 25.2, 28. , 25.2])"
      ]
     },
     "execution_count": 8,
     "metadata": {},
     "output_type": "execute_result"
    }
   ],
   "source": [
    "d_muestral_boot = muestras.mean(axis=1)\n",
    "d_muestral_boot"
   ]
  },
  {
   "cell_type": "code",
   "execution_count": 9,
   "id": "f20ffd1c",
   "metadata": {},
   "outputs": [
    {
     "data": {
      "text/plain": [
       "<Axes: ylabel='Count'>"
      ]
     },
     "execution_count": 9,
     "metadata": {},
     "output_type": "execute_result"
    },
    {
     "data": {
      "image/png": "[encoded data removed]",
      "text/plain": [
       "<Figure size 640x480 with 1 Axes>"
      ]
     },
     "metadata": {},
     "output_type": "display_data"
    }
   ],
   "source": [
    "import seaborn as sns\n",
    "import matplotlib.pyplot as plt\n",
    "\n",
    "sns.histplot(d_muestral_boot)"
   ]
  },
  {
   "cell_type": "markdown",
   "id": "3670ce48",
   "metadata": {},
   "source": [
    "Y con esto ya tenemos la distribución muestral *bootstrapping*.\n",
    "\n",
    "El cuarto y último paso consiste en tomar esta distribución muestral y calcular tanto la estimación como la incertidumbre en la misma.\n",
    "\n",
    "Comencemos con la estimación, que será la media:"
   ]
  },
  {
   "cell_type": "code",
   "execution_count": 10,
   "id": "e855e745",
   "metadata": {},
   "outputs": [
    {
     "name": "stdout",
     "output_type": "stream",
     "text": [
      "Media de la distribución muestral bootstrapping: 33.92\n"
     ]
    }
   ],
   "source": [
    "# Estimar la media a partir de la distribución muestral \"bootstrapping\"\n",
    "media_boot = np.mean(d_muestral_boot)\n",
    "print(f\"Media de la distribución muestral bootstrapping: {media_boot.mean()}\")"
   ]
  },
  {
   "cell_type": "markdown",
   "id": "3063c504",
   "metadata": {},
   "source": [
    "Y ahora calculemos la incertidumbre en esta estimación. Usaremos las dos métricas aprendidas anteriormente: el error estándar y el intervalo de confianza.\n",
    "\n",
    "Comencemos con el error estándar, que será simplemente la desviación estándar de la distribución muestral *bootstrapping*:"
   ]
  },
  {
   "cell_type": "code",
   "execution_count": 11,
   "id": "bfc7b36b",
   "metadata": {},
   "outputs": [
    {
     "name": "stdout",
     "output_type": "stream",
     "text": [
      "Error estándar estimación bootstrapping: 7.248282555198852\n"
     ]
    }
   ],
   "source": [
    "error_boot = np.std(d_muestral_boot)\n",
    "print(f\"Error estándar estimación bootstrapping: {error_boot}\")"
   ]
  },
  {
   "cell_type": "code",
   "execution_count": 12,
   "id": "6c6002f2",
   "metadata": {},
   "outputs": [
    {
     "name": "stdout",
     "output_type": "stream",
     "text": [
      "(np.float64(28.45441523312217), np.float64(39.385584766877834))\n",
      "33.92\n",
      "2.416094185066284\n"
     ]
    }
   ],
   "source": [
    "from scipy import stats\n",
    "\n",
    "datos = d_muestral_boot\n",
    "media = np.mean(datos)\n",
    "sem = stats.sem(datos)  # error estándar de la media\n",
    "ic = stats.t.interval(0.95, len(datos)-1, loc=media, scale=sem)  # IC del 95%\n",
    "print(ic)\n",
    "print(media)\n",
    "print(sem)"
   ]
  },
  {
   "cell_type": "markdown",
   "id": "1025924c",
   "metadata": {},
   "source": [
    "Y ahora calculemos el intervalo de confianza de, por ejemplo, el 95%. Para ello reutilizaremos la función creada en la lección anterior (con ligeras modificaciones):"
   ]
  },
  {
   "cell_type": "code",
   "execution_count": 13,
   "id": "78177878",
   "metadata": {},
   "outputs": [],
   "source": [
    "def calcular_IC(distribucion, ic):\n",
    "    # Calcular umbrales percentiles del lado izquierdo y derecho\n",
    "    lim_izq = (1-ic)/2 * 100\n",
    "    lim_der = (ic + (1-ic)/2) * 100\n",
    "    \n",
    "    # Calcular valores percentiles izquierdo y derecho\n",
    "    perc_izq = np.percentile(distribucion, lim_izq)\n",
    "    perc_der = np.percentile(distribucion, lim_der)\n",
    "    \n",
    "    # Retornar intervalo   \n",
    "    return [perc_izq, perc_der]"
   ]
  },
  {
   "cell_type": "markdown",
   "id": "c2dfbae3",
   "metadata": {},
   "source": [
    "Y ahora sí calculemos el intervalo de confianza del 95%:"
   ]
  },
  {
   "cell_type": "code",
   "execution_count": 14,
   "id": "85a58976",
   "metadata": {},
   "outputs": [
    {
     "name": "stdout",
     "output_type": "stream",
     "text": [
      "Intervalo de confianza del 95% (bootstrapping): 25.2 a 43.3\n"
     ]
    }
   ],
   "source": [
    "ic_boot = calcular_IC(d_muestral_boot, ic=0.95)\n",
    "print(f\"Intervalo de confianza del 95% (bootstrapping): {ic_boot[0]:.1f} a {ic_boot[1]:.1f}\")"
   ]
  },
  {
   "cell_type": "markdown",
   "id": "017f29ee",
   "metadata": {},
   "source": [
    "Y listo, ya hemos visto paso a paso cómo generar estimaciones usando el método *bootstrapping*.\n",
    "\n",
    "Esta misma lógica la podremos aplicar a casos en los cuales tengamos muchísimos más datos, así que vale la pena reorganizar el código anterior para poderlo utilizar.\n",
    "\n",
    "Para ello vamos a crear la función `estimacion_boot` que permite realizar estimaciones y cálculos de incertidumbre **sobre la media** a partir de un arreglo numérico de datos.\n",
    "\n",
    "Los parámetros de entrada de esta función serán:\n",
    "\n",
    "- `arreglo`: los datos recolectados que usaremos para hacer la estimación\n",
    "- `M`: el número de muestras *bootstrapping* a obtener (por defecto 1.000)\n",
    "- `ic`: el intervalo de confianza deseado (por defecto 0.95)\n",
    "\n",
    "A la salida la función retornará:\n",
    "\n",
    "- `media_boot`: la media estimada usando la técnica del *bootstrapping*\n",
    "- `error_boot` e `ic_boot`: el error estándar y el intervalo de confianza calculados usando la técnica del *bootstrapping*\n",
    "\n",
    "Veamos esta implementación:"
   ]
  },
  {
   "cell_type": "code",
   "execution_count": 15,
   "id": "30e4c99c",
   "metadata": {},
   "outputs": [],
   "source": [
    "def estimacion_boot(arreglo, M=1000, ic=0.95):\n",
    "    # Inicialización\n",
    "    n = len(arreglo)   # Tamaño del set de datos\n",
    "    muestras = np.zeros((M,n)) # Arreglo de Mxn con las muestras\n",
    "    \n",
    "    # Muestreo aleatorio con reemplazo\n",
    "    for m in range(M):\n",
    "        muestras[m,:] = np.random.choice(arreglo, size=n, replace=True)\n",
    "        \n",
    "    # Calcular distribución muestral \"bootstrapping\" (medias)\n",
    "    d_muestral_boot = muestras.mean(axis=1)\n",
    "    \n",
    "    # Estimar estadística\n",
    "    media_boot = d_muestral_boot.mean()\n",
    "    \n",
    "    # Estimar error estándar\n",
    "    error_boot = d_muestral_boot.std()\n",
    "    \n",
    "    # Estimar intervalo de confianza\n",
    "    lim_izq = (1-ic)/2 * 100\n",
    "    lim_der = (ic + (1-ic)/2) * 100\n",
    "    \n",
    "    perc_izq = np.percentile(d_muestral_boot, lim_izq)\n",
    "    perc_der = np.percentile(d_muestral_boot, lim_der)\n",
    "    \n",
    "    # Retornar estadística estimada, error estándar e intervalo de confianza\n",
    "    return media_boot, error_boot, [perc_izq, perc_der]    "
   ]
  },
  {
   "cell_type": "markdown",
   "id": "a0638659",
   "metadata": {},
   "source": [
    "Y verifiquemos que todo funciona correctamente haciendo nuevamente la estimación sobre el set que usamos anteriormente:"
   ]
  },
  {
   "cell_type": "code",
   "execution_count": 16,
   "id": "7d1aad37",
   "metadata": {},
   "outputs": [
    {
     "name": "stdout",
     "output_type": "stream",
     "text": [
      "Media estimada (bootstrapping): 33.9\n",
      "Error estándar (bootstrapping): 2.3\n",
      "Intervalo de confianza (bootstrapping): 29.5 a 38.3\n"
     ]
    }
   ],
   "source": [
    "media, error, ic = estimacion_boot(datos, M=1000, ic=0.95)\n",
    "\n",
    "# Imprimir información\n",
    "print(f'Media estimada (bootstrapping): {media:.1f}')\n",
    "print(f'Error estándar (bootstrapping): {error:.1f}')\n",
    "print(f'Intervalo de confianza (bootstrapping): {ic[0]:.1f} a {ic[1]:.1f}')"
   ]
  },
  {
   "cell_type": "markdown",
   "id": "ec92ecd2",
   "metadata": {},
   "source": [
    "Y listo, en este punto tenemos todo lo básico acerca del *bootstrapping*"
   ]
  },
  {
   "cell_type": "markdown",
   "id": "1b84662b",
   "metadata": {},
   "source": [
    "## 3. ¿Qué tan buenas son las estimaciones obtenidas con el *bootstrapping*?\n",
    "\n",
    "En este punto la idea es determinar qué tan buenas estimaciones nos arroja esta técnica.\n",
    "\n",
    "Para ello haremos la siguiente simulación:\n",
    "\n",
    "- Generaremos una población de 10.000 datos (números aleatorios con distribución Gaussiana)\n",
    "- De la población anterior tomaremos una muestra de 2.000 datos. Este será el set de datos que usaremos para obtener las estimaciones con el *bootstrapping*\n",
    "- Calcularemos la media y la desviación estándar de la población. Estos serán nuestros valores de referencia\n",
    "- Y luego estimaremos la media a partir del set de datos y calcularemos la incertidumbre en la estimación usando en ambos casos *bootstrapping*\n",
    "- Al final compararemos los resultados obtenidos\n",
    "\n",
    "Comencemos generando la población:"
   ]
  },
  {
   "cell_type": "code",
   "execution_count": 17,
   "id": "e9064eeb",
   "metadata": {},
   "outputs": [
    {
     "name": "stdout",
     "output_type": "stream",
     "text": [
      "Población: \n",
      "\tMedia:      4.98\n",
      "\tDesviación: 1.00\n"
     ]
    },
    {
     "data": {
      "text/plain": [
       "array([5.17043843, 6.37750082, 4.24271231, ..., 4.25013468, 5.49383374,\n",
       "       4.95893799], shape=(10000,))"
      ]
     },
     "execution_count": 17,
     "metadata": {},
     "output_type": "execute_result"
    }
   ],
   "source": [
    "pob = np.random.normal(loc=5.0, scale=1.0, size=10000)\n",
    "print('Población: ')\n",
    "print(f'\\tMedia:      {pob.mean():.2f}')\n",
    "print(f'\\tDesviación: {pob.std():.2f}')\n",
    "pob"
   ]
  },
  {
   "cell_type": "markdown",
   "id": "2726924a",
   "metadata": {},
   "source": [
    "Ahora vamos a crear nuestro set de datos. En esta simulación tomaremos una muestra aleatoria de 2.000 de la población:"
   ]
  },
  {
   "cell_type": "code",
   "execution_count": 18,
   "id": "6760198c",
   "metadata": {},
   "outputs": [
    {
     "data": {
      "text/plain": [
       "(2000,)"
      ]
     },
     "execution_count": 18,
     "metadata": {},
     "output_type": "execute_result"
    }
   ],
   "source": [
    "datos = np.random.choice(pob, size=2000, replace=False)\n",
    "datos.shape"
   ]
  },
  {
   "cell_type": "markdown",
   "id": "26208660",
   "metadata": {},
   "source": [
    "Y con este set de datos haremos las estimaciones y calcularemos la incertidumbre usando la técnica del *bootstrapping* y la función creada anteriormente:"
   ]
  },
  {
   "cell_type": "code",
   "execution_count": 19,
   "id": "fc709107",
   "metadata": {},
   "outputs": [
    {
     "name": "stdout",
     "output_type": "stream",
     "text": [
      "Media estimada (bootstrapping): 4.97\n",
      "Error estándar (bootstrapping): 0.02\n",
      "Intervalo de confianza (bootstrapping): 4.93 a 5.01\n"
     ]
    }
   ],
   "source": [
    "media, error, ic = estimacion_boot(datos, M=10000, ic=0.95)\n",
    "\n",
    "# Imprimir información\n",
    "print(f'Media estimada (bootstrapping): {media:.2f}')\n",
    "print(f'Error estándar (bootstrapping): {error:.2f}')\n",
    "print(f'Intervalo de confianza (bootstrapping): {ic[0]:.2f} a {ic[1]:.2f}')"
   ]
  },
  {
   "cell_type": "markdown",
   "id": "7ee1b923",
   "metadata": {},
   "source": [
    "¡Y vemos que en efecto la estimación de la media obtenida con el *bootstrapping* es bastante buena!\n",
    "\n",
    "De hecho, si tomamos la media real de la población y la dividimos entre $\\sqrt(n)$ (con n=2000) tendremos prácticamente el mismo error estándar:"
   ]
  },
  {
   "cell_type": "code",
   "execution_count": 20,
   "id": "8f839ea4",
   "metadata": {},
   "outputs": [
    {
     "data": {
      "text/plain": [
       "np.float64(0.022400094552490334)"
      ]
     },
     "execution_count": 20,
     "metadata": {},
     "output_type": "execute_result"
    }
   ],
   "source": [
    "pob.std()/np.sqrt(2000)"
   ]
  },
  {
   "cell_type": "markdown",
   "id": "5e70a137",
   "metadata": {},
   "source": [
    "Y podemos jugar un poco con la cantidad de muestras usadas al hacer la estimación con el *bootstrapping*:"
   ]
  },
  {
   "cell_type": "code",
   "execution_count": 21,
   "id": "76787474",
   "metadata": {},
   "outputs": [
    {
     "name": "stdout",
     "output_type": "stream",
     "text": [
      "Media estimada (bootstrapping): 4.97\n",
      "Error estándar (bootstrapping): 0.02\n",
      "Intervalo de confianza (bootstrapping): 4.92 a 5.02\n"
     ]
    }
   ],
   "source": [
    "media, error, ic = estimacion_boot(datos, M=1000, ic=0.99)\n",
    "\n",
    "# Imprimir información\n",
    "print(f'Media estimada (bootstrapping): {media:.2f}')\n",
    "print(f'Error estándar (bootstrapping): {error:.2f}')\n",
    "print(f'Intervalo de confianza (bootstrapping): {ic[0]:.2f} a {ic[1]:.2f}')"
   ]
  },
  {
   "cell_type": "markdown",
   "id": "e1757559",
   "metadata": {},
   "source": [
    "Y vemos que en este caso particular, incluso con 10 muestras *bootstrapping* la estimación sigue siendo buena. Sin embargo, no podemos generalizar y lo que se recomienda es usar entre 1.000 y 10.000 remuestreos (todo dependerá de qué tan grande o pequeño sea nuestro set de datos).\n",
    "\n",
    "Otro aspecto a tener en cuenta es que los datos que recolectemos **deben ser una muestra representativa de la población**. Es decir que si tenemos \"pocos\" datos la estimación con *bootstrapping* ya no será tan buena.\n",
    "\n",
    "Hagamos este experimento, en lugar de 2.000 generemos sets de datos con n=1.000, n=100 y n=10 muestras e imprimamos en cada caso las estimaciones de la media obtenidas con *bootstrapping*:"
   ]
  },
  {
   "cell_type": "code",
   "execution_count": 22,
   "id": "887ce4c5",
   "metadata": {},
   "outputs": [
    {
     "name": "stdout",
     "output_type": "stream",
     "text": [
      "Población: \n",
      "\tMedia: 4.98\n",
      "Bootstrapping: dataset con 1000 datos:\n",
      "\tMedia: 4.99\n",
      "Bootstrapping: dataset con 100 datos:\n",
      "\tMedia: 4.99\n",
      "Bootstrapping: dataset con 10 datos:\n",
      "\tMedia: 5.06\n"
     ]
    }
   ],
   "source": [
    "N = [1000, 100, 10]\n",
    "\n",
    "# Imprimir valor de referencia (media de la población)\n",
    "print('Población: ')\n",
    "print(f'\\tMedia: {pob.mean():.2f}')\n",
    "\n",
    "# Generar sets de datos con los diferentes valores de \"n\"\n",
    "# y realizar estimaciones con \"bootstrapping\"\n",
    "for n in N:\n",
    "    print(f'Bootstrapping: dataset con {n} datos:')\n",
    "    \n",
    "    # Crear set de datos simulado\n",
    "    datos = np.random.choice(pob, size=n, replace=False)\n",
    "    \n",
    "    # Estimar media con \"bootstrapping e imprimir resultado\"\n",
    "    media, error, ic = estimacion_boot(datos, M=1000, ic=0.95)\n",
    "    print(f'\\tMedia: {media:.2f}')\n",
    "    "
   ]
  },
  {
   "cell_type": "markdown",
   "id": "69be5ea8",
   "metadata": {},
   "source": [
    "Y vemos que en general a medida que se reduce la cantidad de datos usados la estimación es cada vez menos precisa."
   ]
  },
  {
   "cell_type": "markdown",
   "id": "189f63a2",
   "metadata": {},
   "source": [
    "## 4. *Bootstrapping*: ejemplo práctico con un set de datos\n",
    "\n",
    "Lo único que nos resta es poner en práctica la técnica del *bootstrapping* para analizar un set de datos real.\n",
    "\n",
    "Para esto usaremos el set *dataset-prestamos.csv* que contiene información sobre diferentes tipos de préstamos otorgados a diferentes clientes de una entidad bancaria:"
   ]
  },
  {
   "cell_type": "code",
   "execution_count": 23,
   "id": "63e7f5d7",
   "metadata": {},
   "outputs": [
    {
     "data": {
      "application/vnd.microsoft.datawrangler.viewer.v0+json": {
       "columns": [
        {
         "name": "index",
         "rawType": "int64",
         "type": "integer"
        },
        {
         "name": "estado",
         "rawType": "object",
         "type": "string"
        },
        {
         "name": "monto",
         "rawType": "int64",
         "type": "integer"
        }
       ],
       "ref": "9d6bd701-906b-452c-a602-e2bdae154bba",
       "rows": [
        [
         "0",
         "Al día",
         "2500"
        ],
        [
         "1",
         "Al día",
         "5600"
        ],
        [
         "2",
         "Al día",
         "5375"
        ],
        [
         "3",
         "Al día",
         "5000"
        ],
        [
         "4",
         "Al día",
         "21000"
        ],
        [
         "5",
         "Al día",
         "12500"
        ],
        [
         "6",
         "Al día",
         "8200"
        ],
        [
         "7",
         "Al día",
         "17500"
        ],
        [
         "8",
         "Al día",
         "18825"
        ],
        [
         "9",
         "Al día",
         "28000"
        ],
        [
         "10",
         "Al día",
         "13475"
        ],
        [
         "11",
         "Al día",
         "20000"
        ],
        [
         "12",
         "Al día",
         "21000"
        ],
        [
         "13",
         "Al día",
         "26000"
        ],
        [
         "14",
         "Al día",
         "7000"
        ],
        [
         "15",
         "Al día",
         "16000"
        ],
        [
         "16",
         "Al día",
         "11875"
        ],
        [
         "17",
         "Al día",
         "30000"
        ],
        [
         "18",
         "Al día",
         "18000"
        ],
        [
         "19",
         "Al día",
         "20000"
        ],
        [
         "20",
         "Al día",
         "9000"
        ],
        [
         "21",
         "Al día",
         "20000"
        ],
        [
         "22",
         "Al día",
         "15000"
        ],
        [
         "23",
         "Al día",
         "6000"
        ],
        [
         "24",
         "Al día",
         "20000"
        ],
        [
         "25",
         "Al día",
         "18000"
        ],
        [
         "26",
         "Al día",
         "8000"
        ],
        [
         "27",
         "Al día",
         "35000"
        ],
        [
         "28",
         "Al día",
         "12000"
        ],
        [
         "29",
         "Al día",
         "4000"
        ],
        [
         "30",
         "Al día",
         "8000"
        ],
        [
         "31",
         "Al día",
         "24000"
        ],
        [
         "32",
         "Al día",
         "28000"
        ],
        [
         "33",
         "Al día",
         "16000"
        ],
        [
         "34",
         "Al día",
         "24500"
        ],
        [
         "35",
         "Al día",
         "12375"
        ],
        [
         "36",
         "Al día",
         "20675"
        ],
        [
         "37",
         "Al día",
         "20500"
        ],
        [
         "38",
         "Al día",
         "29000"
        ],
        [
         "39",
         "Al día",
         "8250"
        ],
        [
         "40",
         "Al día",
         "35000"
        ],
        [
         "41",
         "Al día",
         "16000"
        ],
        [
         "42",
         "Al día",
         "12000"
        ],
        [
         "43",
         "Al día",
         "22250"
        ],
        [
         "44",
         "Al día",
         "8200"
        ],
        [
         "45",
         "Al día",
         "15000"
        ],
        [
         "46",
         "Al día",
         "15700"
        ],
        [
         "47",
         "Al día",
         "35000"
        ],
        [
         "48",
         "Al día",
         "12000"
        ],
        [
         "49",
         "Al día",
         "13000"
        ]
       ],
       "shape": {
        "columns": 2,
        "rows": 11277
       }
      },
      "text/html": [
       "<div>\n",
       "<style scoped>\n",
       "    .dataframe tbody tr th:only-of-type {\n",
       "        vertical-align: middle;\n",
       "    }\n",
       "\n",
       "    .dataframe tbody tr th {\n",
       "        vertical-align: top;\n",
       "    }\n",
       "\n",
       "    .dataframe thead th {\n",
       "        text-align: right;\n",
       "    }\n",
       "</style>\n",
       "<table border=\"1\" class=\"dataframe\">\n",
       "  <thead>\n",
       "    <tr style=\"text-align: right;\">\n",
       "      <th></th>\n",
       "      <th>estado</th>\n",
       "      <th>monto</th>\n",
       "    </tr>\n",
       "  </thead>\n",
       "  <tbody>\n",
       "    <tr>\n",
       "      <th>0</th>\n",
       "      <td>Al día</td>\n",
       "      <td>2500</td>\n",
       "    </tr>\n",
       "    <tr>\n",
       "      <th>1</th>\n",
       "      <td>Al día</td>\n",
       "      <td>5600</td>\n",
       "    </tr>\n",
       "    <tr>\n",
       "      <th>2</th>\n",
       "      <td>Al día</td>\n",
       "      <td>5375</td>\n",
       "    </tr>\n",
       "    <tr>\n",
       "      <th>3</th>\n",
       "      <td>Al día</td>\n",
       "      <td>5000</td>\n",
       "    </tr>\n",
       "    <tr>\n",
       "      <th>4</th>\n",
       "      <td>Al día</td>\n",
       "      <td>21000</td>\n",
       "    </tr>\n",
       "    <tr>\n",
       "      <th>...</th>\n",
       "      <td>...</td>\n",
       "      <td>...</td>\n",
       "    </tr>\n",
       "    <tr>\n",
       "      <th>11272</th>\n",
       "      <td>Pagado</td>\n",
       "      <td>6000</td>\n",
       "    </tr>\n",
       "    <tr>\n",
       "      <th>11273</th>\n",
       "      <td>Pagado</td>\n",
       "      <td>14400</td>\n",
       "    </tr>\n",
       "    <tr>\n",
       "      <th>11274</th>\n",
       "      <td>Pagado</td>\n",
       "      <td>15000</td>\n",
       "    </tr>\n",
       "    <tr>\n",
       "      <th>11275</th>\n",
       "      <td>Pagado</td>\n",
       "      <td>24000</td>\n",
       "    </tr>\n",
       "    <tr>\n",
       "      <th>11276</th>\n",
       "      <td>Pagado</td>\n",
       "      <td>35000</td>\n",
       "    </tr>\n",
       "  </tbody>\n",
       "</table>\n",
       "<p>11277 rows × 2 columns</p>\n",
       "</div>"
      ],
      "text/plain": [
       "       estado  monto\n",
       "0      Al día   2500\n",
       "1      Al día   5600\n",
       "2      Al día   5375\n",
       "3      Al día   5000\n",
       "4      Al día  21000\n",
       "...       ...    ...\n",
       "11272  Pagado   6000\n",
       "11273  Pagado  14400\n",
       "11274  Pagado  15000\n",
       "11275  Pagado  24000\n",
       "11276  Pagado  35000\n",
       "\n",
       "[11277 rows x 2 columns]"
      ]
     },
     "execution_count": 23,
     "metadata": {},
     "output_type": "execute_result"
    }
   ],
   "source": [
    "import pandas as pd\n",
    "\n",
    "ruta = \"/Users/hectorrr/proyectos/pruebas prametricas/dataset-prestamos.csv\"\n",
    "df = pd.read_csv(ruta)\n",
    "df"
   ]
  },
  {
   "cell_type": "markdown",
   "id": "1a9247e8",
   "metadata": {},
   "source": [
    "Y planteemos una pregunta sencilla:\n",
    "\n",
    "¿Cuál es el monto estimado de los créditos para los diferentes estados (Al día, impago y pagado)?\n",
    "\n",
    "Para responder a esta pregunta comencemos generando una gráfica tipo *boxplot* con el fin de tener un panorama inicial del comportamiento de los datos:"
   ]
  },
  {
   "cell_type": "code",
   "execution_count": 24,
   "id": "2b36639b",
   "metadata": {},
   "outputs": [
    {
     "data": {
      "image/png": "[encoded data removed]",
      "text/plain": [
       "<Figure size 640x480 with 1 Axes>"
      ]
     },
     "metadata": {},
     "output_type": "display_data"
    }
   ],
   "source": [
    "import seaborn as sns\n",
    "\n",
    "sns.boxplot(data=df, x='estado', y='monto');"
   ]
  },
  {
   "cell_type": "markdown",
   "id": "a0cbcd15",
   "metadata": {},
   "source": [
    "Vemos que no aparecen valores extremos en ninguna de las distribuciones, así que podremos usar la media como estadística para caracterizar cada grupo.\n",
    "\n",
    "Así que lo que queremos es:\n",
    "\n",
    "> Usar la técnica de *bootstrapping* para estimar la media del monto de los créditos \"Al día\", \"Impago\" y \"Pagado\" para créditos a 36 meses\n",
    "\n",
    "Y para esto podemos usar la misma función creada anteriormente (`estimacion_boot`). En caso de que hubiese valores extremos deberíamos usar una métrica más robusta (como por ejemplo la mediana) y sería necesario modificar la función `estimacion_boot`.\n",
    "\n",
    "Antes de realizar las estimaciones debemos extraer las agrupaciones de interés según el estado (Al día, Impago y Pagado):"
   ]
  },
  {
   "cell_type": "code",
   "execution_count": 25,
   "id": "8a40ca36",
   "metadata": {},
   "outputs": [
    {
     "name": "stdout",
     "output_type": "stream",
     "text": [
      "   estado  monto\n",
      "0  Al día   2500\n",
      "1  Al día   5600\n",
      "2  Al día   5375\n",
      "3  Al día   5000\n",
      "4  Al día  21000\n",
      "      estado  monto\n",
      "334   Impago  35000\n",
      "478   Impago   2500\n",
      "849   Impago  23275\n",
      "1219  Impago  25000\n",
      "1220  Impago  17000\n",
      "      estado  monto\n",
      "7370  Pagado  12000\n",
      "7371  Pagado  19800\n",
      "7372  Pagado  19700\n",
      "7373  Pagado  24000\n",
      "7374  Pagado  13375\n"
     ]
    }
   ],
   "source": [
    "df_ald = df[df['estado'] == 'Al día']\n",
    "df_imp = df[df['estado'] == 'Impago']\n",
    "df_pag = df[df['estado'] == 'Pagado']\n",
    "\n",
    "print(df_ald.head())\n",
    "print(df_imp.head())\n",
    "print(df_pag.head())"
   ]
  },
  {
   "cell_type": "markdown",
   "id": "6f02907a",
   "metadata": {},
   "source": [
    "Y ahora sí realicemos las estimaciones usando *bootstrapping*:"
   ]
  },
  {
   "cell_type": "code",
   "execution_count": 26,
   "id": "cb3486cb",
   "metadata": {},
   "outputs": [],
   "source": [
    "media_ald, error_ald, ic_ald = estimacion_boot(df_ald['monto'].to_numpy(), M=10000, ic=0.95)\n",
    "media_imp, error_imp, ic_imp = estimacion_boot(df_imp['monto'].to_numpy(), M=10000, ic=0.95)\n",
    "media_pag, error_pag, ic_pag = estimacion_boot(df_pag['monto'].to_numpy(), M=10000, ic=0.95)"
   ]
  },
  {
   "cell_type": "markdown",
   "id": "bbd93b52",
   "metadata": {},
   "source": [
    "Y pongamos estos resultados en un DataFrame de Pandas para poder interpretarlos fácilmente"
   ]
  },
  {
   "cell_type": "code",
   "execution_count": 27,
   "id": "42a9c30b",
   "metadata": {},
   "outputs": [
    {
     "data": {
      "application/vnd.microsoft.datawrangler.viewer.v0+json": {
       "columns": [
        {
         "name": "index",
         "rawType": "int64",
         "type": "integer"
        },
        {
         "name": "Crédito",
         "rawType": "object",
         "type": "string"
        },
        {
         "name": "Media (estimada)",
         "rawType": "float64",
         "type": "float"
        },
        {
         "name": "Error estándar",
         "rawType": "float64",
         "type": "float"
        },
        {
         "name": "IC (95%)",
         "rawType": "object",
         "type": "unknown"
        }
       ],
       "ref": "b2f7c20e-b8a3-4834-863a-2f1dba0a42e3",
       "rows": [
        [
         "0",
         "Al día",
         "19251.5",
         "95.5",
         "[19062.8 19435.1]"
        ],
        [
         "1",
         "Impago",
         "20813.4",
         "965.6",
         "[18920.7 22688.5]"
        ],
        [
         "2",
         "Pagado",
         "19444.6",
         "128.9",
         "[19191.3 19698.2]"
        ]
       ],
       "shape": {
        "columns": 4,
        "rows": 3
       }
      },
      "text/html": [
       "<div>\n",
       "<style scoped>\n",
       "    .dataframe tbody tr th:only-of-type {\n",
       "        vertical-align: middle;\n",
       "    }\n",
       "\n",
       "    .dataframe tbody tr th {\n",
       "        vertical-align: top;\n",
       "    }\n",
       "\n",
       "    .dataframe thead th {\n",
       "        text-align: right;\n",
       "    }\n",
       "</style>\n",
       "<table border=\"1\" class=\"dataframe\">\n",
       "  <thead>\n",
       "    <tr style=\"text-align: right;\">\n",
       "      <th></th>\n",
       "      <th>Crédito</th>\n",
       "      <th>Media (estimada)</th>\n",
       "      <th>Error estándar</th>\n",
       "      <th>IC (95%)</th>\n",
       "    </tr>\n",
       "  </thead>\n",
       "  <tbody>\n",
       "    <tr>\n",
       "      <th>0</th>\n",
       "      <td>Al día</td>\n",
       "      <td>19251.5</td>\n",
       "      <td>95.5</td>\n",
       "      <td>[19062.8, 19435.1]</td>\n",
       "    </tr>\n",
       "    <tr>\n",
       "      <th>1</th>\n",
       "      <td>Impago</td>\n",
       "      <td>20813.4</td>\n",
       "      <td>965.6</td>\n",
       "      <td>[18920.7, 22688.5]</td>\n",
       "    </tr>\n",
       "    <tr>\n",
       "      <th>2</th>\n",
       "      <td>Pagado</td>\n",
       "      <td>19444.6</td>\n",
       "      <td>128.9</td>\n",
       "      <td>[19191.3, 19698.2]</td>\n",
       "    </tr>\n",
       "  </tbody>\n",
       "</table>\n",
       "</div>"
      ],
      "text/plain": [
       "  Crédito  Media (estimada)  Error estándar            IC (95%)\n",
       "0  Al día           19251.5            95.5  [19062.8, 19435.1]\n",
       "1  Impago           20813.4           965.6  [18920.7, 22688.5]\n",
       "2  Pagado           19444.6           128.9  [19191.3, 19698.2]"
      ]
     },
     "execution_count": 27,
     "metadata": {},
     "output_type": "execute_result"
    }
   ],
   "source": [
    "ests = pd.DataFrame({\n",
    "    \"Crédito\": ['Al día', 'Impago', 'Pagado'],\n",
    "    \"Media (estimada)\": np.round([media_ald , media_imp, media_pag],1),\n",
    "    \"Error estándar\": np.round([error_ald, error_imp, error_pag],1),\n",
    "    \"IC (95%)\": [np.round(ic_ald,1), np.round(ic_imp,1), np.round(ic_pag,1)]\n",
    "})\n",
    "ests"
   ]
  },
  {
   "cell_type": "code",
   "execution_count": 30,
   "id": "b176a9b8",
   "metadata": {},
   "outputs": [
    {
     "name": "stdout",
     "output_type": "stream",
     "text": [
      "(7294, 2)\n",
      "(76, 2)\n",
      "(3907, 2)\n"
     ]
    }
   ],
   "source": [
    "print(df_ald.shape)\n",
    "print(df_imp.shape)\n",
    "print(df_pag.shape)"
   ]
  },
  {
   "cell_type": "markdown",
   "id": "ac4ff765",
   "metadata": {},
   "source": [
    "**Observaciones:**\n",
    "- En orden descendente los créditos en \"Impago\" tienen el promedio más alto, seguidos por los créditos pagados y los créditos al día.\n",
    "- Sin embargo la estimación de los créditos en \"Impago\" tiene un alto grado de incertidumbre"
   ]
  },
  {
   "cell_type": "markdown",
   "id": "e728c65f",
   "metadata": {},
   "source": [
    "## 4. Aspectos a tener en cuenta\n",
    "\n",
    "1. La técnica del *bootstrapping* es la que debemos usar al momento de realizar estimaciones sobre los datos recolectados\n",
    "2. Para implementar esta técnica debemos:\n",
    "   - Recolectar los datos\n",
    "   - Generar \"M\" muestras con reemplazo cada una del mismo tamaño del set de datos (y con M entre 1.000 y 10.000)\n",
    "   - Construir la distribución muestral a partir de esas \"M\" muestras\n",
    "   - Generar las estimaciones y calcular la incertidumbre a partir de la distribución muestral obtenida\n",
    "3. La técnica se puede aplicar para estimar cualquier estadística (no sólo la media)\n",
    "4. Y más adelante veremos que es la técnica a elegir cuando queramos realizar pruebas de hipótesis sobre nuestros datos"
   ]
  },
  {
   "cell_type": "code",
   "execution_count": null,
   "id": "26f63023",
   "metadata": {},
   "outputs": [],
   "source": []
  }
 ],
 "metadata": {
  "kernelspec": {
   "display_name": ".venv",
   "language": "python",
   "name": "python3"
  },
  "language_info": {
   "codemirror_mode": {
    "name": "ipython",
    "version": 3
   },
   "file_extension": ".py",
   "mimetype": "text/x-python",
   "name": "python",
   "nbconvert_exporter": "python",
   "pygments_lexer": "ipython3",
   "version": "3.11.9"
  }
 },
 "nbformat": 4,
 "nbformat_minor": 5
}
