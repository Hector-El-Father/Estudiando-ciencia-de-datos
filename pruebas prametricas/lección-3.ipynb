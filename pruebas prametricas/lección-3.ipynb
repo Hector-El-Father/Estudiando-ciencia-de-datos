{
 "cells": [
  {
   "cell_type": "markdown",
   "id": "bc0e5123",
   "metadata": {},
   "source": [
    "# La distribución muestral\n",
    "\n",
    "En esta lección vamos a introducir el concepto de la distribución muestral (o distribución de la muestra) que servirá como punto de partida para métricas que nos permitirán cuantificar la confiabilidad de las estimaciones que hagamos sobre los datos a partir de las muestras recolectadas.\n",
    "\n",
    "Así que para entender este concepto de la definición muestral comenzaremos con un sencillo ejemplo numérico, después de lo cual veremos la definición formal y los principales usos de este concepto en la Ciencia de Datos y el Machine Learning.\n",
    "\n",
    "Y al final cerraremos con los principales aspectos a tener en cuenta al momento de usar distribuciones muestrales para analizar nuestros datos."
   ]
  },
  {
   "cell_type": "markdown",
   "id": "4c94b63e",
   "metadata": {},
   "source": [
    "## 1. Ejemplo numérico\n",
    "\n",
    "Comencemos con un ejemplo que nos permitirá entender la idea básica de lo que es la distribución muestral.\n",
    "\n",
    "Supongamos un caso hipotético: tenemos una población que contiene los números enteros del 1 al 100.\n",
    "\n",
    "Podemos simular esta población usando NumPy:"
   ]
  },
  {
   "cell_type": "code",
   "execution_count": 12,
   "id": "049f8d69",
   "metadata": {},
   "outputs": [
    {
     "name": "stdout",
     "output_type": "stream",
     "text": [
      "[ 20  23  26  29  32  35  38  41  44  47  50  53  56  59  62  65  68  71\n",
      "  74  77  80  83  86  89  92  95  98 101 104 107 110 113 116 119 122 125\n",
      " 128 131 134 137 140 143 146 149]\n",
      "84.5\n",
      "84.5\n",
      "84.9\n",
      "84.5\n"
     ]
    }
   ],
   "source": [
    "# Población: 100 datos (números del 1 al 100)\n",
    "import numpy as np\n",
    "\n",
    "pob = np.arange(20,150,3)\n",
    "print(pob)\n",
    "\n",
    "# Imprimir la media de la población\n",
    "print(pob.mean())\n",
    "print(np.median(pob))\n",
    "muestra=np.random.choice(pob, size=30, replace=False)\n",
    "muestra\n",
    "print(np.mean(muestra))\n",
    "print(np.median(muestra))\n"
   ]
  },
  {
   "cell_type": "markdown",
   "id": "521f43ab",
   "metadata": {},
   "source": [
    "Ahora hagamos el siguiente ejercicio: realizemos un muestreo aleatorio (con un tamaño de muestra n=30) un total de 100 veces. Para cada una de estas muestras vamos a imprimir en pantalla el valor de la media:"
   ]
  },
  {
   "cell_type": "code",
   "execution_count": null,
   "id": "383d5796",
   "metadata": {},
   "outputs": [
    {
     "name": "stdout",
     "output_type": "stream",
     "text": [
      "(100,)\n",
      "Muestra 1: 51.10\n",
      "Muestra 2: 51.40\n",
      "Muestra 3: 44.77\n",
      "Muestra 4: 42.57\n",
      "Muestra 5: 42.43\n",
      "Muestra 6: 45.33\n",
      "Muestra 7: 54.77\n",
      "Muestra 8: 52.97\n",
      "Muestra 9: 54.50\n",
      "Muestra 10: 41.87\n",
      "Muestra 11: 52.40\n",
      "Muestra 12: 48.63\n",
      "Muestra 13: 46.63\n",
      "Muestra 14: 43.97\n",
      "Muestra 15: 52.13\n",
      "Muestra 16: 39.57\n",
      "Muestra 17: 48.97\n",
      "Muestra 18: 57.90\n",
      "Muestra 19: 49.10\n",
      "Muestra 20: 53.37\n",
      "Muestra 21: 54.30\n",
      "Muestra 22: 44.80\n",
      "Muestra 23: 53.97\n",
      "Muestra 24: 49.90\n",
      "Muestra 25: 51.00\n",
      "Muestra 26: 49.40\n",
      "Muestra 27: 46.00\n",
      "Muestra 28: 55.73\n",
      "Muestra 29: 37.70\n",
      "Muestra 30: 51.20\n",
      "Muestra 31: 53.10\n",
      "Muestra 32: 48.37\n",
      "Muestra 33: 52.17\n",
      "Muestra 34: 45.57\n",
      "Muestra 35: 52.83\n",
      "Muestra 36: 48.13\n",
      "Muestra 37: 49.13\n",
      "Muestra 38: 44.80\n",
      "Muestra 39: 49.87\n",
      "Muestra 40: 49.07\n",
      "Muestra 41: 53.87\n",
      "Muestra 42: 55.13\n",
      "Muestra 43: 40.67\n",
      "Muestra 44: 42.83\n",
      "Muestra 45: 50.87\n",
      "Muestra 46: 59.60\n",
      "Muestra 47: 44.67\n",
      "Muestra 48: 46.33\n",
      "Muestra 49: 46.87\n",
      "Muestra 50: 43.70\n",
      "Muestra 51: 59.77\n",
      "Muestra 52: 47.50\n",
      "Muestra 53: 49.53\n",
      "Muestra 54: 55.73\n",
      "Muestra 55: 58.43\n",
      "Muestra 56: 45.17\n",
      "Muestra 57: 41.87\n",
      "Muestra 58: 52.10\n",
      "Muestra 59: 46.00\n",
      "Muestra 60: 42.43\n",
      "Muestra 61: 43.67\n",
      "Muestra 62: 45.60\n",
      "Muestra 63: 54.67\n",
      "Muestra 64: 50.00\n",
      "Muestra 65: 54.23\n",
      "Muestra 66: 48.43\n",
      "Muestra 67: 53.40\n",
      "Muestra 68: 56.83\n",
      "Muestra 69: 54.87\n",
      "Muestra 70: 49.83\n",
      "Muestra 71: 51.73\n",
      "Muestra 72: 50.23\n",
      "Muestra 73: 48.07\n",
      "Muestra 74: 48.43\n",
      "Muestra 75: 45.73\n",
      "Muestra 76: 41.07\n",
      "Muestra 77: 47.03\n",
      "Muestra 78: 51.80\n",
      "Muestra 79: 48.77\n",
      "Muestra 80: 49.27\n",
      "Muestra 81: 46.23\n",
      "Muestra 82: 49.97\n",
      "Muestra 83: 58.20\n",
      "Muestra 84: 55.27\n",
      "Muestra 85: 54.73\n",
      "Muestra 86: 56.03\n",
      "Muestra 87: 48.43\n",
      "Muestra 88: 57.13\n",
      "Muestra 89: 44.80\n",
      "Muestra 90: 47.80\n",
      "Muestra 91: 38.93\n",
      "Muestra 92: 55.37\n",
      "Muestra 93: 53.60\n",
      "Muestra 94: 52.17\n",
      "Muestra 95: 50.63\n",
      "Muestra 96: 44.73\n",
      "Muestra 97: 52.27\n",
      "Muestra 98: 45.30\n",
      "Muestra 99: 54.47\n",
      "Muestra 100: 43.40\n"
     ]
    }
   ],
   "source": [
    "# Muestreo aleatorio (n=30). Para cada muestra imprimir en pantalla la media (estimación)\n",
    "# por defecto choice devuelve una muestra con elementos repetidos con replace por defecto en true\n",
    "n = 30\n",
    "trials = 100\n",
    "pob = np.arange(0,101)\n",
    "proms_muestras = np.zeros((trials))\n",
    "print(proms_muestras.shape)\n",
    "for i in range(trials):\n",
    "    # Tomar muestra\n",
    "    muestra = np.random.choice(pob, size=n)\n",
    "    #print(f'muestra {i}:{muestra}')\n",
    "    # Imprimir estimación de la media\n",
    "    print(f'Muestra {i+1}: {muestra.mean():.2f}')\n",
    "    \n",
    "    # Almacenar resultado\n",
    "    proms_muestras[i] = muestra.mean()"
   ]
  },
  {
   "cell_type": "code",
   "execution_count": 26,
   "id": "9b281340",
   "metadata": {},
   "outputs": [
    {
     "data": {
      "text/plain": [
       "array([51.1       , 51.4       , 44.76666667, 42.56666667, 42.43333333,\n",
       "       45.33333333, 54.76666667, 52.96666667, 54.5       , 41.86666667,\n",
       "       52.4       , 48.63333333, 46.63333333, 43.96666667, 52.13333333,\n",
       "       39.56666667, 48.96666667, 57.9       , 49.1       , 53.36666667,\n",
       "       54.3       , 44.8       , 53.96666667, 49.9       , 51.        ,\n",
       "       49.4       , 46.        , 55.73333333, 37.7       , 51.2       ,\n",
       "       53.1       , 48.36666667, 52.16666667, 45.56666667, 52.83333333,\n",
       "       48.13333333, 49.13333333, 44.8       , 49.86666667, 49.06666667,\n",
       "       53.86666667, 55.13333333, 40.66666667, 42.83333333, 50.86666667,\n",
       "       59.6       , 44.66666667, 46.33333333, 46.86666667, 43.7       ,\n",
       "       59.76666667, 47.5       , 49.53333333, 55.73333333, 58.43333333,\n",
       "       45.16666667, 41.86666667, 52.1       , 46.        , 42.43333333,\n",
       "       43.66666667, 45.6       , 54.66666667, 50.        , 54.23333333,\n",
       "       48.43333333, 53.4       , 56.83333333, 54.86666667, 49.83333333,\n",
       "       51.73333333, 50.23333333, 48.06666667, 48.43333333, 45.73333333,\n",
       "       41.06666667, 47.03333333, 51.8       , 48.76666667, 49.26666667,\n",
       "       46.23333333, 49.96666667, 58.2       , 55.26666667, 54.73333333,\n",
       "       56.03333333, 48.43333333, 57.13333333, 44.8       , 47.8       ,\n",
       "       38.93333333, 55.36666667, 53.6       , 52.16666667, 50.63333333,\n",
       "       44.73333333, 52.26666667, 45.3       , 54.46666667, 43.4       ])"
      ]
     },
     "execution_count": 26,
     "metadata": {},
     "output_type": "execute_result"
    }
   ],
   "source": [
    "proms_muestras"
   ]
  },
  {
   "cell_type": "markdown",
   "id": "abfc84c6",
   "metadata": {},
   "source": [
    "Podemos observar que, como era de esperar, los promedios oscilan alrededor de la media de la población (50.5) pero nunca llegarán a ser iguales.\n",
    "\n",
    "Además, estos promedios tendrán variaciones aleatorias alrededor de ese valor central ideal, así que podemos dibujarlos por ejemplo a través de un histograma:"
   ]
  },
  {
   "cell_type": "code",
   "execution_count": 27,
   "id": "be1e6b23",
   "metadata": {},
   "outputs": [
    {
     "data": {
      "image/png": "[encoded data removed]",
      "text/plain": [
       "<Figure size 640x480 with 1 Axes>"
      ]
     },
     "metadata": {},
     "output_type": "display_data"
    }
   ],
   "source": [
    "# Dibujar distribución de los promedios\n",
    "import seaborn as sns\n",
    "\n",
    "sns.histplot(proms_muestras);"
   ]
  },
  {
   "cell_type": "markdown",
   "id": "91d536da",
   "metadata": {},
   "source": [
    "¡Y la gráfica anterior es precisamente una distribución muestral!\n",
    "\n",
    "Podemos usar la misma idea anterior pero en lugar de la media podemos estimar, por ejemplo, la desviación estándar. En lugar de imprimir cada valor dibujaremos la distribución de estas desviaciones calculadas a partir de cada muestra:"
   ]
  },
  {
   "cell_type": "code",
   "execution_count": 30,
   "id": "1be09907",
   "metadata": {},
   "outputs": [
    {
     "name": "stdout",
     "output_type": "stream",
     "text": [
      "[26.66018671 33.98576499 28.14054015 26.67283262 27.31861392 30.41763012\n",
      " 31.92604301 25.81334711 25.74716813 23.95375174 29.03599299 25.40124669\n",
      " 30.13718633 31.21824609 29.54508795 27.04705776 32.80115174 31.78986561\n",
      " 25.95057268 30.97348328 26.14466166 31.22790775 27.04705776 23.93268337\n",
      " 28.68350281 30.03597843 30.6127243  28.97884286 29.0226157  28.67993879\n",
      " 29.54206041 32.69325449 28.03085601 29.48483603 28.77346386 26.32227616\n",
      " 25.17320003 31.41940306 26.27664785 33.72338457 28.839325   25.66287851\n",
      " 28.44480034 28.37567425 28.24621902 30.69239862 26.84111688 28.75453587\n",
      " 33.36498497 31.47245709 27.77778889 21.63343606 29.87745341 24.61049911\n",
      " 27.38531642 30.2735675  29.45610671 31.78189562 24.89221208 28.19773435\n",
      " 24.01305201 27.04900902 32.69243881 24.78720548 27.4245632  28.03705881\n",
      " 31.84596608 27.08318461 26.73260598 31.34044246 29.40689639 29.63048355\n",
      " 28.21150278 33.91926689 25.67324591 24.98730789 25.66339806 26.38368604\n",
      " 27.28662676 28.2933836  31.69558329 27.90382292 28.08164683 29.00620623\n",
      " 32.04630331 28.96098909 26.52244333 22.45194869 27.52421156 28.12559135\n",
      " 26.53417084 29.19132291 24.8088022  25.74060778 28.73248259 28.19054215\n",
      " 29.78308618 27.89585792 28.05195576 28.1088361 ]\n",
      "Desviación de la población: 29.155\n"
     ]
    },
    {
     "data": {
      "image/png": "[encoded data removed]",
      "text/plain": [
       "<Figure size 640x480 with 1 Axes>"
      ]
     },
     "metadata": {},
     "output_type": "display_data"
    }
   ],
   "source": [
    "# Muestreo aleatorio (n=30). Para cada muestra imprimir en pantalla la desviación de la muestra (estimación)\n",
    "n = 30\n",
    "trials = 100\n",
    "\n",
    "distr_muestr = np.zeros((trials,))\n",
    "\n",
    "# Calcular desviación para cada muestra y almacenarla\n",
    "for i in range(trials):\n",
    "    # Tomar muestra\n",
    "    muestra = np.random.choice(pob, n)\n",
    "        \n",
    "    # Almacenar resultado\n",
    "    distr_muestr[i] = muestra.std()\n",
    "    \n",
    "# Graficar distribución de las desviaciones de las muestras\n",
    "sns.histplot(distr_muestr);\n",
    "print(distr_muestr)\n",
    "# Imprimir el valor de referencia: la desviación de la población\n",
    "print(f'Desviación de la población: {pob.std():.3f}')"
   ]
  },
  {
   "cell_type": "code",
   "execution_count": 33,
   "id": "717c9f34",
   "metadata": {},
   "outputs": [
    {
     "data": {
      "application/vnd.microsoft.datawrangler.viewer.v0+json": {
       "columns": [
        {
         "name": "index",
         "rawType": "object",
         "type": "string"
        },
        {
         "name": "0",
         "rawType": "float64",
         "type": "float"
        }
       ],
       "ref": "43c5cd5c-f99e-4c8f-bd42-615889ad5d5e",
       "rows": [
        [
         "count",
         "100.0"
        ],
        [
         "mean",
         "28.3673920155952"
        ],
        [
         "std",
         "2.569077797524193"
        ],
        [
         "min",
         "21.633436055226078"
        ],
        [
         "25%",
         "26.6286827447818"
        ],
        [
         "50%",
         "28.20461856085161"
        ],
        [
         "75%",
         "29.917084663411785"
        ],
        [
         "max",
         "33.98576499392389"
        ]
       ],
       "shape": {
        "columns": 1,
        "rows": 8
       }
      },
      "text/plain": [
       "count    100.000000\n",
       "mean      28.367392\n",
       "std        2.569078\n",
       "min       21.633436\n",
       "25%       26.628683\n",
       "50%       28.204619\n",
       "75%       29.917085\n",
       "max       33.985765\n",
       "dtype: float64"
      ]
     },
     "execution_count": 33,
     "metadata": {},
     "output_type": "execute_result"
    }
   ],
   "source": [
    "import pandas as pd\n",
    "df=pd.Series(distr_muestr)\n",
    "df.describe()"
   ]
  },
  {
   "cell_type": "code",
   "execution_count": 35,
   "id": "3660c989",
   "metadata": {},
   "outputs": [
    {
     "data": {
      "text/plain": [
       "<Axes: >"
      ]
     },
     "execution_count": 35,
     "metadata": {},
     "output_type": "execute_result"
    },
    {
     "data": {
      "image/png": "[encoded data removed]",
      "text/plain": [
       "<Figure size 640x480 with 1 Axes>"
      ]
     },
     "metadata": {},
     "output_type": "display_data"
    }
   ],
   "source": [
    "sns.boxplot(df)"
   ]
  },
  {
   "cell_type": "markdown",
   "id": "14b4ef1f",
   "metadata": {},
   "source": [
    "Y de nuevo vemos que los valores de las desviaciones oscilan alrededor del valor de la población (28.8) y que al generar la gráfica (histograma) tendremos ¡otra distribución muestral!\n",
    "\n",
    "Con esto ya estamos listos para definir ahora sí el concepto."
   ]
  },
  {
   "cell_type": "markdown",
   "id": "8aa809f7",
   "metadata": {},
   "source": [
    "## 2. Definición de la distribución muestral (o distribución de la muestra)\n",
    "\n",
    "Comencemos definiendo el término \"estadística de la muestra\":\n",
    "\n",
    "<p></p>\n",
    "<div style=\"background-color: #F7CAC9; color: black; padding: 10px;\">\n",
    "    La <b>estadística de la muestra</b> es el parámetro estadístico (media, desviación, mediana, rango intercuartiles, etc.) que usaremos para caracterizar la muestra\n",
    "</div>\n",
    "\n",
    "Y con esto ahora sí podemos definir la distribución muestral:\n",
    "\n",
    "<p></p>\n",
    "<div style=\"background-color: #F7CAC9; color: black; padding: 10px;\">\n",
    "    La <b>distribución muestral</b> es la distribución de frecuencias/probabilidades que tendrá la estadística de la muestra cuando la calculamos para múltiples muestras de la población\n",
    "</div>\n",
    "\n",
    "Así que para obtener la distribución muestral:\n",
    "\n",
    "1. Tomamos múltiples muestras de tamaño \"n\" de la población\n",
    "2. Por cada muestra calculamos su estadística (media, desviación, mediana, etc.) y almacenamos el resultado\n",
    "3. Generamos un gráfico para ver la frecuencia o la distribución de estos valores de la estadística"
   ]
  },
  {
   "cell_type": "markdown",
   "id": "6cb35925",
   "metadata": {},
   "source": [
    "## 3. Usos de la distribución muestral\n",
    "\n",
    "1. Como veremos en las próximas lecciones, la distribución muestral es un concepto que nos servirá como punto de partida para medir la confiabilidad de nuestro análisis estadístico\n",
    "\n",
    "2. Además, en Machine Learning, podemos usar la distribución muestral para caracterizar el comportamiento de un modelo: por ejemplo podemos generar la distribución muestral de la exactitud y tener una idea de qué tan exacto será el modelo una vez lo comencemos a generar predicciones con el mismo."
   ]
  },
  {
   "cell_type": "markdown",
   "id": "47e46262",
   "metadata": {},
   "source": [
    "## 4. Aspectos a tener en cuenta\n",
    "\n",
    "1. La distribución muestral es la distribución que tendrán las frecuencias o probabilidades de la estadística que calculemos a partir de las muestras que tomemos de la población original.\n",
    "2. Esta estadística puede ser la media, la desviación estándar, la mediana o cualquier otra, aunque convencionalmente se usa la media (como veremos en las próximas lecciones).\n",
    "3. La distribución muestral nos permitirá entender el teorema del límite central (el tema de la próxima lección) y también los conceptos de error estándar e intervalos de confianza, que nos permitirán medir el grado de fiabilidad de las estimaciones que hagamos a partir de las muestras."
   ]
  },
  {
   "cell_type": "code",
   "execution_count": null,
   "id": "813df309",
   "metadata": {},
   "outputs": [],
   "source": []
  }
 ],
 "metadata": {
  "kernelspec": {
   "display_name": ".venv",
   "language": "python",
   "name": "python3"
  },
  "language_info": {
   "codemirror_mode": {
    "name": "ipython",
    "version": 3
   },
   "file_extension": ".py",
   "mimetype": "text/x-python",
   "name": "python",
   "nbconvert_exporter": "python",
   "pygments_lexer": "ipython3",
   "version": "3.11.9"
  }
 },
 "nbformat": 4,
 "nbformat_minor": 5
}
