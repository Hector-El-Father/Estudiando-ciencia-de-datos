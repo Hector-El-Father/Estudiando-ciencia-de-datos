{
 "cells": [
  {
   "cell_type": "code",
   "execution_count": 7,
   "id": "5d51aefe",
   "metadata": {},
   "outputs": [],
   "source": [
    "import pandas as pd\n",
    "import numpy as np"
   ]
  },
  {
   "cell_type": "code",
   "execution_count": 11,
   "id": "8cfdb9f0",
   "metadata": {},
   "outputs": [
    {
     "data": {
      "text/plain": [
       "array([10, 12, 14, 16, 18, 20, 22, 24, 26, 28, 30, 32, 34, 36, 38, 40, 42,\n",
       "       44, 46, 48])"
      ]
     },
     "execution_count": 11,
     "metadata": {},
     "output_type": "execute_result"
    }
   ],
   "source": [
    "edades=np.arange(10,50,2)\n",
    "edades"
   ]
  },
  {
   "cell_type": "code",
   "execution_count": 12,
   "id": "8338129e",
   "metadata": {},
   "outputs": [
    {
     "data": {
      "text/plain": [
       "array(['menor', 'menor', 'menor', 'menor', 'menor', 'Mayor', 'Mayor',\n",
       "       'Mayor', 'Mayor', 'Mayor', 'Mayor', 'Mayor', 'Mayor', 'Mayor',\n",
       "       'Mayor', 'Mayor', 'Mayor', 'Mayor', 'Mayor', 'Mayor'], dtype='<U5')"
      ]
     },
     "execution_count": 12,
     "metadata": {},
     "output_type": "execute_result"
    }
   ],
   "source": [
    "categorias=np.where(edades>18,\"Mayor\",\"menor\")\n",
    "categorias"
   ]
  },
  {
   "cell_type": "code",
   "execution_count": 14,
   "id": "62321d9b",
   "metadata": {},
   "outputs": [
    {
     "name": "stdout",
     "output_type": "stream",
     "text": [
      "[10 12 14 16 18 20 22 24 26 28 30 32 34 36 38 40 42 44 46 48]\n"
     ]
    },
    {
     "data": {
      "text/plain": [
       "array(['Menor', 'Menor', 'Menor', 'Menor', 'adolescente', 'adolescente',\n",
       "       'adolescente', 'adolescente', 'adolescente', 'adolescente',\n",
       "       'Adulto', 'Adulto', 'Adulto', 'Adulto', 'Adulto', 'Adulto',\n",
       "       'Adulto', 'Adulto', 'Adulto', 'Adulto'], dtype='<U11')"
      ]
     },
     "execution_count": 14,
     "metadata": {},
     "output_type": "execute_result"
    }
   ],
   "source": [
    "subcategorias=np.where(edades<18,\"Menor\", np.where(edades<30,\"adolescente\",\"Adulto\"))\n",
    "print(edades)\n",
    "subcategorias"
   ]
  },
  {
   "cell_type": "code",
   "execution_count": 20,
   "id": "6af030c8",
   "metadata": {},
   "outputs": [
    {
     "name": "stdout",
     "output_type": "stream",
     "text": [
      "['Adulto' 'Menor' 'adolescente']\n"
     ]
    },
    {
     "data": {
      "text/plain": [
       "array([10,  4,  6])"
      ]
     },
     "execution_count": 20,
     "metadata": {},
     "output_type": "execute_result"
    }
   ],
   "source": [
    "valores,conteo=np.unique(subcategorias, return_counts=True)\n",
    "print(valores)\n",
    "conteo"
   ]
  },
  {
   "cell_type": "markdown",
   "id": "4d295123",
   "metadata": {},
   "source": [
    "return counts se utiliza para saber el conteo de cuantas veces se repite en tu arreglo dicha palabra o numero\n",
    "se utilizan dos variables por que en la primera te almacena los valores unicos que encontro\n",
    "mientras que en la segunda te va a regresar el conteo de cada valor\n",
    "para despues poder pasarlos a una lista mientras el metodo zip te miermite crear un diccionario donde las claves son los valores unicos y los valores el conteo que se hizo anteriormente\n"
   ]
  },
  {
   "cell_type": "code",
   "execution_count": 24,
   "id": "7992bec8",
   "metadata": {},
   "outputs": [
    {
     "data": {
      "text/plain": [
       "{np.str_('Adulto'): np.int64(10),\n",
       " np.str_('Menor'): np.int64(4),\n",
       " np.str_('adolescente'): np.int64(6)}"
      ]
     },
     "execution_count": 24,
     "metadata": {},
     "output_type": "execute_result"
    }
   ],
   "source": [
    "diccionario=dict(zip(valores,conteo))\n",
    "diccionario"
   ]
  },
  {
   "cell_type": "code",
   "execution_count": null,
   "id": "c5cdfe76",
   "metadata": {},
   "outputs": [],
   "source": []
  }
 ],
 "metadata": {
  "kernelspec": {
   "display_name": "Python 3",
   "language": "python",
   "name": "python3"
  },
  "language_info": {
   "codemirror_mode": {
    "name": "ipython",
    "version": 3
   },
   "file_extension": ".py",
   "mimetype": "text/x-python",
   "name": "python",
   "nbconvert_exporter": "python",
   "pygments_lexer": "ipython3",
   "version": "3.11.9"
  }
 },
 "nbformat": 4,
 "nbformat_minor": 5
}
